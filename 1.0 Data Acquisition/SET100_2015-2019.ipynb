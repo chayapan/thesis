{
 "cells": [
  {
   "cell_type": "markdown",
   "metadata": {},
   "source": [
    "Requires openpyxl"
   ]
  },
  {
   "cell_type": "raw",
   "metadata": {},
   "source": [
    "import sys, os, os.path # experiment home loaded from \n",
    "print(\"Experiment Home: \", os.path.abspath(os.curdir), \"; Data Home:\", DATA_HOME)"
   ]
  },
  {
   "cell_type": "code",
   "execution_count": 4,
   "metadata": {},
   "outputs": [
    {
     "name": "stdout",
     "output_type": "stream",
     "text": [
      "/opt/workspace\r\n"
     ]
    }
   ],
   "source": [
    "!pwd\n",
    "os.chdir(EXPERIMENT_HOME)"
   ]
  },
  {
   "cell_type": "code",
   "execution_count": 5,
   "metadata": {},
   "outputs": [
    {
     "data": {
      "text/plain": [
       "['DividendYield',\n",
       " 'MarketValue',\n",
       " 'TurnoverByValue',\n",
       " 'TurnoverByVolume',\n",
       " 'auth_group',\n",
       " 'auth_group_permissions',\n",
       " 'auth_permission',\n",
       " 'auth_user',\n",
       " 'auth_user_groups',\n",
       " 'auth_user_user_permissions',\n",
       " 'dataset_set100',\n",
       " 'dataset_set50',\n",
       " 'dataset_stock',\n",
       " 'dataset_stock_set100_membership_periods',\n",
       " 'dataset_stock_set50_membership_periods',\n",
       " 'dataset_timeseries',\n",
       " 'django_admin_log',\n",
       " 'django_content_type',\n",
       " 'django_migrations',\n",
       " 'django_session',\n",
       " 'litreview_literature',\n",
       " 'litreview_literature_refgroups',\n",
       " 'litreview_refgroup',\n",
       " 'set100_companies',\n",
       " 'set100_company_dim',\n",
       " 'set100_daily_fact',\n",
       " 'set100_daily_facts',\n",
       " 'set100_deadlist',\n",
       " 'set100_time_dim',\n",
       " 'set100_updates',\n",
       " 'sqlite_sequence']"
      ]
     },
     "execution_count": 5,
     "metadata": {},
     "output_type": "execute_result"
    }
   ],
   "source": [
    "import sys, os, os.path\n",
    "from sqlalchemy import create_engine\n",
    "engine = create_engine('sqlite:///dataset/stock.db', echo=False)\n",
    "engine.table_names()"
   ]
  },
  {
   "cell_type": "code",
   "execution_count": null,
   "metadata": {},
   "outputs": [],
   "source": [
    "import sqlite3\n",
    "import pandas as pd\n",
    "\n",
    "DB_FILE = 'dataset/stock.db'\n",
    "cnx = sqlite3.connect(DB_FILE)\n",
    "# pd.read_sql_query(\"SELECT * FROM dataset_set50\", cnx)"
   ]
  },
  {
   "cell_type": "markdown",
   "metadata": {},
   "source": [
    "## List of SET100 updates\n",
    "\n",
    "The index had 15 updates during the study period of 2015-2019. These are the records from update_id=Update_3 to update_id=Update_17."
   ]
  },
  {
   "cell_type": "code",
   "execution_count": null,
   "metadata": {},
   "outputs": [],
   "source": [
    "# cnx.commit()\n",
    "# cnx.close()\n",
    "df_uplist = pd.read_sql(\"SELECT update_id AS update_seq, date_from, date_to, date_published FROM dataset_set100\", cnx)\n",
    "df_uplist"
   ]
  },
  {
   "cell_type": "code",
   "execution_count": null,
   "metadata": {},
   "outputs": [],
   "source": []
  },
  {
   "cell_type": "code",
   "execution_count": null,
   "metadata": {},
   "outputs": [],
   "source": [
    "import json\n",
    "addlist = json.loads(open(\"dataset/set100_add_list.json\", \"r\").read())\n",
    "df_addlist = pd.DataFrame()\n",
    "for k, v in addlist.items():\n",
    "    inc = \",\".join(v)\n",
    "    print(k,inc)\n",
    "    df_addlist = df_addlist.append({\"update_seq\": k, \"stocks_added\": inc}, ignore_index=True)\n",
    "# df_addlist"
   ]
  },
  {
   "cell_type": "markdown",
   "metadata": {},
   "source": [
    "Stocks in Update_3\n"
   ]
  },
  {
   "cell_type": "code",
   "execution_count": null,
   "metadata": {},
   "outputs": [],
   "source": [
    "df_up3 = pd.read_sql(\"SELECT constituents FROM dataset_set100 WHERE update_id='Update_3'\", cnx)\n",
    "up3_stocks = df_up3[0:1].values[0][0].replace(\" \",\",\")\n",
    "print(\"Update_3 \" + up3_stocks)"
   ]
  },
  {
   "cell_type": "code",
   "execution_count": null,
   "metadata": {},
   "outputs": [],
   "source": [
    "up = {}\n",
    "for i in range(3,18):\n",
    "    df_up = pd.read_sql(\"SELECT constituents FROM dataset_set100 WHERE update_id='Update_%s'\" % i, cnx)\n",
    "    stocks = set(df_up[0:1].values[0][0].replace(\" \",\",\").split(','))\n",
    "    up[i] = stocks\n",
    "up"
   ]
  },
  {
   "cell_type": "code",
   "execution_count": null,
   "metadata": {},
   "outputs": [],
   "source": [
    "up[4].difference(up[3]) # Added in 3"
   ]
  },
  {
   "cell_type": "code",
   "execution_count": null,
   "metadata": {},
   "outputs": [],
   "source": [
    "up[3].difference(up[4]) # Removed in 3"
   ]
  },
  {
   "cell_type": "code",
   "execution_count": null,
   "metadata": {},
   "outputs": [],
   "source": [
    "up[16].difference(up[17])"
   ]
  },
  {
   "cell_type": "code",
   "execution_count": null,
   "metadata": {},
   "outputs": [],
   "source": [
    "len(up[17])"
   ]
  },
  {
   "cell_type": "code",
   "execution_count": null,
   "metadata": {
    "scrolled": true
   },
   "outputs": [],
   "source": [
    "df_addlist.loc[df_addlist[\"update_seq\"]=='Update_3','stocks_added'] = up3_stocks\n",
    "df_addlist[[\"update_seq\", \"stocks_added\"]]"
   ]
  },
  {
   "cell_type": "code",
   "execution_count": null,
   "metadata": {},
   "outputs": [],
   "source": [
    "# Union all stocks"
   ]
  },
  {
   "cell_type": "code",
   "execution_count": null,
   "metadata": {},
   "outputs": [],
   "source": [
    "union_set = set()\n",
    "for r in df_addlist[\"stocks_added\"]:\n",
    "    # print(r.split(\",\"))\n",
    "    union_set.update(r.split(\",\"))\n",
    "len(union_set)"
   ]
  },
  {
   "cell_type": "code",
   "execution_count": null,
   "metadata": {},
   "outputs": [],
   "source": [
    "df_stocks = pd.DataFrame(sorted(list(union_set)), columns=['ticker'])\n",
    "df_stocks.index = range(1, len(df_stocks) + 1)\n",
    "df_stocks"
   ]
  },
  {
   "cell_type": "markdown",
   "metadata": {},
   "source": [
    "# Save Output\n",
    "\n"
   ]
  },
  {
   "cell_type": "code",
   "execution_count": null,
   "metadata": {},
   "outputs": [],
   "source": [
    "!pip install "
   ]
  },
  {
   "cell_type": "code",
   "execution_count": null,
   "metadata": {},
   "outputs": [],
   "source": [
    "# See documentation https://pandas.pydata.org/pandas-docs/stable/reference/api/pandas.DataFrame.to_excel.html\n",
    "\n",
    "with pd.ExcelWriter(\"SET100.xlsx\") as writer:\n",
    "    df_uplist.to_excel(writer, sheet_name=\"1-UpdateSeq\")\n",
    "    df_addlist[[\"update_seq\", \"stocks_added\"]].to_excel(writer, sheet_name=\"2-StocksAdded\")\n",
    "    df_stocks.to_excel(writer, sheet_name=\"3-AllStocks\")"
   ]
  },
  {
   "cell_type": "markdown",
   "metadata": {},
   "source": [
    "# In-Memory Dataframe"
   ]
  },
  {
   "cell_type": "markdown",
   "metadata": {},
   "source": [
    "Get stocks in the dataset folder. The stocks are indexed in _directory.csv."
   ]
  },
  {
   "cell_type": "code",
   "execution_count": null,
   "metadata": {},
   "outputs": [],
   "source": [
    "os.chdir(\"/home/jovyan/dataset/set100.data\")\n",
    "stocks = pd.read_csv('_directory.csv', index_col=0)\n",
    "print(\"Stocks count:\", len(stocks))\n",
    "stocks.tail()"
   ]
  },
  {
   "cell_type": "markdown",
   "metadata": {},
   "source": [
    "Construct an in-memory dataframe containing all stocks time-series."
   ]
  },
  {
   "cell_type": "code",
   "execution_count": null,
   "metadata": {},
   "outputs": [],
   "source": [
    "period_start='2015-01-01'\n",
    "period_end='2019-12-31'\n",
    "series = {}\n",
    "\n",
    "# Set index for data series to the date column\n",
    "# Add column ticker, sector, industry, observation count \n",
    "#   to each data series and combine to single dictionary\n",
    "for s in stocks.symbol.values:\n",
    "    df = pd.read_csv(\"%s.csv\" % s, index_col=0)\n",
    "    df.loc[:,('Date')] = df.index\n",
    "    df['Ticker'] = s\n",
    "    sector = stocks[stocks['symbol']==s].sector.values[0]\n",
    "    df['Sector'] = sector\n",
    "    industry = stocks[stocks['symbol']==s].industry.values[0]\n",
    "    df['Industry'] = industry\n",
    "    df['Observations'] = len(df)\n",
    "    series[s] = df[period_start:period_end]\n",
    "# The dictionary 'series' contains time-series with key ticker.\n",
    "# Stack dataframes together as one dataframe.\n",
    "rows = []\n",
    "for k, d in series.items():\n",
    "    rows.append(d)\n",
    "df = pd.concat(rows, ignore_index=True)"
   ]
  },
  {
   "cell_type": "code",
   "execution_count": null,
   "metadata": {},
   "outputs": [],
   "source": [
    "# Pivot table: Value=Observations; the number of data observations for the stock.\n",
    "ptable = df.pivot_table(values='Observations', index='Date', columns=['Industry', 'Sector', 'Ticker'])\n",
    "ptable.tail()"
   ]
  },
  {
   "cell_type": "code",
   "execution_count": null,
   "metadata": {},
   "outputs": [],
   "source": [
    "# Observations count at last date of the dataset.\n",
    "table_7 = ptable['2019-12-31':].T\n",
    "table_7"
   ]
  },
  {
   "cell_type": "code",
   "execution_count": null,
   "metadata": {},
   "outputs": [],
   "source": [
    "# table_7.to_csv('table_7.csv')"
   ]
  },
  {
   "cell_type": "code",
   "execution_count": null,
   "metadata": {},
   "outputs": [],
   "source": [
    "\n",
    "# table = df.pivot(columns='Ticker')['Observations'] # Pivot table\n",
    "# table\n",
    "\n",
    "# table_7.pivot()['Ticker']"
   ]
  },
  {
   "cell_type": "code",
   "execution_count": null,
   "metadata": {},
   "outputs": [],
   "source": [
    "\n",
    "# table = df.pivot(columns='Ticker')['Observations'] # Pivot table\n",
    "# table\n",
    "\n",
    "# table_7.pivot()['Ticker']"
   ]
  },
  {
   "cell_type": "code",
   "execution_count": null,
   "metadata": {},
   "outputs": [],
   "source": [
    "# output = os.path.join(os.environ['EXPERIMENT_HOME'],'tables','table_7')\n",
    "# table_7.to_csv(output)\n",
    "\n",
    "# table_7[['Ticker']].index\n",
    "table_7.columns"
   ]
  },
  {
   "cell_type": "code",
   "execution_count": null,
   "metadata": {},
   "outputs": [],
   "source": [
    "# Get ticker from multiindex.\n",
    "# tickers = np.array([i[2] for i in table_7.index.values])\n",
    "\n",
    "fig, ax = plt.subplots(figsize=(8,18))\n",
    "table_7.plot.barh(ax=ax, legend=False) # , xticks=tickers to change ticker\n",
    "\n",
    "ax.tick_params(axis='y', which='major', labelsize=10)\n",
    "ax.tick_params(axis='y', which='minor', labelsize=8)\n",
    "plt.xlabel('Observations Count (Closing Price)')\n",
    "plt.title(\"SET100 Stocks: Closing price observations during 2015-2019\")"
   ]
  }
 ],
 "metadata": {
  "kernelspec": {
   "display_name": "Python 3",
   "language": "python",
   "name": "python3"
  },
  "language_info": {
   "codemirror_mode": {
    "name": "ipython",
    "version": 3
   },
   "file_extension": ".py",
   "mimetype": "text/x-python",
   "name": "python",
   "nbconvert_exporter": "python",
   "pygments_lexer": "ipython3",
   "version": "3.7.4"
  }
 },
 "nbformat": 4,
 "nbformat_minor": 2
}
