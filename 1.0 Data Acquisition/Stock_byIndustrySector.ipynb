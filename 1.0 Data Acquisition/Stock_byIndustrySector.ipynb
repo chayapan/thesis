{
 "cells": [
  {
   "cell_type": "markdown",
   "metadata": {},
   "source": [
    "\n",
    "\n",
    "See 1.2.1 List of Stocks and data file stock_ticker.csv"
   ]
  },
  {
   "cell_type": "code",
   "execution_count": 5,
   "metadata": {},
   "outputs": [],
   "source": [
    "import requests\n",
    "import xlrd\n",
    "import pandas as pd\n",
    "\n",
    "# r = requests.get('https://www.set.or.th/dat/eod/listedcompany/static/listedCompanies_th_TH.xls')\n"
   ]
  },
  {
   "cell_type": "code",
   "execution_count": 8,
   "metadata": {},
   "outputs": [
    {
     "data": {
      "text/html": [
       "<div>\n",
       "<style scoped>\n",
       "    .dataframe tbody tr th:only-of-type {\n",
       "        vertical-align: middle;\n",
       "    }\n",
       "\n",
       "    .dataframe tbody tr th {\n",
       "        vertical-align: top;\n",
       "    }\n",
       "\n",
       "    .dataframe thead th {\n",
       "        text-align: right;\n",
       "    }\n",
       "</style>\n",
       "<table border=\"1\" class=\"dataframe\">\n",
       "  <thead>\n",
       "    <tr style=\"text-align: right;\">\n",
       "      <th></th>\n",
       "      <th>Unnamed: 0</th>\n",
       "      <th>symbol</th>\n",
       "      <th>exchange</th>\n",
       "      <th>industry</th>\n",
       "      <th>sector</th>\n",
       "      <th>name</th>\n",
       "    </tr>\n",
       "  </thead>\n",
       "  <tbody>\n",
       "    <tr>\n",
       "      <td>0</td>\n",
       "      <td>7UP</td>\n",
       "      <td>7UP</td>\n",
       "      <td>SET</td>\n",
       "      <td>ทรัพยากร</td>\n",
       "      <td>พลังงานและสาธารณูปโภค</td>\n",
       "      <td>บริษัท เซเว่น ยูทิลิตี้ส์ แอนด์ พาวเวอร์ จำกัด...</td>\n",
       "    </tr>\n",
       "    <tr>\n",
       "      <td>1</td>\n",
       "      <td>A</td>\n",
       "      <td>A</td>\n",
       "      <td>SET</td>\n",
       "      <td>อสังหาริมทรัพย์และก่อสร้าง</td>\n",
       "      <td>พัฒนาอสังหาริมทรัพย์</td>\n",
       "      <td>บริษัท อารียา พรอพเพอร์ตี้ จำกัด (มหาชน)</td>\n",
       "    </tr>\n",
       "    <tr>\n",
       "      <td>2</td>\n",
       "      <td>AAV</td>\n",
       "      <td>AAV</td>\n",
       "      <td>SET</td>\n",
       "      <td>บริการ</td>\n",
       "      <td>ขนส่งและโลจิสติกส์</td>\n",
       "      <td>บริษัท เอเชีย เอวิเอชั่น จำกัด (มหาชน)</td>\n",
       "    </tr>\n",
       "    <tr>\n",
       "      <td>3</td>\n",
       "      <td>ABPIF</td>\n",
       "      <td>ABPIF</td>\n",
       "      <td>SET</td>\n",
       "      <td>ทรัพยากร</td>\n",
       "      <td>พลังงานและสาธารณูปโภค</td>\n",
       "      <td>กองทุนรวมโครงสร้างพื้นฐานโรงไฟฟ้า อมตะ บี.กริม...</td>\n",
       "    </tr>\n",
       "    <tr>\n",
       "      <td>4</td>\n",
       "      <td>ACC</td>\n",
       "      <td>ACC</td>\n",
       "      <td>SET</td>\n",
       "      <td>สินค้าอุปโภคบริโภค</td>\n",
       "      <td>ของใช้ในครัวเรือนและสำนักงาน</td>\n",
       "      <td>บริษัท แอดวานซ์ คอนเนคชั่น คอร์ปอเรชั่น จำกัด ...</td>\n",
       "    </tr>\n",
       "    <tr>\n",
       "      <td>...</td>\n",
       "      <td>...</td>\n",
       "      <td>...</td>\n",
       "      <td>...</td>\n",
       "      <td>...</td>\n",
       "      <td>...</td>\n",
       "      <td>...</td>\n",
       "    </tr>\n",
       "    <tr>\n",
       "      <td>567</td>\n",
       "      <td>WP</td>\n",
       "      <td>WP</td>\n",
       "      <td>SET</td>\n",
       "      <td>ทรัพยากร</td>\n",
       "      <td>พลังงานและสาธารณูปโภค</td>\n",
       "      <td>บริษัท ดับบลิวพี เอ็นเนอร์ยี่ จำกัด (มหาชน)</td>\n",
       "    </tr>\n",
       "    <tr>\n",
       "      <td>568</td>\n",
       "      <td>WPH</td>\n",
       "      <td>WPH</td>\n",
       "      <td>SET</td>\n",
       "      <td>บริการ</td>\n",
       "      <td>การแพทย์</td>\n",
       "      <td>บริษัท โรงพยาบาลวัฒนแพทย์ ตรัง จำกัด (มหาชน)</td>\n",
       "    </tr>\n",
       "    <tr>\n",
       "      <td>569</td>\n",
       "      <td>YCI</td>\n",
       "      <td>YCI</td>\n",
       "      <td>SET</td>\n",
       "      <td>สินค้าอุตสาหกรรม</td>\n",
       "      <td>ปิโตรเคมีและเคมีภัณฑ์</td>\n",
       "      <td>บริษัท ยงไทย จำกัด (มหาชน)</td>\n",
       "    </tr>\n",
       "    <tr>\n",
       "      <td>570</td>\n",
       "      <td>ZEN</td>\n",
       "      <td>ZEN</td>\n",
       "      <td>SET</td>\n",
       "      <td>เกษตรและอุตสาหกรรมอาหาร</td>\n",
       "      <td>อาหารและเครื่องดื่ม</td>\n",
       "      <td>บริษัท เซ็น คอร์ปอเรชั่น กรุ๊ป จำกัด (มหาชน)</td>\n",
       "    </tr>\n",
       "    <tr>\n",
       "      <td>571</td>\n",
       "      <td>ZMICO</td>\n",
       "      <td>ZMICO</td>\n",
       "      <td>SET</td>\n",
       "      <td>ธุรกิจการเงิน</td>\n",
       "      <td>เงินทุนและหลักทรัพย์</td>\n",
       "      <td>บริษัทหลักทรัพย์ ซีมิโก้ จำกัด (มหาชน)</td>\n",
       "    </tr>\n",
       "  </tbody>\n",
       "</table>\n",
       "<p>572 rows × 6 columns</p>\n",
       "</div>"
      ],
      "text/plain": [
       "    Unnamed: 0 symbol exchange                    industry  \\\n",
       "0          7UP    7UP      SET                    ทรัพยากร   \n",
       "1            A      A      SET  อสังหาริมทรัพย์และก่อสร้าง   \n",
       "2          AAV    AAV      SET                      บริการ   \n",
       "3        ABPIF  ABPIF      SET                    ทรัพยากร   \n",
       "4          ACC    ACC      SET          สินค้าอุปโภคบริโภค   \n",
       "..         ...    ...      ...                         ...   \n",
       "567         WP     WP      SET                    ทรัพยากร   \n",
       "568        WPH    WPH      SET                      บริการ   \n",
       "569        YCI    YCI      SET            สินค้าอุตสาหกรรม   \n",
       "570        ZEN    ZEN      SET     เกษตรและอุตสาหกรรมอาหาร   \n",
       "571      ZMICO  ZMICO      SET               ธุรกิจการเงิน   \n",
       "\n",
       "                           sector  \\\n",
       "0           พลังงานและสาธารณูปโภค   \n",
       "1            พัฒนาอสังหาริมทรัพย์   \n",
       "2              ขนส่งและโลจิสติกส์   \n",
       "3           พลังงานและสาธารณูปโภค   \n",
       "4    ของใช้ในครัวเรือนและสำนักงาน   \n",
       "..                            ...   \n",
       "567         พลังงานและสาธารณูปโภค   \n",
       "568                      การแพทย์   \n",
       "569         ปิโตรเคมีและเคมีภัณฑ์   \n",
       "570           อาหารและเครื่องดื่ม   \n",
       "571          เงินทุนและหลักทรัพย์   \n",
       "\n",
       "                                                  name  \n",
       "0    บริษัท เซเว่น ยูทิลิตี้ส์ แอนด์ พาวเวอร์ จำกัด...  \n",
       "1             บริษัท อารียา พรอพเพอร์ตี้ จำกัด (มหาชน)  \n",
       "2               บริษัท เอเชีย เอวิเอชั่น จำกัด (มหาชน)  \n",
       "3    กองทุนรวมโครงสร้างพื้นฐานโรงไฟฟ้า อมตะ บี.กริม...  \n",
       "4    บริษัท แอดวานซ์ คอนเนคชั่น คอร์ปอเรชั่น จำกัด ...  \n",
       "..                                                 ...  \n",
       "567        บริษัท ดับบลิวพี เอ็นเนอร์ยี่ จำกัด (มหาชน)  \n",
       "568       บริษัท โรงพยาบาลวัฒนแพทย์ ตรัง จำกัด (มหาชน)  \n",
       "569                         บริษัท ยงไทย จำกัด (มหาชน)  \n",
       "570       บริษัท เซ็น คอร์ปอเรชั่น กรุ๊ป จำกัด (มหาชน)  \n",
       "571             บริษัทหลักทรัพย์ ซีมิโก้ จำกัด (มหาชน)  \n",
       "\n",
       "[572 rows x 6 columns]"
      ]
     },
     "execution_count": 8,
     "metadata": {},
     "output_type": "execute_result"
    }
   ],
   "source": [
    "df = pd.read_csv('stock_ticker.csv')\n",
    "df"
   ]
  },
  {
   "cell_type": "code",
   "execution_count": 11,
   "metadata": {},
   "outputs": [
    {
     "data": {
      "text/plain": [
       "'ทรัพยากร'"
      ]
     },
     "execution_count": 11,
     "metadata": {},
     "output_type": "execute_result"
    }
   ],
   "source": [
    "df.loc[df['symbol']=='WP'].industry.values[0]\n",
    "#   name = lookup.loc[lookup['name']==name].symbol.values[0]\n"
   ]
  },
  {
   "cell_type": "code",
   "execution_count": 12,
   "metadata": {},
   "outputs": [
    {
     "data": {
      "text/plain": [
       "'พลังงานและสาธารณูปโภค'"
      ]
     },
     "execution_count": 12,
     "metadata": {},
     "output_type": "execute_result"
    }
   ],
   "source": [
    "df.loc[df['symbol']=='WP'].sector.values[0]"
   ]
  },
  {
   "cell_type": "code",
   "execution_count": null,
   "metadata": {},
   "outputs": [],
   "source": []
  }
 ],
 "metadata": {
  "kernelspec": {
   "display_name": "Python 3",
   "language": "python",
   "name": "python3"
  },
  "language_info": {
   "codemirror_mode": {
    "name": "ipython",
    "version": 3
   },
   "file_extension": ".py",
   "mimetype": "text/x-python",
   "name": "python",
   "nbconvert_exporter": "python",
   "pygments_lexer": "ipython3",
   "version": "3.7.4"
  }
 },
 "nbformat": 4,
 "nbformat_minor": 2
}
