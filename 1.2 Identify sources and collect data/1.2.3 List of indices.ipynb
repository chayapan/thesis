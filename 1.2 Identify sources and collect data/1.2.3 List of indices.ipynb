{
 "cells": [
  {
   "cell_type": "markdown",
   "metadata": {},
   "source": [
    "# 1.2.3 List of indices\n",
    "\n",
    "\n",
    "ดัชนี SET50 และ SET100\n",
    "\n",
    "รายชื่อหลักทรัพย์ที่ใช้คำนวณดัชนี SET50, SET100, sSET และ SETHD\n",
    "https://www.set.or.th/th/market/constituents.html\n",
    "\n",
    "\n",
    "https://www.set.or.th/th/market/files/constituents/SET50_100_H1_2020_revised.pdf\n",
    "ระหว่าง 1 ม.ค. 2563 ถึง 30 มิ.ย. 2563 – ปรับปรุงระหว่างรอบการคัดเลือก\n",
    "\n",
    "\n",
    "กราฟราคาดัชนีย้อนหลัง\n",
    "https://www.set.or.th/th/market/setindexchart.html\n",
    "\n",
    "ดัชนีผลตอบแทนรวม (TRI)\n",
    "https://www.set.or.th/th/market/trichart.html"
   ]
  },
  {
   "cell_type": "code",
   "execution_count": null,
   "metadata": {},
   "outputs": [],
   "source": []
  }
 ],
 "metadata": {
  "kernelspec": {
   "display_name": "Python 3",
   "language": "python",
   "name": "python3"
  },
  "language_info": {
   "codemirror_mode": {
    "name": "ipython",
    "version": 3
   },
   "file_extension": ".py",
   "mimetype": "text/x-python",
   "name": "python",
   "nbconvert_exporter": "python",
   "pygments_lexer": "ipython3",
   "version": "3.7.4"
  }
 },
 "nbformat": 4,
 "nbformat_minor": 4
}
