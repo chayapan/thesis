{
 "cells": [
  {
   "cell_type": "markdown",
   "metadata": {},
   "source": [
    "https://docs.scipy.org/doc/scipy/reference/generated/scipy.cluster.hierarchy.dendrogram.html"
   ]
  },
  {
   "cell_type": "code",
   "execution_count": 3,
   "metadata": {},
   "outputs": [],
   "source": [
    "from scipy.cluster import hierarchy\n",
    "import matplotlib.pyplot as plt\n",
    "import numpy as np"
   ]
  },
  {
   "cell_type": "code",
   "execution_count": 4,
   "metadata": {},
   "outputs": [],
   "source": [
    "ytdist = np.array([662., 877., 255., 412., 996., 295., 468., 268.,\n",
    "                   400., 754., 564., 138., 219., 869., 669.])"
   ]
  },
  {
   "cell_type": "code",
   "execution_count": 14,
   "metadata": {},
   "outputs": [
    {
     "data": {
      "image/png": "[encoded data removed]",
      "text/plain": [
       "<Figure size 432x288 with 1 Axes>"
      ]
     },
     "metadata": {
      "needs_background": "light"
     },
     "output_type": "display_data"
    }
   ],
   "source": [
    "Z = hierarchy.linkage(ytdist, 'single')\n",
    "plt.figure()\n",
    "dn = hierarchy.dendrogram(Z)"
   ]
  },
  {
   "cell_type": "code",
   "execution_count": 6,
   "metadata": {},
   "outputs": [
    {
     "data": {
      "text/plain": [
       "array([[  2.,   5., 138.,   2.],\n",
       "       [  3.,   4., 219.,   2.],\n",
       "       [  0.,   7., 255.,   3.],\n",
       "       [  1.,   8., 268.,   4.],\n",
       "       [  6.,   9., 295.,   6.]])"
      ]
     },
     "execution_count": 6,
     "metadata": {},
     "output_type": "execute_result"
    }
   ],
   "source": [
    "Z"
   ]
  },
  {
   "cell_type": "code",
   "execution_count": 7,
   "metadata": {},
   "outputs": [
    {
     "data": {
      "text/plain": [
       "{'icoord': [[5.0, 5.0, 15.0, 15.0],\n",
       "  [45.0, 45.0, 55.0, 55.0],\n",
       "  [35.0, 35.0, 50.0, 50.0],\n",
       "  [25.0, 25.0, 42.5, 42.5],\n",
       "  [10.0, 10.0, 33.75, 33.75]],\n",
       " 'dcoord': [[0.0, 138.0, 138.0, 0.0],\n",
       "  [0.0, 219.0, 219.0, 0.0],\n",
       "  [0.0, 255.0, 255.0, 219.0],\n",
       "  [0.0, 268.0, 268.0, 255.0],\n",
       "  [138.0, 295.0, 295.0, 268.0]],\n",
       " 'ivl': ['2', '5', '1', '0', '3', '4'],\n",
       " 'leaves': [2, 5, 1, 0, 3, 4],\n",
       " 'color_list': ['g', 'b', 'b', 'b', 'b']}"
      ]
     },
     "execution_count": 7,
     "metadata": {},
     "output_type": "execute_result"
    }
   ],
   "source": [
    "dn"
   ]
  },
  {
   "cell_type": "code",
   "execution_count": 15,
   "metadata": {},
   "outputs": [
    {
     "data": {
      "text/plain": [
       "<scipy.cluster.hierarchy.ClusterNode at 0x7fbcddc0cf50>"
      ]
     },
     "execution_count": 15,
     "metadata": {},
     "output_type": "execute_result"
    }
   ],
   "source": [
    "from scipy.cluster.hierarchy import to_tree\n",
    "from scipy.spatial.distance import pdist\n",
    "from scipy.spatial.distance import squareform\n",
    "\n",
    "tree = to_tree(Z)\n",
    "tree"
   ]
  },
  {
   "cell_type": "code",
   "execution_count": 16,
   "metadata": {},
   "outputs": [
    {
     "data": {
      "text/plain": [
       "6"
      ]
     },
     "execution_count": 16,
     "metadata": {},
     "output_type": "execute_result"
    }
   ],
   "source": [
    "tree.count"
   ]
  },
  {
   "cell_type": "code",
   "execution_count": 18,
   "metadata": {},
   "outputs": [
    {
     "data": {
      "text/plain": [
       "array([[  0., 662., 877., 255., 412., 996.],\n",
       "       [662.,   0., 295., 468., 268., 400.],\n",
       "       [877., 295.,   0., 754., 564., 138.],\n",
       "       [255., 468., 754.,   0., 219., 869.],\n",
       "       [412., 268., 564., 219.,   0., 669.],\n",
       "       [996., 400., 138., 869., 669.,   0.]])"
      ]
     },
     "execution_count": 18,
     "metadata": {},
     "output_type": "execute_result"
    }
   ],
   "source": [
    "# \n",
    "# https://docs.scipy.org/doc/scipy/reference/generated/scipy.spatial.distance.squareform.html\n",
    "\n",
    "squareform(ytdist)"
   ]
  },
  {
   "cell_type": "code",
   "execution_count": null,
   "metadata": {},
   "outputs": [],
   "source": []
  }
 ],
 "metadata": {
  "kernelspec": {
   "display_name": "Python 3",
   "language": "python",
   "name": "python3"
  },
  "language_info": {
   "codemirror_mode": {
    "name": "ipython",
    "version": 3
   },
   "file_extension": ".py",
   "mimetype": "text/x-python",
   "name": "python",
   "nbconvert_exporter": "python",
   "pygments_lexer": "ipython3",
   "version": "3.7.4"
  }
 },
 "nbformat": 4,
 "nbformat_minor": 4
}
