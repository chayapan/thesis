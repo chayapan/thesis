{
 "cells": [
  {
   "cell_type": "markdown",
   "metadata": {},
   "source": [
    "\n",
    "\n",
    "https://jakevdp.github.io/PythonDataScienceHandbook/05.09-principal-component-analysis.html"
   ]
  },
  {
   "cell_type": "code",
   "execution_count": 2,
   "metadata": {},
   "outputs": [
    {
     "name": "stdout",
     "output_type": "stream",
     "text": [
      "Experiment Home:  /home/jovyan ; Data Home: /home/jovyan/dataset\n"
     ]
    }
   ],
   "source": [
    "import sys, os, os.path\n",
    "if not 'EXPERIMENT_HOME' in os.environ: # Configure local paths if not already defined\n",
    "    ML_HOME = os.path.abspath(os.path.join(\"/home/jovyan\", \"ml_home\")) # ML workspace\n",
    "    EXPERIMENT_HOME = os.path.abspath(os.path.join(ML_HOME, \"..\")) # Experiment workspace\n",
    "    DATA_HOME = os.path.abspath(os.path.join(EXPERIMENT_HOME,\"dataset\")) # Dataset location\n",
    "    os.environ[\"EXPERIMENT_HOME\"] = EXPERIMENT_HOME\n",
    "    os.environ[\"DATA_HOME\"] = DATA_HOME\n",
    "    sys.path.insert(0, EXPERIMENT_HOME)\n",
    "    sys.path.insert(0, ML_HOME) # Add to path so can load our library\n",
    "    os.chdir(EXPERIMENT_HOME) # Change working directory to experiment workspace\n",
    "print(\"Experiment Home: \", os.path.abspath(os.curdir), \"; Data Home:\", DATA_HOME)"
   ]
  },
  {
   "cell_type": "code",
   "execution_count": 3,
   "metadata": {},
   "outputs": [],
   "source": [
    "from datetime import datetime\n",
    "import pandas as pd\n",
    "import pandas_datareader as pdr\n",
    "import datetime as dt\n",
    "import xlrd\n",
    "import matplotlib.pyplot as plt\n",
    "from preprocessing import add_feature_set_1\n",
    "%matplotlib inline\n"
   ]
  },
  {
   "cell_type": "code",
   "execution_count": 4,
   "metadata": {},
   "outputs": [
    {
     "name": "stdout",
     "output_type": "stream",
     "text": [
      "Stocks count: 150\n"
     ]
    },
    {
     "data": {
      "text/html": [
       "<div>\n",
       "<style scoped>\n",
       "    .dataframe tbody tr th:only-of-type {\n",
       "        vertical-align: middle;\n",
       "    }\n",
       "\n",
       "    .dataframe tbody tr th {\n",
       "        vertical-align: top;\n",
       "    }\n",
       "\n",
       "    .dataframe thead th {\n",
       "        text-align: right;\n",
       "    }\n",
       "</style>\n",
       "<table border=\"1\" class=\"dataframe\">\n",
       "  <thead>\n",
       "    <tr style=\"text-align: right;\">\n",
       "      <th></th>\n",
       "      <th>company_name</th>\n",
       "      <th>industry</th>\n",
       "      <th>sector</th>\n",
       "      <th>symbol</th>\n",
       "    </tr>\n",
       "    <tr>\n",
       "      <th>ticker</th>\n",
       "      <th></th>\n",
       "      <th></th>\n",
       "      <th></th>\n",
       "      <th></th>\n",
       "    </tr>\n",
       "  </thead>\n",
       "  <tbody>\n",
       "    <tr>\n",
       "      <th>VIBHA</th>\n",
       "      <td>VIBHAVADI MEDICAL CENTER PUBLIC COMPANY LIMITED</td>\n",
       "      <td>Services</td>\n",
       "      <td>Health Care Services</td>\n",
       "      <td>VIBHA</td>\n",
       "    </tr>\n",
       "    <tr>\n",
       "      <th>VNG</th>\n",
       "      <td>VANACHAI GROUP PUBLIC COMPANY LIMITED</td>\n",
       "      <td>Property &amp; Construction</td>\n",
       "      <td>Construction Materials</td>\n",
       "      <td>VNG</td>\n",
       "    </tr>\n",
       "    <tr>\n",
       "      <th>WHA</th>\n",
       "      <td>WHA CORPORATION PUBLIC COMPANY LIMITED</td>\n",
       "      <td>Property &amp; Construction</td>\n",
       "      <td>Property Development</td>\n",
       "      <td>WHA</td>\n",
       "    </tr>\n",
       "    <tr>\n",
       "      <th>WHAUP</th>\n",
       "      <td>WHA UTILITIES AND POWER PUBLIC COMPANY LIMITED</td>\n",
       "      <td>Resources</td>\n",
       "      <td>Energy &amp; Utilities</td>\n",
       "      <td>WHAUP</td>\n",
       "    </tr>\n",
       "    <tr>\n",
       "      <th>WORK</th>\n",
       "      <td>WORKPOINT ENTERTAINMENT PUBLIC COMPANY LIMITED</td>\n",
       "      <td>Services</td>\n",
       "      <td>Media &amp; Publishing</td>\n",
       "      <td>WORK</td>\n",
       "    </tr>\n",
       "  </tbody>\n",
       "</table>\n",
       "</div>"
      ],
      "text/plain": [
       "                                           company_name  \\\n",
       "ticker                                                    \n",
       "VIBHA   VIBHAVADI MEDICAL CENTER PUBLIC COMPANY LIMITED   \n",
       "VNG               VANACHAI GROUP PUBLIC COMPANY LIMITED   \n",
       "WHA              WHA CORPORATION PUBLIC COMPANY LIMITED   \n",
       "WHAUP    WHA UTILITIES AND POWER PUBLIC COMPANY LIMITED   \n",
       "WORK     WORKPOINT ENTERTAINMENT PUBLIC COMPANY LIMITED   \n",
       "\n",
       "                       industry                  sector symbol  \n",
       "ticker                                                          \n",
       "VIBHA                  Services    Health Care Services  VIBHA  \n",
       "VNG     Property & Construction  Construction Materials    VNG  \n",
       "WHA     Property & Construction    Property Development    WHA  \n",
       "WHAUP                 Resources      Energy & Utilities  WHAUP  \n",
       "WORK                   Services      Media & Publishing   WORK  "
      ]
     },
     "execution_count": 4,
     "metadata": {},
     "output_type": "execute_result"
    }
   ],
   "source": [
    "os.chdir(\"/home/jovyan/dataset/set100.data\")\n",
    "stocks = pd.read_csv('_directory.csv', index_col=0)\n",
    "print(\"Stocks count:\", len(stocks))\n",
    "stocks.tail()"
   ]
  },
  {
   "cell_type": "code",
   "execution_count": 6,
   "metadata": {},
   "outputs": [],
   "source": [
    "df = pd.read_csv('_fs1.csv.gz') # Load FS01 dataset"
   ]
  },
  {
   "cell_type": "code",
   "execution_count": 7,
   "metadata": {},
   "outputs": [
    {
     "data": {
      "text/html": [
       "<div>\n",
       "<style scoped>\n",
       "    .dataframe tbody tr th:only-of-type {\n",
       "        vertical-align: middle;\n",
       "    }\n",
       "\n",
       "    .dataframe tbody tr th {\n",
       "        vertical-align: top;\n",
       "    }\n",
       "\n",
       "    .dataframe thead th {\n",
       "        text-align: right;\n",
       "    }\n",
       "</style>\n",
       "<table border=\"1\" class=\"dataframe\">\n",
       "  <thead>\n",
       "    <tr style=\"text-align: right;\">\n",
       "      <th></th>\n",
       "      <th>Unnamed: 0</th>\n",
       "      <th>Price</th>\n",
       "      <th>MV</th>\n",
       "      <th>VA</th>\n",
       "      <th>VO</th>\n",
       "      <th>DY</th>\n",
       "      <th>Date</th>\n",
       "      <th>Ticker</th>\n",
       "      <th>Sector</th>\n",
       "      <th>Industry</th>\n",
       "      <th>...</th>\n",
       "      <th>FF-02</th>\n",
       "      <th>FF-03</th>\n",
       "      <th>FF-04</th>\n",
       "      <th>FF-05</th>\n",
       "      <th>FF-06</th>\n",
       "      <th>FF-07</th>\n",
       "      <th>FF-08</th>\n",
       "      <th>FF-09</th>\n",
       "      <th>FF-11</th>\n",
       "      <th>FF-12</th>\n",
       "    </tr>\n",
       "  </thead>\n",
       "  <tbody>\n",
       "    <tr>\n",
       "      <th>208159</th>\n",
       "      <td>208159</td>\n",
       "      <td>13.4</td>\n",
       "      <td>5916.91</td>\n",
       "      <td>43853.1</td>\n",
       "      <td>3283.1</td>\n",
       "      <td>3.36</td>\n",
       "      <td>2019-12-24</td>\n",
       "      <td>WORK</td>\n",
       "      <td>Media &amp; Publishing</td>\n",
       "      <td>Services</td>\n",
       "      <td>...</td>\n",
       "      <td>0.014815</td>\n",
       "      <td>13.64</td>\n",
       "      <td>13.593333</td>\n",
       "      <td>13.571773</td>\n",
       "      <td>32.716036</td>\n",
       "      <td>0.2</td>\n",
       "      <td>43.668827</td>\n",
       "      <td>45.310253</td>\n",
       "      <td>-69.230803</td>\n",
       "      <td>NaN</td>\n",
       "    </tr>\n",
       "    <tr>\n",
       "      <th>208160</th>\n",
       "      <td>208160</td>\n",
       "      <td>13.6</td>\n",
       "      <td>6005.22</td>\n",
       "      <td>25806.5</td>\n",
       "      <td>1918.2</td>\n",
       "      <td>3.31</td>\n",
       "      <td>2019-12-25</td>\n",
       "      <td>WORK</td>\n",
       "      <td>Media &amp; Publishing</td>\n",
       "      <td>Services</td>\n",
       "      <td>...</td>\n",
       "      <td>-0.014815</td>\n",
       "      <td>13.62</td>\n",
       "      <td>13.580000</td>\n",
       "      <td>13.581182</td>\n",
       "      <td>35.937565</td>\n",
       "      <td>0.5</td>\n",
       "      <td>42.803025</td>\n",
       "      <td>43.506496</td>\n",
       "      <td>-53.846131</td>\n",
       "      <td>NaN</td>\n",
       "    </tr>\n",
       "    <tr>\n",
       "      <th>208161</th>\n",
       "      <td>208161</td>\n",
       "      <td>13.9</td>\n",
       "      <td>6137.69</td>\n",
       "      <td>26514.5</td>\n",
       "      <td>1907.0</td>\n",
       "      <td>3.24</td>\n",
       "      <td>2019-12-26</td>\n",
       "      <td>WORK</td>\n",
       "      <td>Media &amp; Publishing</td>\n",
       "      <td>Services</td>\n",
       "      <td>...</td>\n",
       "      <td>-0.021819</td>\n",
       "      <td>13.66</td>\n",
       "      <td>13.673333</td>\n",
       "      <td>13.687455</td>\n",
       "      <td>40.514878</td>\n",
       "      <td>0.5</td>\n",
       "      <td>57.575726</td>\n",
       "      <td>48.015859</td>\n",
       "      <td>-30.769270</td>\n",
       "      <td>NaN</td>\n",
       "    </tr>\n",
       "    <tr>\n",
       "      <th>208162</th>\n",
       "      <td>208162</td>\n",
       "      <td>14.1</td>\n",
       "      <td>6226.00</td>\n",
       "      <td>22389.9</td>\n",
       "      <td>1587.2</td>\n",
       "      <td>3.19</td>\n",
       "      <td>2019-12-27</td>\n",
       "      <td>WORK</td>\n",
       "      <td>Media &amp; Publishing</td>\n",
       "      <td>Services</td>\n",
       "      <td>...</td>\n",
       "      <td>-0.014286</td>\n",
       "      <td>13.72</td>\n",
       "      <td>13.820000</td>\n",
       "      <td>13.824970</td>\n",
       "      <td>43.403378</td>\n",
       "      <td>0.3</td>\n",
       "      <td>73.659664</td>\n",
       "      <td>58.012805</td>\n",
       "      <td>-15.384598</td>\n",
       "      <td>NaN</td>\n",
       "    </tr>\n",
       "    <tr>\n",
       "      <th>208163</th>\n",
       "      <td>208163</td>\n",
       "      <td>14.0</td>\n",
       "      <td>6181.84</td>\n",
       "      <td>2242.3</td>\n",
       "      <td>159.0</td>\n",
       "      <td>3.21</td>\n",
       "      <td>2019-12-30</td>\n",
       "      <td>WORK</td>\n",
       "      <td>Media &amp; Publishing</td>\n",
       "      <td>Services</td>\n",
       "      <td>...</td>\n",
       "      <td>0.007117</td>\n",
       "      <td>13.80</td>\n",
       "      <td>13.913333</td>\n",
       "      <td>13.883313</td>\n",
       "      <td>42.302934</td>\n",
       "      <td>0.5</td>\n",
       "      <td>81.118862</td>\n",
       "      <td>70.784751</td>\n",
       "      <td>-23.076934</td>\n",
       "      <td>NaN</td>\n",
       "    </tr>\n",
       "  </tbody>\n",
       "</table>\n",
       "<p>5 rows × 27 columns</p>\n",
       "</div>"
      ],
      "text/plain": [
       "        Unnamed: 0  Price       MV       VA      VO    DY        Date Ticker  \\\n",
       "208159      208159   13.4  5916.91  43853.1  3283.1  3.36  2019-12-24   WORK   \n",
       "208160      208160   13.6  6005.22  25806.5  1918.2  3.31  2019-12-25   WORK   \n",
       "208161      208161   13.9  6137.69  26514.5  1907.0  3.24  2019-12-26   WORK   \n",
       "208162      208162   14.1  6226.00  22389.9  1587.2  3.19  2019-12-27   WORK   \n",
       "208163      208163   14.0  6181.84   2242.3   159.0  3.21  2019-12-30   WORK   \n",
       "\n",
       "                    Sector  Industry  ...     FF-02  FF-03      FF-04  \\\n",
       "208159  Media & Publishing  Services  ...  0.014815  13.64  13.593333   \n",
       "208160  Media & Publishing  Services  ... -0.014815  13.62  13.580000   \n",
       "208161  Media & Publishing  Services  ... -0.021819  13.66  13.673333   \n",
       "208162  Media & Publishing  Services  ... -0.014286  13.72  13.820000   \n",
       "208163  Media & Publishing  Services  ...  0.007117  13.80  13.913333   \n",
       "\n",
       "            FF-05      FF-06  FF-07      FF-08      FF-09      FF-11  FF-12  \n",
       "208159  13.571773  32.716036    0.2  43.668827  45.310253 -69.230803    NaN  \n",
       "208160  13.581182  35.937565    0.5  42.803025  43.506496 -53.846131    NaN  \n",
       "208161  13.687455  40.514878    0.5  57.575726  48.015859 -30.769270    NaN  \n",
       "208162  13.824970  43.403378    0.3  73.659664  58.012805 -15.384598    NaN  \n",
       "208163  13.883313  42.302934    0.5  81.118862  70.784751 -23.076934    NaN  \n",
       "\n",
       "[5 rows x 27 columns]"
      ]
     },
     "execution_count": 7,
     "metadata": {},
     "output_type": "execute_result"
    }
   ],
   "source": [
    "df.tail()"
   ]
  },
  {
   "cell_type": "code",
   "execution_count": 10,
   "metadata": {},
   "outputs": [
    {
     "data": {
      "text/html": [
       "<div>\n",
       "<style scoped>\n",
       "    .dataframe tbody tr th:only-of-type {\n",
       "        vertical-align: middle;\n",
       "    }\n",
       "\n",
       "    .dataframe tbody tr th {\n",
       "        vertical-align: top;\n",
       "    }\n",
       "\n",
       "    .dataframe thead th {\n",
       "        text-align: right;\n",
       "    }\n",
       "</style>\n",
       "<table border=\"1\" class=\"dataframe\">\n",
       "  <thead>\n",
       "    <tr style=\"text-align: right;\">\n",
       "      <th></th>\n",
       "      <th>Price</th>\n",
       "      <th>MV</th>\n",
       "      <th>VA</th>\n",
       "      <th>VO</th>\n",
       "      <th>DY</th>\n",
       "      <th>FF-01</th>\n",
       "      <th>FF-02</th>\n",
       "      <th>FF-03</th>\n",
       "      <th>FF-04</th>\n",
       "      <th>FF-05</th>\n",
       "      <th>FF-06</th>\n",
       "      <th>FF-07</th>\n",
       "      <th>FF-08</th>\n",
       "      <th>FF-09</th>\n",
       "    </tr>\n",
       "  </thead>\n",
       "  <tbody>\n",
       "    <tr>\n",
       "      <th>0</th>\n",
       "      <td>3.44</td>\n",
       "      <td>16683.99</td>\n",
       "      <td>65373.3</td>\n",
       "      <td>19045.1</td>\n",
       "      <td>0.0</td>\n",
       "      <td>NaN</td>\n",
       "      <td>NaN</td>\n",
       "      <td>NaN</td>\n",
       "      <td>NaN</td>\n",
       "      <td>NaN</td>\n",
       "      <td>NaN</td>\n",
       "      <td>NaN</td>\n",
       "      <td>NaN</td>\n",
       "      <td>NaN</td>\n",
       "    </tr>\n",
       "    <tr>\n",
       "      <th>1</th>\n",
       "      <td>3.42</td>\n",
       "      <td>16586.99</td>\n",
       "      <td>34585.3</td>\n",
       "      <td>10163.8</td>\n",
       "      <td>0.0</td>\n",
       "      <td>3.44</td>\n",
       "      <td>0.005831</td>\n",
       "      <td>NaN</td>\n",
       "      <td>NaN</td>\n",
       "      <td>NaN</td>\n",
       "      <td>NaN</td>\n",
       "      <td>NaN</td>\n",
       "      <td>NaN</td>\n",
       "      <td>NaN</td>\n",
       "    </tr>\n",
       "    <tr>\n",
       "      <th>2</th>\n",
       "      <td>3.54</td>\n",
       "      <td>17168.99</td>\n",
       "      <td>41467.2</td>\n",
       "      <td>11936.8</td>\n",
       "      <td>0.0</td>\n",
       "      <td>3.42</td>\n",
       "      <td>-0.034486</td>\n",
       "      <td>NaN</td>\n",
       "      <td>NaN</td>\n",
       "      <td>NaN</td>\n",
       "      <td>NaN</td>\n",
       "      <td>NaN</td>\n",
       "      <td>NaN</td>\n",
       "      <td>NaN</td>\n",
       "    </tr>\n",
       "    <tr>\n",
       "      <th>3</th>\n",
       "      <td>3.72</td>\n",
       "      <td>18041.99</td>\n",
       "      <td>92143.9</td>\n",
       "      <td>25572.0</td>\n",
       "      <td>0.0</td>\n",
       "      <td>3.54</td>\n",
       "      <td>-0.049597</td>\n",
       "      <td>NaN</td>\n",
       "      <td>NaN</td>\n",
       "      <td>NaN</td>\n",
       "      <td>NaN</td>\n",
       "      <td>NaN</td>\n",
       "      <td>NaN</td>\n",
       "      <td>NaN</td>\n",
       "    </tr>\n",
       "    <tr>\n",
       "      <th>4</th>\n",
       "      <td>3.64</td>\n",
       "      <td>17653.99</td>\n",
       "      <td>57568.1</td>\n",
       "      <td>15618.6</td>\n",
       "      <td>0.0</td>\n",
       "      <td>3.72</td>\n",
       "      <td>0.021740</td>\n",
       "      <td>3.552</td>\n",
       "      <td>3.598667</td>\n",
       "      <td>3.552</td>\n",
       "      <td>NaN</td>\n",
       "      <td>NaN</td>\n",
       "      <td>NaN</td>\n",
       "      <td>NaN</td>\n",
       "    </tr>\n",
       "  </tbody>\n",
       "</table>\n",
       "</div>"
      ],
      "text/plain": [
       "   Price        MV       VA       VO   DY  FF-01     FF-02  FF-03     FF-04  \\\n",
       "0   3.44  16683.99  65373.3  19045.1  0.0    NaN       NaN    NaN       NaN   \n",
       "1   3.42  16586.99  34585.3  10163.8  0.0   3.44  0.005831    NaN       NaN   \n",
       "2   3.54  17168.99  41467.2  11936.8  0.0   3.42 -0.034486    NaN       NaN   \n",
       "3   3.72  18041.99  92143.9  25572.0  0.0   3.54 -0.049597    NaN       NaN   \n",
       "4   3.64  17653.99  57568.1  15618.6  0.0   3.72  0.021740  3.552  3.598667   \n",
       "\n",
       "   FF-05  FF-06  FF-07  FF-08  FF-09  \n",
       "0    NaN    NaN    NaN    NaN    NaN  \n",
       "1    NaN    NaN    NaN    NaN    NaN  \n",
       "2    NaN    NaN    NaN    NaN    NaN  \n",
       "3    NaN    NaN    NaN    NaN    NaN  \n",
       "4  3.552    NaN    NaN    NaN    NaN  "
      ]
     },
     "execution_count": 10,
     "metadata": {},
     "output_type": "execute_result"
    }
   ],
   "source": [
    "ff = ['FF-%02d' % i for i in range(1,10)]\n",
    "df_features = df[['Price','MV','VA','VO','DY'] + ff]\n",
    "df_features.head()"
   ]
  },
  {
   "cell_type": "code",
   "execution_count": 11,
   "metadata": {},
   "outputs": [
    {
     "name": "stderr",
     "output_type": "stream",
     "text": [
      "/opt/conda/lib/python3.7/site-packages/ipykernel_launcher.py:4: SettingWithCopyWarning: \n",
      "A value is trying to be set on a copy of a slice from a DataFrame\n",
      "\n",
      "See the caveats in the documentation: http://pandas.pydata.org/pandas-docs/stable/user_guide/indexing.html#returning-a-view-versus-a-copy\n",
      "  after removing the cwd from sys.path.\n"
     ]
    },
    {
     "data": {
      "text/html": [
       "<div>\n",
       "<style scoped>\n",
       "    .dataframe tbody tr th:only-of-type {\n",
       "        vertical-align: middle;\n",
       "    }\n",
       "\n",
       "    .dataframe tbody tr th {\n",
       "        vertical-align: top;\n",
       "    }\n",
       "\n",
       "    .dataframe thead th {\n",
       "        text-align: right;\n",
       "    }\n",
       "</style>\n",
       "<table border=\"1\" class=\"dataframe\">\n",
       "  <thead>\n",
       "    <tr style=\"text-align: right;\">\n",
       "      <th></th>\n",
       "      <th>Price</th>\n",
       "      <th>MV</th>\n",
       "      <th>VA</th>\n",
       "      <th>VO</th>\n",
       "      <th>DY</th>\n",
       "      <th>FF-01</th>\n",
       "      <th>FF-02</th>\n",
       "      <th>FF-03</th>\n",
       "      <th>FF-04</th>\n",
       "      <th>FF-05</th>\n",
       "      <th>FF-06</th>\n",
       "      <th>FF-07</th>\n",
       "      <th>FF-08</th>\n",
       "      <th>FF-09</th>\n",
       "    </tr>\n",
       "  </thead>\n",
       "  <tbody>\n",
       "    <tr>\n",
       "      <th>15</th>\n",
       "      <td>3.72</td>\n",
       "      <td>18041.99</td>\n",
       "      <td>42380.7</td>\n",
       "      <td>11393.3</td>\n",
       "      <td>0.00</td>\n",
       "      <td>3.70</td>\n",
       "      <td>-0.005391</td>\n",
       "      <td>3.784</td>\n",
       "      <td>3.756000</td>\n",
       "      <td>3.761662</td>\n",
       "      <td>59.459460</td>\n",
       "      <td>0.14</td>\n",
       "      <td>9.368185</td>\n",
       "      <td>26.080636</td>\n",
       "    </tr>\n",
       "    <tr>\n",
       "      <th>16</th>\n",
       "      <td>3.74</td>\n",
       "      <td>18138.99</td>\n",
       "      <td>27957.2</td>\n",
       "      <td>7404.6</td>\n",
       "      <td>0.00</td>\n",
       "      <td>3.72</td>\n",
       "      <td>-0.005362</td>\n",
       "      <td>3.756</td>\n",
       "      <td>3.741333</td>\n",
       "      <td>3.754442</td>\n",
       "      <td>60.038059</td>\n",
       "      <td>0.20</td>\n",
       "      <td>8.627442</td>\n",
       "      <td>13.831661</td>\n",
       "    </tr>\n",
       "    <tr>\n",
       "      <th>17</th>\n",
       "      <td>3.68</td>\n",
       "      <td>17847.99</td>\n",
       "      <td>12310.5</td>\n",
       "      <td>3339.0</td>\n",
       "      <td>0.00</td>\n",
       "      <td>3.74</td>\n",
       "      <td>0.016173</td>\n",
       "      <td>3.732</td>\n",
       "      <td>3.716000</td>\n",
       "      <td>3.729628</td>\n",
       "      <td>57.404642</td>\n",
       "      <td>0.14</td>\n",
       "      <td>11.405217</td>\n",
       "      <td>9.800281</td>\n",
       "    </tr>\n",
       "    <tr>\n",
       "      <th>18</th>\n",
       "      <td>3.54</td>\n",
       "      <td>17168.99</td>\n",
       "      <td>37530.4</td>\n",
       "      <td>10442.7</td>\n",
       "      <td>0.00</td>\n",
       "      <td>3.68</td>\n",
       "      <td>0.038786</td>\n",
       "      <td>3.676</td>\n",
       "      <td>3.652000</td>\n",
       "      <td>3.666419</td>\n",
       "      <td>51.731909</td>\n",
       "      <td>-0.22</td>\n",
       "      <td>9.444434</td>\n",
       "      <td>9.825697</td>\n",
       "    </tr>\n",
       "    <tr>\n",
       "      <th>19</th>\n",
       "      <td>3.56</td>\n",
       "      <td>17265.99</td>\n",
       "      <td>16376.1</td>\n",
       "      <td>4596.7</td>\n",
       "      <td>0.00</td>\n",
       "      <td>3.54</td>\n",
       "      <td>-0.005634</td>\n",
       "      <td>3.648</td>\n",
       "      <td>3.613333</td>\n",
       "      <td>3.630946</td>\n",
       "      <td>52.451110</td>\n",
       "      <td>-0.26</td>\n",
       "      <td>5.158725</td>\n",
       "      <td>8.669459</td>\n",
       "    </tr>\n",
       "    <tr>\n",
       "      <th>...</th>\n",
       "      <td>...</td>\n",
       "      <td>...</td>\n",
       "      <td>...</td>\n",
       "      <td>...</td>\n",
       "      <td>...</td>\n",
       "      <td>...</td>\n",
       "      <td>...</td>\n",
       "      <td>...</td>\n",
       "      <td>...</td>\n",
       "      <td>...</td>\n",
       "      <td>...</td>\n",
       "      <td>...</td>\n",
       "      <td>...</td>\n",
       "      <td>...</td>\n",
       "    </tr>\n",
       "    <tr>\n",
       "      <th>208159</th>\n",
       "      <td>13.40</td>\n",
       "      <td>5916.91</td>\n",
       "      <td>43853.1</td>\n",
       "      <td>3283.1</td>\n",
       "      <td>3.36</td>\n",
       "      <td>13.60</td>\n",
       "      <td>0.014815</td>\n",
       "      <td>13.640</td>\n",
       "      <td>13.593333</td>\n",
       "      <td>13.571773</td>\n",
       "      <td>32.716036</td>\n",
       "      <td>0.20</td>\n",
       "      <td>43.668827</td>\n",
       "      <td>45.310253</td>\n",
       "    </tr>\n",
       "    <tr>\n",
       "      <th>208160</th>\n",
       "      <td>13.60</td>\n",
       "      <td>6005.22</td>\n",
       "      <td>25806.5</td>\n",
       "      <td>1918.2</td>\n",
       "      <td>3.31</td>\n",
       "      <td>13.40</td>\n",
       "      <td>-0.014815</td>\n",
       "      <td>13.620</td>\n",
       "      <td>13.580000</td>\n",
       "      <td>13.581182</td>\n",
       "      <td>35.937565</td>\n",
       "      <td>0.50</td>\n",
       "      <td>42.803025</td>\n",
       "      <td>43.506496</td>\n",
       "    </tr>\n",
       "    <tr>\n",
       "      <th>208161</th>\n",
       "      <td>13.90</td>\n",
       "      <td>6137.69</td>\n",
       "      <td>26514.5</td>\n",
       "      <td>1907.0</td>\n",
       "      <td>3.24</td>\n",
       "      <td>13.60</td>\n",
       "      <td>-0.021819</td>\n",
       "      <td>13.660</td>\n",
       "      <td>13.673333</td>\n",
       "      <td>13.687455</td>\n",
       "      <td>40.514878</td>\n",
       "      <td>0.50</td>\n",
       "      <td>57.575726</td>\n",
       "      <td>48.015859</td>\n",
       "    </tr>\n",
       "    <tr>\n",
       "      <th>208162</th>\n",
       "      <td>14.10</td>\n",
       "      <td>6226.00</td>\n",
       "      <td>22389.9</td>\n",
       "      <td>1587.2</td>\n",
       "      <td>3.19</td>\n",
       "      <td>13.90</td>\n",
       "      <td>-0.014286</td>\n",
       "      <td>13.720</td>\n",
       "      <td>13.820000</td>\n",
       "      <td>13.824970</td>\n",
       "      <td>43.403378</td>\n",
       "      <td>0.30</td>\n",
       "      <td>73.659664</td>\n",
       "      <td>58.012805</td>\n",
       "    </tr>\n",
       "    <tr>\n",
       "      <th>208163</th>\n",
       "      <td>14.00</td>\n",
       "      <td>6181.84</td>\n",
       "      <td>2242.3</td>\n",
       "      <td>159.0</td>\n",
       "      <td>3.21</td>\n",
       "      <td>14.10</td>\n",
       "      <td>0.007117</td>\n",
       "      <td>13.800</td>\n",
       "      <td>13.913333</td>\n",
       "      <td>13.883313</td>\n",
       "      <td>42.302934</td>\n",
       "      <td>0.50</td>\n",
       "      <td>81.118862</td>\n",
       "      <td>70.784751</td>\n",
       "    </tr>\n",
       "  </tbody>\n",
       "</table>\n",
       "<p>205501 rows × 14 columns</p>\n",
       "</div>"
      ],
      "text/plain": [
       "        Price        MV       VA       VO    DY  FF-01     FF-02   FF-03  \\\n",
       "15       3.72  18041.99  42380.7  11393.3  0.00   3.70 -0.005391   3.784   \n",
       "16       3.74  18138.99  27957.2   7404.6  0.00   3.72 -0.005362   3.756   \n",
       "17       3.68  17847.99  12310.5   3339.0  0.00   3.74  0.016173   3.732   \n",
       "18       3.54  17168.99  37530.4  10442.7  0.00   3.68  0.038786   3.676   \n",
       "19       3.56  17265.99  16376.1   4596.7  0.00   3.54 -0.005634   3.648   \n",
       "...       ...       ...      ...      ...   ...    ...       ...     ...   \n",
       "208159  13.40   5916.91  43853.1   3283.1  3.36  13.60  0.014815  13.640   \n",
       "208160  13.60   6005.22  25806.5   1918.2  3.31  13.40 -0.014815  13.620   \n",
       "208161  13.90   6137.69  26514.5   1907.0  3.24  13.60 -0.021819  13.660   \n",
       "208162  14.10   6226.00  22389.9   1587.2  3.19  13.90 -0.014286  13.720   \n",
       "208163  14.00   6181.84   2242.3    159.0  3.21  14.10  0.007117  13.800   \n",
       "\n",
       "            FF-04      FF-05      FF-06  FF-07      FF-08      FF-09  \n",
       "15       3.756000   3.761662  59.459460   0.14   9.368185  26.080636  \n",
       "16       3.741333   3.754442  60.038059   0.20   8.627442  13.831661  \n",
       "17       3.716000   3.729628  57.404642   0.14  11.405217   9.800281  \n",
       "18       3.652000   3.666419  51.731909  -0.22   9.444434   9.825697  \n",
       "19       3.613333   3.630946  52.451110  -0.26   5.158725   8.669459  \n",
       "...           ...        ...        ...    ...        ...        ...  \n",
       "208159  13.593333  13.571773  32.716036   0.20  43.668827  45.310253  \n",
       "208160  13.580000  13.581182  35.937565   0.50  42.803025  43.506496  \n",
       "208161  13.673333  13.687455  40.514878   0.50  57.575726  48.015859  \n",
       "208162  13.820000  13.824970  43.403378   0.30  73.659664  58.012805  \n",
       "208163  13.913333  13.883313  42.302934   0.50  81.118862  70.784751  \n",
       "\n",
       "[205501 rows x 14 columns]"
      ]
     },
     "execution_count": 11,
     "metadata": {},
     "output_type": "execute_result"
    }
   ],
   "source": [
    "from sklearn.decomposition import PCA\n",
    "from sklearn.preprocessing import MinMaxScaler, StandardScaler\n",
    "\n",
    "df_features.dropna(inplace=True)\n",
    "df_features"
   ]
  },
  {
   "cell_type": "code",
   "execution_count": 12,
   "metadata": {},
   "outputs": [
    {
     "data": {
      "text/plain": [
       "array([[-0.49295757, -0.44781866, -0.40877336, ...,  0.03759202,\n",
       "        -1.52587203, -0.92465012],\n",
       "       [-0.49262417, -0.4472066 , -0.43539074, ...,  0.05867756,\n",
       "        -1.555505  , -1.45323204],\n",
       "       [-0.49362437, -0.44904279, -0.46426545, ...,  0.03759202,\n",
       "        -1.44438191, -1.62719882],\n",
       "       ...,\n",
       "       [-0.32325732, -0.52293394, -0.43805313, ...,  0.16410534,\n",
       "         0.40263948,  0.02192401],\n",
       "       [-0.31992332, -0.52237671, -0.44566474, ...,  0.09382021,\n",
       "         1.04606701,  0.45332377],\n",
       "       [-0.32159032, -0.52265536, -0.48284548, ...,  0.16410534,\n",
       "         1.34446742,  1.00447354]])"
      ]
     },
     "execution_count": 12,
     "metadata": {},
     "output_type": "execute_result"
    }
   ],
   "source": [
    "sc = StandardScaler()\n",
    "df_scaled = sc.fit_transform(df_features)\n",
    "df_scaled"
   ]
  },
  {
   "cell_type": "code",
   "execution_count": 18,
   "metadata": {},
   "outputs": [
    {
     "data": {
      "text/plain": [
       "PCA(n_components=2)"
      ]
     },
     "execution_count": 18,
     "metadata": {},
     "output_type": "execute_result"
    }
   ],
   "source": [
    "X = df_scaled\n",
    "pca = PCA(n_components=2) # Get two components that explain the most\n",
    "pca.fit(X)"
   ]
  },
  {
   "cell_type": "code",
   "execution_count": 19,
   "metadata": {},
   "outputs": [
    {
     "name": "stdout",
     "output_type": "stream",
     "text": [
      "[[ 0.42200198  0.26362859  0.17195488 -0.02950114  0.02715065  0.42269676\n",
      "  -0.00750121  0.42260431  0.42267584  0.42262566  0.04161115  0.02192295\n",
      "   0.04605175  0.04811387]\n",
      " [ 0.04324993 -0.02504881 -0.07636185 -0.09466982  0.06325549  0.04403468\n",
      "   0.19947243  0.0464403   0.04484872  0.0460574  -0.49668398 -0.35359634\n",
      "  -0.53248677 -0.52480666]]\n"
     ]
    }
   ],
   "source": [
    "# Components \n",
    "print(pca.components_)"
   ]
  },
  {
   "cell_type": "code",
   "execution_count": 20,
   "metadata": {},
   "outputs": [
    {
     "name": "stdout",
     "output_type": "stream",
     "text": [
      "[5.45056569 2.74330457]\n"
     ]
    }
   ],
   "source": [
    "print(pca.explained_variance_)"
   ]
  },
  {
   "cell_type": "markdown",
   "metadata": {},
   "source": [
    "# Dimensionality Reduction"
   ]
  },
  {
   "cell_type": "code",
   "execution_count": 22,
   "metadata": {},
   "outputs": [
    {
     "name": "stdout",
     "output_type": "stream",
     "text": [
      "original shape:    (205501, 14)\n",
      "transformed shape: (205501, 1)\n"
     ]
    }
   ],
   "source": [
    "pca = PCA(n_components=1)\n",
    "pca.fit(X)\n",
    "X_pca = pca.transform(X)\n",
    "print(\"original shape:   \", X.shape)\n",
    "print(\"transformed shape:\", X_pca.shape)"
   ]
  },
  {
   "cell_type": "code",
   "execution_count": 23,
   "metadata": {},
   "outputs": [
    {
     "data": {
      "image/png": "[encoded data removed]",
      "text/plain": [
       "<Figure size 432x288 with 1 Axes>"
      ]
     },
     "metadata": {
      "needs_background": "light"
     },
     "output_type": "display_data"
    }
   ],
   "source": [
    "X_new = pca.inverse_transform(X_pca)\n",
    "plt.scatter(X[:, 0], X[:, 1], alpha=0.2)\n",
    "plt.scatter(X_new[:, 0], X_new[:, 1], alpha=0.8)\n",
    "plt.axis('equal');"
   ]
  },
  {
   "cell_type": "code",
   "execution_count": 24,
   "metadata": {},
   "outputs": [
    {
     "name": "stdout",
     "output_type": "stream",
     "text": [
      "(205501, 14)\n",
      "(205501, 2)\n"
     ]
    }
   ],
   "source": [
    "pca = PCA(2)  # project from 64 to 2 dimensions\n",
    "projected = pca.fit_transform(X)\n",
    "print(X.shape)\n",
    "print(projected.shape)"
   ]
  },
  {
   "cell_type": "code",
   "execution_count": 27,
   "metadata": {},
   "outputs": [
    {
     "data": {
      "image/png": "[encoded data removed]",
      "text/plain": [
       "<Figure size 432x288 with 1 Axes>"
      ]
     },
     "metadata": {
      "needs_background": "light"
     },
     "output_type": "display_data"
    }
   ],
   "source": [
    "pca = PCA().fit(X)\n",
    "plt.plot(np.cumsum(pca.explained_variance_ratio_))\n",
    "plt.xlabel('number of components')\n",
    "plt.ylabel('cumulative explained variance');"
   ]
  },
  {
   "cell_type": "markdown",
   "metadata": {},
   "source": [
    "# PCA labeld by industry / sector"
   ]
  },
  {
   "cell_type": "code",
   "execution_count": 30,
   "metadata": {},
   "outputs": [
    {
     "name": "stderr",
     "output_type": "stream",
     "text": [
      "/opt/conda/lib/python3.7/site-packages/ipykernel_launcher.py:2: SettingWithCopyWarning: \n",
      "A value is trying to be set on a copy of a slice from a DataFrame\n",
      "\n",
      "See the caveats in the documentation: http://pandas.pydata.org/pandas-docs/stable/user_guide/indexing.html#returning-a-view-versus-a-copy\n",
      "  \n"
     ]
    },
    {
     "data": {
      "text/plain": [
       "15        Transportation & Logistics\n",
       "16        Transportation & Logistics\n",
       "17        Transportation & Logistics\n",
       "18        Transportation & Logistics\n",
       "19        Transportation & Logistics\n",
       "                     ...            \n",
       "208159            Media & Publishing\n",
       "208160            Media & Publishing\n",
       "208161            Media & Publishing\n",
       "208162            Media & Publishing\n",
       "208163            Media & Publishing\n",
       "Name: Sector, Length: 205501, dtype: object"
      ]
     },
     "execution_count": 30,
     "metadata": {},
     "output_type": "execute_result"
    }
   ],
   "source": [
    "df_features = df[['Sector','Price','MV','VA','VO','DY'] + ff]\n",
    "df_features.dropna(inplace=True)\n",
    "\n",
    "y = df_features['Sector']\n",
    "y"
   ]
  },
  {
   "cell_type": "code",
   "execution_count": 35,
   "metadata": {},
   "outputs": [],
   "source": [
    "X = df_features.drop(['Sector'], axis=1)"
   ]
  },
  {
   "cell_type": "code",
   "execution_count": 36,
   "metadata": {},
   "outputs": [],
   "source": [
    "sc = MinMaxScaler()\n",
    "X_scaled = sc.fit_transform(X)"
   ]
  },
  {
   "cell_type": "code",
   "execution_count": 37,
   "metadata": {},
   "outputs": [
    {
     "name": "stdout",
     "output_type": "stream",
     "text": [
      "(205501, 14)\n",
      "(205501, 2)\n"
     ]
    }
   ],
   "source": [
    "pca = PCA(2)  # project from 64 to 2 dimensions\n",
    "projected = pca.fit_transform(X_scaled)\n",
    "print(X_scaled.shape)\n",
    "print(projected.shape)"
   ]
  },
  {
   "cell_type": "code",
   "execution_count": 54,
   "metadata": {},
   "outputs": [
    {
     "data": {
      "text/plain": [
       "{'Transportation & Logistics': 0,\n",
       " 'Information & Communication Technology': 1,\n",
       " 'Finance & Securities': 2,\n",
       " 'Property Development': 3,\n",
       " 'Energy & Utilities': 4,\n",
       " 'Banking': 5,\n",
       " 'Health Care Services': 6,\n",
       " 'Commerce': 7,\n",
       " 'Media & Publishing': 8,\n",
       " 'Construction Services': 9,\n",
       " 'Insurance': 10,\n",
       " 'Food & Beverage': 11,\n",
       " 'Tourism & Leisure': 12,\n",
       " 'Electronic Components': 13,\n",
       " 'Construction Materials': 14,\n",
       " 'Agribusiness': 15,\n",
       " 'Petrochemicals & Chemicals': 16,\n",
       " 'Packaging': 17}"
      ]
     },
     "execution_count": 54,
     "metadata": {},
     "output_type": "execute_result"
    }
   ],
   "source": [
    "colorkey = y.unique()\n",
    "colordict = {}\n",
    "for i, v in enumerate(colorkey):\n",
    "    colordict[v] = i\n",
    "colordict"
   ]
  },
  {
   "cell_type": "code",
   "execution_count": 55,
   "metadata": {},
   "outputs": [],
   "source": [
    "y = y.map(colordict)"
   ]
  },
  {
   "cell_type": "code",
   "execution_count": 57,
   "metadata": {},
   "outputs": [
    {
     "data": {
      "image/png": "[encoded data removed]",
      "text/plain": [
       "<Figure size 432x288 with 2 Axes>"
      ]
     },
     "metadata": {
      "needs_background": "light"
     },
     "output_type": "display_data"
    }
   ],
   "source": [
    "plt.scatter(projected[:, 0], projected[:, 1],\n",
    "            c=y, edgecolor='none', alpha=0.5,\n",
    "            cmap=plt.cm.get_cmap('Spectral', 10))\n",
    "plt.xlabel('component 1')\n",
    "plt.ylabel('component 2')\n",
    "plt.colorbar();"
   ]
  },
  {
   "cell_type": "code",
   "execution_count": null,
   "metadata": {},
   "outputs": [],
   "source": []
  }
 ],
 "metadata": {
  "kernelspec": {
   "display_name": "Python 3",
   "language": "python",
   "name": "python3"
  },
  "language_info": {
   "codemirror_mode": {
    "name": "ipython",
    "version": 3
   },
   "file_extension": ".py",
   "mimetype": "text/x-python",
   "name": "python",
   "nbconvert_exporter": "python",
   "pygments_lexer": "ipython3",
   "version": "3.7.4"
  }
 },
 "nbformat": 4,
 "nbformat_minor": 4
}
