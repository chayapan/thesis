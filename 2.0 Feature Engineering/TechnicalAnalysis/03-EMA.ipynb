{
 "cells": [
  {
   "cell_type": "markdown",
   "metadata": {},
   "source": [
    "# Exponential Moving Average (EMA)\n",
    "\n",
    "This notebook compute the features listed here:  \n",
    "https://docs.google.com/spreadsheets/d/1Qkh-3fxaNFeh_741QCA10vgCA9-vex1RbzJa81tldwQ/edit#gid=1163800167 \n",
    "\n",
    "FF-5  Exponential Moving Average (EMA)"
   ]
  },
  {
   "cell_type": "code",
   "execution_count": 1,
   "metadata": {},
   "outputs": [],
   "source": [
    "import talib\n",
    "from talib.abstract import *\n",
    "import numpy as np\n",
    "import pandas as pd\n",
    "import datetime as dt\n",
    "import os, os.path\n",
    "\n",
    "# 1. https://pandas.pydata.org/pandas-docs/stable/user_guide/indexing.html#returning-a-view-versus-a-copy\n",
    "# 2. https://stackoverflow.com/questions/42379818/correct-way-to-set-new-column-in-pandas-dataframe-to-avoid-settingwithcopywarnin\n",
    "pd.options.mode.chained_assignment = None # Suppress warning"
   ]
  },
  {
   "cell_type": "markdown",
   "metadata": {},
   "source": [
    "# Load Data Series from Dataset"
   ]
  },
  {
   "cell_type": "code",
   "execution_count": 3,
   "metadata": {},
   "outputs": [],
   "source": [
    "DATA_HOME = os.path.join(\"..\",\"..\",\"dataset\",\"historical\")\n",
    "\n",
    "symbols = [\"ADVANC\",\"BTS\"]\n",
    "data = {}\n",
    "for s in symbols:\n",
    "    data[s] = pd.read_csv(os.path.join(DATA_HOME,\"%s.csv\" % s), index_col=0)\n",
    "\n",
    "df = data[\"ADVANC\"]\n",
    "df.index = pd.to_datetime(df.index)\n",
    "\n",
    "period_start='2014-01-01'\n",
    "period_end='2014-12-31'\n",
    "\n",
    "daily = df[period_start:period_end]\n",
    "daily[['Open','Close','Adj Close']].plot()"
   ]
  },
  {
   "cell_type": "markdown",
   "metadata": {},
   "source": [
    "# EMA\n",
    "\n",
    "Exponential Moving Average (EMA)  \n",
    "The weight of past prices decrease exponentially. [3] change value according to the input window being tested."
   ]
  },
  {
   "cell_type": "code",
   "execution_count": 7,
   "metadata": {},
   "outputs": [
    {
     "data": {
      "text/html": [
       "<div>\n",
       "<style scoped>\n",
       "    .dataframe tbody tr th:only-of-type {\n",
       "        vertical-align: middle;\n",
       "    }\n",
       "\n",
       "    .dataframe tbody tr th {\n",
       "        vertical-align: top;\n",
       "    }\n",
       "\n",
       "    .dataframe thead th {\n",
       "        text-align: right;\n",
       "    }\n",
       "</style>\n",
       "<table border=\"1\" class=\"dataframe\">\n",
       "  <thead>\n",
       "    <tr style=\"text-align: right;\">\n",
       "      <th></th>\n",
       "      <th>High</th>\n",
       "      <th>Low</th>\n",
       "      <th>Open</th>\n",
       "      <th>Close</th>\n",
       "      <th>Volume</th>\n",
       "      <th>Adj Close</th>\n",
       "      <th>EMA</th>\n",
       "      <th>SMA</th>\n",
       "      <th>WMA</th>\n",
       "    </tr>\n",
       "    <tr>\n",
       "      <th>Date</th>\n",
       "      <th></th>\n",
       "      <th></th>\n",
       "      <th></th>\n",
       "      <th></th>\n",
       "      <th></th>\n",
       "      <th></th>\n",
       "      <th></th>\n",
       "      <th></th>\n",
       "      <th></th>\n",
       "    </tr>\n",
       "  </thead>\n",
       "  <tbody>\n",
       "    <tr>\n",
       "      <th>2014-01-02</th>\n",
       "      <td>198.5</td>\n",
       "      <td>187.0</td>\n",
       "      <td>198.0</td>\n",
       "      <td>187.0</td>\n",
       "      <td>12694200.0</td>\n",
       "      <td>137.609299</td>\n",
       "      <td>NaN</td>\n",
       "      <td>NaN</td>\n",
       "      <td>NaN</td>\n",
       "    </tr>\n",
       "    <tr>\n",
       "      <th>2014-01-03</th>\n",
       "      <td>196.0</td>\n",
       "      <td>186.5</td>\n",
       "      <td>187.0</td>\n",
       "      <td>196.0</td>\n",
       "      <td>16987100.0</td>\n",
       "      <td>144.232224</td>\n",
       "      <td>NaN</td>\n",
       "      <td>NaN</td>\n",
       "      <td>NaN</td>\n",
       "    </tr>\n",
       "    <tr>\n",
       "      <th>2014-01-06</th>\n",
       "      <td>203.0</td>\n",
       "      <td>191.0</td>\n",
       "      <td>195.0</td>\n",
       "      <td>201.0</td>\n",
       "      <td>10294700.0</td>\n",
       "      <td>147.911621</td>\n",
       "      <td>NaN</td>\n",
       "      <td>NaN</td>\n",
       "      <td>NaN</td>\n",
       "    </tr>\n",
       "    <tr>\n",
       "      <th>2014-01-07</th>\n",
       "      <td>210.0</td>\n",
       "      <td>200.0</td>\n",
       "      <td>205.0</td>\n",
       "      <td>210.0</td>\n",
       "      <td>11479200.0</td>\n",
       "      <td>154.534515</td>\n",
       "      <td>NaN</td>\n",
       "      <td>NaN</td>\n",
       "      <td>NaN</td>\n",
       "    </tr>\n",
       "    <tr>\n",
       "      <th>2014-01-08</th>\n",
       "      <td>210.0</td>\n",
       "      <td>203.0</td>\n",
       "      <td>208.0</td>\n",
       "      <td>206.0</td>\n",
       "      <td>13653100.0</td>\n",
       "      <td>151.591019</td>\n",
       "      <td>200.0</td>\n",
       "      <td>200.0</td>\n",
       "      <td>200.0</td>\n",
       "    </tr>\n",
       "  </tbody>\n",
       "</table>\n",
       "</div>"
      ],
      "text/plain": [
       "             High    Low   Open  Close      Volume   Adj Close    EMA    SMA  \\\n",
       "Date                                                                           \n",
       "2014-01-02  198.5  187.0  198.0  187.0  12694200.0  137.609299    NaN    NaN   \n",
       "2014-01-03  196.0  186.5  187.0  196.0  16987100.0  144.232224    NaN    NaN   \n",
       "2014-01-06  203.0  191.0  195.0  201.0  10294700.0  147.911621    NaN    NaN   \n",
       "2014-01-07  210.0  200.0  205.0  210.0  11479200.0  154.534515    NaN    NaN   \n",
       "2014-01-08  210.0  203.0  208.0  206.0  13653100.0  151.591019  200.0  200.0   \n",
       "\n",
       "              WMA  \n",
       "Date               \n",
       "2014-01-02    NaN  \n",
       "2014-01-03    NaN  \n",
       "2014-01-06    NaN  \n",
       "2014-01-07    NaN  \n",
       "2014-01-08  200.0  "
      ]
     },
     "execution_count": 7,
     "metadata": {},
     "output_type": "execute_result"
    }
   ],
   "source": [
    "inputs = {\n",
    "    'open': daily[\"Open\"],\n",
    "    'high': daily[\"High\"],\n",
    "    'low': daily[\"Low\"],\n",
    "    'close': daily[\"Close\"],\n",
    "    'volume': daily[\"Volume\"]\n",
    "}\n",
    "\n",
    "# Note the use of Close instead of Adj Close.\n",
    "n = 5\n",
    "daily_sma = SMA(inputs, timeperiod=n)\n",
    "daily_wma = WMA(inputs, timeperiod=n)\n",
    "daily_ema = EMA(inputs, timeperiod=n)\n",
    "\n",
    "daily.loc[:,(\"SMA\")] = daily_sma.tolist()\n",
    "daily.loc[:,(\"WMA\")] = daily_sma.tolist()\n",
    "daily.loc[:,(\"EMA\")] = daily_sma.tolist()\n",
    "daily.head()"
   ]
  },
  {
   "cell_type": "markdown",
   "metadata": {},
   "source": [
    "# Plot of SMA on the original time-series"
   ]
  },
  {
   "cell_type": "code",
   "execution_count": 8,
   "metadata": {},
   "outputs": [
    {
     "data": {
      "text/plain": [
       "<matplotlib.axes._subplots.AxesSubplot at 0x7f8f8004c290>"
      ]
     },
     "execution_count": 8,
     "metadata": {},
     "output_type": "execute_result"
    },
    {
     "data": {
      "image/png": "[encoded data removed]",
      "text/plain": [
       "<Figure size 432x288 with 1 Axes>"
      ]
     },
     "metadata": {
      "needs_background": "light"
     },
     "output_type": "display_data"
    }
   ],
   "source": [
    "daily[['Close','SMA','WMA','EMA']][-10:].plot(title=\"Last 10 observations of 5-day SMA,EMA,WMA, and Close price\")"
   ]
  },
  {
   "cell_type": "code",
   "execution_count": 9,
   "metadata": {},
   "outputs": [
    {
     "data": {
      "text/plain": [
       "<matplotlib.axes._subplots.AxesSubplot at 0x7f8f7ce74b50>"
      ]
     },
     "execution_count": 9,
     "metadata": {},
     "output_type": "execute_result"
    },
    {
     "data": {
      "image/png": "[encoded data removed]",
      "text/plain": [
       "<Figure size 432x288 with 1 Axes>"
      ]
     },
     "metadata": {
      "needs_background": "light"
     },
     "output_type": "display_data"
    }
   ],
   "source": [
    "daily[['Close','SMA','WMA','EMA']][:10].plot(title=\"SMA,EMA,WMA computed on first 10 observations\")"
   ]
  },
  {
   "cell_type": "code",
   "execution_count": null,
   "metadata": {},
   "outputs": [],
   "source": []
  }
 ],
 "metadata": {
  "kernelspec": {
   "display_name": "Python 3",
   "language": "python",
   "name": "python3"
  },
  "language_info": {
   "codemirror_mode": {
    "name": "ipython",
    "version": 3
   },
   "file_extension": ".py",
   "mimetype": "text/x-python",
   "name": "python",
   "nbconvert_exporter": "python",
   "pygments_lexer": "ipython3",
   "version": "3.7.4"
  }
 },
 "nbformat": 4,
 "nbformat_minor": 4
}
