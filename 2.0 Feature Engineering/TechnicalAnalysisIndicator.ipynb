{
 "cells": [
  {
   "cell_type": "markdown",
   "metadata": {},
   "source": [
    "# Technical Indicators \n",
    "\n",
    "Use TA-Lib library to calculate technical indicators.\n",
    "\n",
    "https://pypi.org/project/talib-binary/"
   ]
  },
  {
   "cell_type": "code",
   "execution_count": 1,
   "metadata": {},
   "outputs": [],
   "source": [
    "import talib\n",
    "import numpy as np\n",
    "import pandas as pd\n",
    "import datetime as dt\n",
    "import os, os.path"
   ]
  },
  {
   "cell_type": "code",
   "execution_count": 3,
   "metadata": {},
   "outputs": [
    {
     "data": {
      "text/plain": [
       "'/home/jovyan/dataset/historical'"
      ]
     },
     "execution_count": 3,
     "metadata": {},
     "output_type": "execute_result"
    }
   ],
   "source": [
    "DATA_HOME = os.path.abspath(os.path.join(\"..\", \"dataset\", \"historical\"))\n",
    "\n",
    "symbols = [\"ADVANC\",\"BTS\"]\n",
    "data = {}\n",
    "for s in symbols:\n",
    "    data[s] = pd.read_csv(os.path.join(DATA_HOME,\"%s.csv\" % s), index_col=0)\n",
    "\n",
    "df = data[\"ADVANC\"]\n",
    "df.index = pd.to_datetime(df.index)\n",
    "daily = df['2014-01-01':'2016-12-31']\n",
    "DATA_HOME"
   ]
  },
  {
   "cell_type": "code",
   "execution_count": 4,
   "metadata": {},
   "outputs": [
    {
     "data": {
      "text/html": [
       "<div>\n",
       "<style scoped>\n",
       "    .dataframe tbody tr th:only-of-type {\n",
       "        vertical-align: middle;\n",
       "    }\n",
       "\n",
       "    .dataframe tbody tr th {\n",
       "        vertical-align: top;\n",
       "    }\n",
       "\n",
       "    .dataframe thead th {\n",
       "        text-align: right;\n",
       "    }\n",
       "</style>\n",
       "<table border=\"1\" class=\"dataframe\">\n",
       "  <thead>\n",
       "    <tr style=\"text-align: right;\">\n",
       "      <th></th>\n",
       "      <th>High</th>\n",
       "      <th>Low</th>\n",
       "      <th>Open</th>\n",
       "      <th>Close</th>\n",
       "      <th>Volume</th>\n",
       "      <th>Adj Close</th>\n",
       "    </tr>\n",
       "    <tr>\n",
       "      <th>Date</th>\n",
       "      <th></th>\n",
       "      <th></th>\n",
       "      <th></th>\n",
       "      <th></th>\n",
       "      <th></th>\n",
       "      <th></th>\n",
       "    </tr>\n",
       "  </thead>\n",
       "  <tbody>\n",
       "    <tr>\n",
       "      <th>2014-01-02</th>\n",
       "      <td>198.5</td>\n",
       "      <td>187.0</td>\n",
       "      <td>198.0</td>\n",
       "      <td>187.0</td>\n",
       "      <td>12694200.0</td>\n",
       "      <td>137.609299</td>\n",
       "    </tr>\n",
       "    <tr>\n",
       "      <th>2014-01-03</th>\n",
       "      <td>196.0</td>\n",
       "      <td>186.5</td>\n",
       "      <td>187.0</td>\n",
       "      <td>196.0</td>\n",
       "      <td>16987100.0</td>\n",
       "      <td>144.232224</td>\n",
       "    </tr>\n",
       "    <tr>\n",
       "      <th>2014-01-06</th>\n",
       "      <td>203.0</td>\n",
       "      <td>191.0</td>\n",
       "      <td>195.0</td>\n",
       "      <td>201.0</td>\n",
       "      <td>10294700.0</td>\n",
       "      <td>147.911621</td>\n",
       "    </tr>\n",
       "    <tr>\n",
       "      <th>2014-01-07</th>\n",
       "      <td>210.0</td>\n",
       "      <td>200.0</td>\n",
       "      <td>205.0</td>\n",
       "      <td>210.0</td>\n",
       "      <td>11479200.0</td>\n",
       "      <td>154.534515</td>\n",
       "    </tr>\n",
       "    <tr>\n",
       "      <th>2014-01-08</th>\n",
       "      <td>210.0</td>\n",
       "      <td>203.0</td>\n",
       "      <td>208.0</td>\n",
       "      <td>206.0</td>\n",
       "      <td>13653100.0</td>\n",
       "      <td>151.591019</td>\n",
       "    </tr>\n",
       "    <tr>\n",
       "      <th>...</th>\n",
       "      <td>...</td>\n",
       "      <td>...</td>\n",
       "      <td>...</td>\n",
       "      <td>...</td>\n",
       "      <td>...</td>\n",
       "      <td>...</td>\n",
       "    </tr>\n",
       "    <tr>\n",
       "      <th>2016-12-26</th>\n",
       "      <td>145.5</td>\n",
       "      <td>144.5</td>\n",
       "      <td>145.0</td>\n",
       "      <td>145.0</td>\n",
       "      <td>2073000.0</td>\n",
       "      <td>126.894188</td>\n",
       "    </tr>\n",
       "    <tr>\n",
       "      <th>2016-12-27</th>\n",
       "      <td>145.5</td>\n",
       "      <td>144.0</td>\n",
       "      <td>145.5</td>\n",
       "      <td>144.0</td>\n",
       "      <td>2083000.0</td>\n",
       "      <td>126.019043</td>\n",
       "    </tr>\n",
       "    <tr>\n",
       "      <th>2016-12-28</th>\n",
       "      <td>145.0</td>\n",
       "      <td>144.0</td>\n",
       "      <td>144.5</td>\n",
       "      <td>144.5</td>\n",
       "      <td>2412300.0</td>\n",
       "      <td>126.456635</td>\n",
       "    </tr>\n",
       "    <tr>\n",
       "      <th>2016-12-29</th>\n",
       "      <td>147.5</td>\n",
       "      <td>144.5</td>\n",
       "      <td>145.0</td>\n",
       "      <td>147.0</td>\n",
       "      <td>5939500.0</td>\n",
       "      <td>128.644470</td>\n",
       "    </tr>\n",
       "    <tr>\n",
       "      <th>2016-12-30</th>\n",
       "      <td>148.0</td>\n",
       "      <td>147.0</td>\n",
       "      <td>147.0</td>\n",
       "      <td>147.0</td>\n",
       "      <td>3421900.0</td>\n",
       "      <td>128.644470</td>\n",
       "    </tr>\n",
       "  </tbody>\n",
       "</table>\n",
       "<p>733 rows × 6 columns</p>\n",
       "</div>"
      ],
      "text/plain": [
       "             High    Low   Open  Close      Volume   Adj Close\n",
       "Date                                                          \n",
       "2014-01-02  198.5  187.0  198.0  187.0  12694200.0  137.609299\n",
       "2014-01-03  196.0  186.5  187.0  196.0  16987100.0  144.232224\n",
       "2014-01-06  203.0  191.0  195.0  201.0  10294700.0  147.911621\n",
       "2014-01-07  210.0  200.0  205.0  210.0  11479200.0  154.534515\n",
       "2014-01-08  210.0  203.0  208.0  206.0  13653100.0  151.591019\n",
       "...           ...    ...    ...    ...         ...         ...\n",
       "2016-12-26  145.5  144.5  145.0  145.0   2073000.0  126.894188\n",
       "2016-12-27  145.5  144.0  145.5  144.0   2083000.0  126.019043\n",
       "2016-12-28  145.0  144.0  144.5  144.5   2412300.0  126.456635\n",
       "2016-12-29  147.5  144.5  145.0  147.0   5939500.0  128.644470\n",
       "2016-12-30  148.0  147.0  147.0  147.0   3421900.0  128.644470\n",
       "\n",
       "[733 rows x 6 columns]"
      ]
     },
     "execution_count": 4,
     "metadata": {},
     "output_type": "execute_result"
    }
   ],
   "source": [
    "daily"
   ]
  },
  {
   "cell_type": "code",
   "execution_count": null,
   "metadata": {},
   "outputs": [],
   "source": [
    "from talib.abstract import *\n",
    "\n",
    "inputs = {\n",
    "    'open': daily[\"Open\"],\n",
    "    'high': daily[\"High\"],\n",
    "    'low': daily[\"Low\"],\n",
    "    'close': daily[\"Close\"],\n",
    "    'volume': daily[\"Volume\"]\n",
    "}\n",
    "\n",
    "\n",
    "daily_sma = SMA(inputs, timeperiod=25)\n",
    "\n",
    "daily[\"SMA\"] = daily_sma.tolist()\n",
    "daily"
   ]
  },
  {
   "cell_type": "code",
   "execution_count": null,
   "metadata": {},
   "outputs": [],
   "source": [
    "obv = OBV(inputs)\n",
    "obv"
   ]
  },
  {
   "cell_type": "code",
   "execution_count": null,
   "metadata": {},
   "outputs": [],
   "source": [
    "ad = AD(inputs)\n",
    "ad"
   ]
  },
  {
   "cell_type": "code",
   "execution_count": null,
   "metadata": {},
   "outputs": [],
   "source": [
    "atr = ATR(inputs)\n",
    "daily[\"ATR\"] = atr.tolist()\n",
    "daily[\"RSI\"] = RSI(inputs).tolist()\n",
    "daily[\"AD\"] = AD(inputs).tolist()\n",
    "daily"
   ]
  },
  {
   "cell_type": "code",
   "execution_count": null,
   "metadata": {},
   "outputs": [],
   "source": [
    "daily[[\"Close\",\"ATR\", \"RSI\"]].plot()"
   ]
  },
  {
   "cell_type": "code",
   "execution_count": null,
   "metadata": {},
   "outputs": [],
   "source": []
  }
 ],
 "metadata": {
  "kernelspec": {
   "display_name": "Python 3",
   "language": "python",
   "name": "python3"
  },
  "language_info": {
   "codemirror_mode": {
    "name": "ipython",
    "version": 3
   },
   "file_extension": ".py",
   "mimetype": "text/x-python",
   "name": "python",
   "nbconvert_exporter": "python",
   "pygments_lexer": "ipython3",
   "version": "3.7.4"
  }
 },
 "nbformat": 4,
 "nbformat_minor": 4
}
