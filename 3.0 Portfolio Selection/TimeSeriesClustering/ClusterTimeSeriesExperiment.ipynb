{
 "cells": [
  {
   "cell_type": "markdown",
   "metadata": {},
   "source": [
    "Cluster Time Series Experiment\n",
    "\n",
    "1. motivation: grouping data when doing analysis of a data set has analogy to the concepts of regularization and generalization in supervised machine learning setting in addition to helping the analyst better understand and give explanation to the data. \n",
    "\n",
    "2. technique: a common way to divide a set of objects into smaller groups is clustering. (Ward 1963) argued that grouping is useful for analysis of data with many samples and how partitioning the set of objects into smaller groups can yield more information. His illustrating example was that using single statistical mean value of the whole set of objects provided less useful information than having several statistical mean values of each group.\n",
    "\n",
    "3. question: to build clustering model for stock grouping problem using unsupervised learning. between two linkage methods (single and average) which is better? between two disimilarity measure (dynamic time warping and correlation distance) which is better?\n",
    "\n",
    "4. hypothesis: time-series objects, in this context stock prices and asset returns, in the same group have similar behavior and their movement can be forecasted the same way.\n",
    "\n",
    "Hierarchical agglomerative clustering is a procedure to cluster data into group by starting with each data item as its own cluster can sequentially merge similar item into clusters until one cluster containing the whole data set is formed. (Mullner 2013) documented three efficient algorithms for performing hierarchical agglomerative clustering, and noted the seven linkage schemes that can be used in the procedure: single, complete, average, weighted, Ward, centroid, median. The input of clustering procedure is dissimilar index, which measure distance-like quantity between each pair of objects in the data set. The output of clustering procedure is stepwise dendrogram, which indicate at which iteration two items are merged and what distance measurement was at the merge."
   ]
  },
  {
   "cell_type": "code",
   "execution_count": 1,
   "metadata": {},
   "outputs": [
    {
     "data": {
      "text/plain": [
       "['/opt/workspace/3.0 Portfolio Selection/TimeSeriesClustering',\n",
       " '/opt/conda/lib/python37.zip',\n",
       " '/opt/conda/lib/python3.7',\n",
       " '/opt/conda/lib/python3.7/lib-dynload',\n",
       " '',\n",
       " '/opt/conda/lib/python3.7/site-packages',\n",
       " '/opt/conda/lib/python3.7/site-packages/IPython/extensions',\n",
       " '/home/jovyan/.ipython']"
      ]
     },
     "execution_count": 1,
     "metadata": {},
     "output_type": "execute_result"
    }
   ],
   "source": [
    "import sys\n",
    "sys.path"
   ]
  },
  {
   "cell_type": "code",
   "execution_count": 2,
   "metadata": {},
   "outputs": [
    {
     "ename": "ModuleNotFoundError",
     "evalue": "No module named 'data'",
     "output_type": "error",
     "traceback": [
      "\u001b[0;31m---------------------------------------------------------------------------\u001b[0m",
      "\u001b[0;31mModuleNotFoundError\u001b[0m                       Traceback (most recent call last)",
      "\u001b[0;32m<ipython-input-2-4097a1060a39>\u001b[0m in \u001b[0;36m<module>\u001b[0;34m\u001b[0m\n\u001b[1;32m      4\u001b[0m \u001b[0;32mimport\u001b[0m \u001b[0mseaborn\u001b[0m \u001b[0;32mas\u001b[0m \u001b[0msns\u001b[0m\u001b[0;34m\u001b[0m\u001b[0;34m\u001b[0m\u001b[0m\n\u001b[1;32m      5\u001b[0m \u001b[0;34m\u001b[0m\u001b[0m\n\u001b[0;32m----> 6\u001b[0;31m \u001b[0;32mfrom\u001b[0m \u001b[0mdata\u001b[0m\u001b[0;34m.\u001b[0m\u001b[0msimulation\u001b[0m \u001b[0;32mimport\u001b[0m \u001b[0mdgf10\u001b[0m\u001b[0;34m,\u001b[0m \u001b[0mdgf11\u001b[0m\u001b[0;34m,\u001b[0m \u001b[0mplot_line\u001b[0m\u001b[0;34m,\u001b[0m \u001b[0mgd2df\u001b[0m\u001b[0;34m,\u001b[0m \u001b[0madd_noise\u001b[0m\u001b[0;34m,\u001b[0m \u001b[0mTimeSeries\u001b[0m\u001b[0;34m\u001b[0m\u001b[0;34m\u001b[0m\u001b[0m\n\u001b[0m\u001b[1;32m      7\u001b[0m \u001b[0;34m\u001b[0m\u001b[0m\n\u001b[1;32m      8\u001b[0m \u001b[0;32mfrom\u001b[0m \u001b[0mdata\u001b[0m\u001b[0;34m.\u001b[0m\u001b[0msimulation\u001b[0m \u001b[0;32mimport\u001b[0m \u001b[0mmake_dataset_linear\u001b[0m\u001b[0;34m,\u001b[0m \u001b[0mmake_dataset_exponential\u001b[0m\u001b[0;34m\u001b[0m\u001b[0;34m\u001b[0m\u001b[0m\n",
      "\u001b[0;31mModuleNotFoundError\u001b[0m: No module named 'data'"
     ]
    }
   ],
   "source": [
    "import pandas as pd\n",
    "import numpy as np\n",
    "import matplotlib.pyplot as plt\n",
    "import seaborn as sns\n",
    "\n",
    "from data.simulation import dgf10, dgf11, plot_line, gd2df, add_noise, TimeSeries\n",
    "\n",
    "from data.simulation import make_dataset_linear, make_dataset_exponential\n",
    "from data.generator import make_gbm_series"
   ]
  },
  {
   "cell_type": "markdown",
   "metadata": {},
   "source": [
    "## 1. Time Series Data\n",
    "\n",
    "Data recorded at different times form a set of observations that is a time-series. Time-series data are sequence of obervations. Price of stocks realized over a time period can be modelled as a time-series, as with many other phenomenon.\n",
    "\n",
    "When there are several sequences, we view each as individual sequence as an object and all sequences as the set of objects.\n",
    "\n",
    "In this experiment three data sets are analyzed in the same manner.\n",
    "\n",
    "Data set 1: linear vs exponential series with noise.  \n",
    "Data set 2: geometric brownian motion series.  \n",
    "Data set 3: historical prices time series of stocks."
   ]
  },
  {
   "cell_type": "code",
   "execution_count": null,
   "metadata": {},
   "outputs": [],
   "source": [
    "dataset1 = {} # to store dataset\n",
    "dataset1, df_stat_linear = make_dataset_linear(dataset1, plot=False)\n",
    "dataset1, df_stat_growth = make_dataset_exponential(dataset1, plot=False)"
   ]
  }
 ],
 "metadata": {
  "kernelspec": {
   "display_name": "Python 3",
   "language": "python",
   "name": "python3"
  },
  "language_info": {
   "codemirror_mode": {
    "name": "ipython",
    "version": 3
   },
   "file_extension": ".py",
   "mimetype": "text/x-python",
   "name": "python",
   "nbconvert_exporter": "python",
   "pygments_lexer": "ipython3",
   "version": "3.7.4"
  }
 },
 "nbformat": 4,
 "nbformat_minor": 4
}
