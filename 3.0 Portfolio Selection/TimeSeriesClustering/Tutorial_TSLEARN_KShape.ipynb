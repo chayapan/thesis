{
 "cells": [
  {
   "cell_type": "markdown",
   "metadata": {},
   "source": [
    "https://tslearn.readthedocs.io/en/stable/auto_examples/clustering/plot_kshape.html#sphx-glr-auto-examples-clustering-plot-kshape-py"
   ]
  },
  {
   "cell_type": "code",
   "execution_count": 1,
   "metadata": {},
   "outputs": [],
   "source": [
    "\n",
    "# Author: Romain Tavenard\n",
    "# License: BSD 3 clause\n",
    "\n",
    "import numpy\n",
    "import matplotlib.pyplot as plt\n",
    "\n",
    "from tslearn.clustering import KShape\n",
    "from tslearn.datasets import CachedDatasets\n",
    "from tslearn.preprocessing import TimeSeriesScalerMeanVariance"
   ]
  },
  {
   "cell_type": "code",
   "execution_count": 2,
   "metadata": {},
   "outputs": [],
   "source": [
    "\n",
    "seed = 0\n",
    "numpy.random.seed(seed)\n",
    "X_train, y_train, X_test, y_test = CachedDatasets().load_dataset(\"Trace\")"
   ]
  },
  {
   "cell_type": "code",
   "execution_count": 4,
   "metadata": {},
   "outputs": [
    {
     "data": {
      "text/plain": [
       "array([1, 2, 4, 3, 1, 4, 4, 1, 1, 4, 4, 4, 4, 3, 4, 1, 3, 2, 4, 4, 4, 4,\n",
       "       3, 2, 1, 2, 4, 4, 2, 4, 1, 1, 4, 4, 2, 1, 1, 2, 1, 1, 3, 3, 3, 3,\n",
       "       3, 1, 4, 4, 4, 2, 4, 3, 2, 1, 4, 2, 2, 2, 2, 1, 3, 2, 4, 3, 3, 2,\n",
       "       2, 1, 4, 4, 2, 3, 2, 1, 3, 4, 1, 1, 3, 3, 1, 3, 1, 3, 3, 3, 4, 1,\n",
       "       2, 1, 4, 4, 4, 1, 3, 1, 2, 4, 1, 2])"
      ]
     },
     "execution_count": 4,
     "metadata": {},
     "output_type": "execute_result"
    }
   ],
   "source": [
    "y_train  # X->y labels"
   ]
  },
  {
   "cell_type": "code",
   "execution_count": 5,
   "metadata": {},
   "outputs": [
    {
     "data": {
      "text/plain": [
       "array([[ 0.54407 ],\n",
       "       [ 0.65786 ],\n",
       "       [ 0.61124 ],\n",
       "       [ 0.54541 ],\n",
       "       [ 0.53216 ],\n",
       "       [ 0.59301 ],\n",
       "       [ 0.59528 ],\n",
       "       [ 0.53828 ],\n",
       "       [ 0.56343 ],\n",
       "       [ 0.59596 ],\n",
       "       [ 0.63291 ],\n",
       "       [ 0.58465 ],\n",
       "       [ 0.62319 ],\n",
       "       [ 0.60595 ],\n",
       "       [ 0.59037 ],\n",
       "       [ 0.62702 ],\n",
       "       [ 0.61349 ],\n",
       "       [ 0.62305 ],\n",
       "       [ 0.54602 ],\n",
       "       [ 0.64114 ],\n",
       "       [ 0.54939 ],\n",
       "       [ 0.6107  ],\n",
       "       [ 0.57797 ],\n",
       "       [ 0.63567 ],\n",
       "       [ 0.57422 ],\n",
       "       [ 0.60636 ],\n",
       "       [ 0.63805 ],\n",
       "       [ 0.6406  ],\n",
       "       [ 0.60581 ],\n",
       "       [ 0.65487 ],\n",
       "       [ 0.62934 ],\n",
       "       [ 0.67355 ],\n",
       "       [ 0.64083 ],\n",
       "       [ 0.67107 ],\n",
       "       [ 0.59539 ],\n",
       "       [ 0.58943 ],\n",
       "       [ 0.61587 ],\n",
       "       [ 0.66704 ],\n",
       "       [ 0.6038  ],\n",
       "       [ 0.63386 ],\n",
       "       [ 0.64719 ],\n",
       "       [ 0.64483 ],\n",
       "       [ 0.64369 ],\n",
       "       [ 0.6235  ],\n",
       "       [ 0.56237 ],\n",
       "       [ 0.61063 ],\n",
       "       [ 0.60773 ],\n",
       "       [ 0.64241 ],\n",
       "       [ 0.57792 ],\n",
       "       [ 0.68621 ],\n",
       "       [ 0.61298 ],\n",
       "       [ 1.0088  ],\n",
       "       [ 2.3083  ],\n",
       "       [ 3.4865  ],\n",
       "       [ 3.8274  ],\n",
       "       [ 3.8178  ],\n",
       "       [ 1.012   ],\n",
       "       [-1.2481  ],\n",
       "       [-1.8794  ],\n",
       "       [-1.9483  ],\n",
       "       [-1.9013  ],\n",
       "       [-1.9191  ],\n",
       "       [-1.9221  ],\n",
       "       [-1.9815  ],\n",
       "       [-1.9719  ],\n",
       "       [-1.9875  ],\n",
       "       [-1.8794  ],\n",
       "       [-1.9006  ],\n",
       "       [-1.8825  ],\n",
       "       [-1.8736  ],\n",
       "       [-1.8876  ],\n",
       "       [-1.9502  ],\n",
       "       [-1.8904  ],\n",
       "       [-1.8784  ],\n",
       "       [-1.8607  ],\n",
       "       [-1.9099  ],\n",
       "       [-1.8662  ],\n",
       "       [-1.8816  ],\n",
       "       [-1.8314  ],\n",
       "       [-1.7829  ],\n",
       "       [-1.7619  ],\n",
       "       [-1.8435  ],\n",
       "       [-1.8211  ],\n",
       "       [-1.7935  ],\n",
       "       [-1.7385  ],\n",
       "       [-1.7142  ],\n",
       "       [-1.7811  ],\n",
       "       [-1.7017  ],\n",
       "       [-1.7586  ],\n",
       "       [-1.6362  ],\n",
       "       [-1.6762  ],\n",
       "       [-1.6353  ],\n",
       "       [-1.6649  ],\n",
       "       [-1.6537  ],\n",
       "       [-1.5993  ],\n",
       "       [-1.5857  ],\n",
       "       [-1.5707  ],\n",
       "       [-1.5565  ],\n",
       "       [-1.5257  ],\n",
       "       [-1.5344  ],\n",
       "       [-1.5144  ],\n",
       "       [-1.4585  ],\n",
       "       [-1.4341  ],\n",
       "       [-1.3994  ],\n",
       "       [-1.4395  ],\n",
       "       [-1.3884  ],\n",
       "       [-1.3141  ],\n",
       "       [-1.2873  ],\n",
       "       [-1.2438  ],\n",
       "       [-1.2662  ],\n",
       "       [-1.2174  ],\n",
       "       [-1.1404  ],\n",
       "       [-1.0779  ],\n",
       "       [-1.0361  ],\n",
       "       [-1.0236  ],\n",
       "       [-0.94193 ],\n",
       "       [-0.96461 ],\n",
       "       [-0.92693 ],\n",
       "       [-0.80692 ],\n",
       "       [-0.81503 ],\n",
       "       [-0.80228 ],\n",
       "       [-0.77764 ],\n",
       "       [-0.71609 ],\n",
       "       [-0.71872 ],\n",
       "       [-0.59853 ],\n",
       "       [-0.62257 ],\n",
       "       [-0.64287 ],\n",
       "       [-0.61776 ],\n",
       "       [-0.55449 ],\n",
       "       [-0.51017 ],\n",
       "       [-0.50237 ],\n",
       "       [-0.38756 ],\n",
       "       [-0.40833 ],\n",
       "       [-0.36084 ],\n",
       "       [-0.33675 ],\n",
       "       [-0.27108 ],\n",
       "       [-0.23104 ],\n",
       "       [-0.25503 ],\n",
       "       [-0.19586 ],\n",
       "       [-0.13165 ],\n",
       "       [-0.091147],\n",
       "       [-0.019169],\n",
       "       [-0.13373 ],\n",
       "       [-0.076408],\n",
       "       [-0.063702],\n",
       "       [-0.058617],\n",
       "       [-0.010619],\n",
       "       [ 0.071344],\n",
       "       [ 0.021106],\n",
       "       [ 0.10268 ],\n",
       "       [ 0.11936 ],\n",
       "       [ 0.11839 ],\n",
       "       [ 0.15022 ],\n",
       "       [ 0.14664 ],\n",
       "       [ 0.14905 ],\n",
       "       [ 0.16199 ],\n",
       "       [ 0.24105 ],\n",
       "       [ 0.23776 ],\n",
       "       [ 0.27551 ],\n",
       "       [ 0.31824 ],\n",
       "       [ 0.37818 ],\n",
       "       [ 0.37695 ],\n",
       "       [ 0.30431 ],\n",
       "       [ 0.35849 ],\n",
       "       [ 0.29257 ],\n",
       "       [ 0.33786 ],\n",
       "       [ 0.37219 ],\n",
       "       [ 0.3701  ],\n",
       "       [ 0.40481 ],\n",
       "       [ 0.37049 ],\n",
       "       [ 0.41597 ],\n",
       "       [ 0.40383 ],\n",
       "       [ 0.43679 ],\n",
       "       [ 0.40613 ],\n",
       "       [ 0.40153 ],\n",
       "       [ 0.47647 ],\n",
       "       [ 0.44169 ],\n",
       "       [ 0.44384 ],\n",
       "       [ 0.38545 ],\n",
       "       [ 0.46372 ],\n",
       "       [ 0.4463  ],\n",
       "       [ 0.44485 ],\n",
       "       [ 0.48374 ],\n",
       "       [ 0.48586 ],\n",
       "       [ 0.53425 ],\n",
       "       [ 0.5389  ],\n",
       "       [ 0.46434 ],\n",
       "       [ 0.51375 ],\n",
       "       [ 0.49447 ],\n",
       "       [ 0.53983 ],\n",
       "       [ 0.52213 ],\n",
       "       [ 0.51881 ],\n",
       "       [ 0.52453 ],\n",
       "       [ 0.56396 ],\n",
       "       [ 0.55314 ],\n",
       "       [ 0.60116 ],\n",
       "       [ 0.55151 ],\n",
       "       [ 0.54742 ],\n",
       "       [ 0.5467  ],\n",
       "       [ 0.58659 ],\n",
       "       [ 0.52656 ],\n",
       "       [ 0.54569 ],\n",
       "       [ 0.57221 ],\n",
       "       [ 0.52088 ],\n",
       "       [ 0.58198 ],\n",
       "       [ 0.57022 ],\n",
       "       [ 0.56669 ],\n",
       "       [ 0.57069 ],\n",
       "       [ 0.56999 ],\n",
       "       [ 0.54572 ],\n",
       "       [ 0.59779 ],\n",
       "       [ 0.57269 ],\n",
       "       [ 0.5718  ],\n",
       "       [ 0.63556 ],\n",
       "       [ 0.5006  ],\n",
       "       [ 0.55195 ],\n",
       "       [ 0.5913  ],\n",
       "       [ 0.55103 ],\n",
       "       [ 0.57288 ],\n",
       "       [ 0.55868 ],\n",
       "       [ 0.59223 ],\n",
       "       [ 0.58432 ],\n",
       "       [ 0.57092 ],\n",
       "       [ 0.60559 ],\n",
       "       [ 0.65694 ],\n",
       "       [ 0.56511 ],\n",
       "       [ 0.55241 ],\n",
       "       [ 0.56491 ],\n",
       "       [ 0.58312 ],\n",
       "       [ 0.63398 ],\n",
       "       [ 0.57998 ],\n",
       "       [ 0.62535 ],\n",
       "       [ 0.58982 ],\n",
       "       [ 0.57572 ],\n",
       "       [ 0.60549 ],\n",
       "       [ 0.53556 ],\n",
       "       [ 0.54942 ],\n",
       "       [ 0.55353 ],\n",
       "       [ 0.59538 ],\n",
       "       [ 0.53456 ],\n",
       "       [ 0.53055 ],\n",
       "       [ 0.61195 ],\n",
       "       [ 0.58605 ],\n",
       "       [ 0.54531 ],\n",
       "       [ 0.55091 ],\n",
       "       [ 0.56394 ],\n",
       "       [ 0.60954 ],\n",
       "       [ 0.53654 ],\n",
       "       [ 0.59055 ],\n",
       "       [ 0.55313 ],\n",
       "       [ 0.58819 ],\n",
       "       [ 0.53334 ],\n",
       "       [ 0.58794 ],\n",
       "       [ 0.58297 ],\n",
       "       [ 0.59815 ],\n",
       "       [ 0.60032 ],\n",
       "       [ 0.56658 ],\n",
       "       [ 0.67194 ],\n",
       "       [ 0.62128 ],\n",
       "       [ 0.55515 ],\n",
       "       [ 0.58124 ],\n",
       "       [ 0.67464 ],\n",
       "       [ 0.57607 ],\n",
       "       [ 0.63721 ],\n",
       "       [ 0.57822 ],\n",
       "       [ 0.58823 ],\n",
       "       [ 0.57789 ],\n",
       "       [ 0.59807 ],\n",
       "       [ 0.58369 ],\n",
       "       [ 0.60288 ],\n",
       "       [ 0.55426 ],\n",
       "       [ 0.51415 ],\n",
       "       [ 0.60377 ],\n",
       "       [ 0.59633 ],\n",
       "       [ 0.58322 ]])"
      ]
     },
     "execution_count": 5,
     "metadata": {},
     "output_type": "execute_result"
    }
   ],
   "source": [
    "X_train[0]"
   ]
  },
  {
   "cell_type": "code",
   "execution_count": 6,
   "metadata": {},
   "outputs": [
    {
     "data": {
      "text/plain": [
       "(100, 275, 1)"
      ]
     },
     "execution_count": 6,
     "metadata": {},
     "output_type": "execute_result"
    }
   ],
   "source": [
    "X_train.shape  # Whole training set"
   ]
  },
  {
   "cell_type": "code",
   "execution_count": 7,
   "metadata": {},
   "outputs": [
    {
     "data": {
      "text/plain": [
       "(275, 1)"
      ]
     },
     "execution_count": 7,
     "metadata": {},
     "output_type": "execute_result"
    }
   ],
   "source": [
    "X_train[0].shape  # Each series"
   ]
  },
  {
   "cell_type": "code",
   "execution_count": 8,
   "metadata": {},
   "outputs": [],
   "source": [
    "numpy.random.shuffle(X_train)\n",
    "# For this method to operate properly, prior scaling is required\n",
    "X_train = TimeSeriesScalerMeanVariance().fit_transform(X_train)\n",
    "sz = X_train.shape[1]\n"
   ]
  },
  {
   "cell_type": "code",
   "execution_count": 9,
   "metadata": {},
   "outputs": [
    {
     "name": "stdout",
     "output_type": "stream",
     "text": [
      "0.001 --> 0.001 --> 0.001 --> \n"
     ]
    }
   ],
   "source": [
    "\n",
    "# kShape clustering\n",
    "ks = KShape(n_clusters=3, verbose=True, random_state=seed)\n",
    "y_pred = ks.fit_predict(X_train)\n"
   ]
  },
  {
   "cell_type": "code",
   "execution_count": 10,
   "metadata": {},
   "outputs": [
    {
     "data": {
      "image/png": "[encoded data removed]",
      "text/plain": [
       "<Figure size 432x288 with 3 Axes>"
      ]
     },
     "metadata": {
      "needs_background": "light"
     },
     "output_type": "display_data"
    }
   ],
   "source": [
    "plt.figure()\n",
    "for yi in range(3):\n",
    "    plt.subplot(3, 1, 1 + yi)\n",
    "    for xx in X_train[y_pred == yi]:\n",
    "        plt.plot(xx.ravel(), \"k-\", alpha=.2)\n",
    "    plt.plot(ks.cluster_centers_[yi].ravel(), \"r-\")\n",
    "    plt.xlim(0, sz)\n",
    "    plt.ylim(-4, 4)\n",
    "    plt.title(\"Cluster %d\" % (yi + 1))"
   ]
  },
  {
   "cell_type": "code",
   "execution_count": null,
   "metadata": {},
   "outputs": [],
   "source": []
  }
 ],
 "metadata": {
  "kernelspec": {
   "display_name": "Python 3",
   "language": "python",
   "name": "python3"
  },
  "language_info": {
   "codemirror_mode": {
    "name": "ipython",
    "version": 3
   },
   "file_extension": ".py",
   "mimetype": "text/x-python",
   "name": "python",
   "nbconvert_exporter": "python",
   "pygments_lexer": "ipython3",
   "version": "3.7.4"
  }
 },
 "nbformat": 4,
 "nbformat_minor": 4
}
