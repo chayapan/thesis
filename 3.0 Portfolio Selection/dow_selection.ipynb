{
 "cells": [
  {
   "cell_type": "markdown",
   "metadata": {},
   "source": [
    "# Dow Selection\n",
    "\n",
    "Topics: Boolean array operators, sum function, where function, plotting.\n",
    "\n",
    "The array 'dow' is a 2-D array with each row holding the\n",
    "daily performance of the Dow Jones Industrial Average from the\n",
    "beginning of 2008 (dates have been removed for exercise simplicity).\n",
    "The array has the following structure::\n",
    "\n",
    "       OPEN      HIGH      LOW       CLOSE     VOLUME      ADJ_CLOSE\n",
    "       13261.82  13338.23  12969.42  13043.96  3452650000  13043.96\n",
    "       13044.12  13197.43  12968.44  13056.72  3429500000  13056.72\n",
    "       13046.56  13049.65  12740.51  12800.18  4166000000  12800.18\n",
    "       12801.15  12984.95  12640.44  12827.49  4221260000  12827.49\n",
    "       12820.9   12998.11  12511.03  12589.07  4705390000  12589.07\n",
    "       12590.21  12814.97  12431.53  12735.31  5351030000  12735.31"
   ]
  },
  {
   "cell_type": "code",
   "execution_count": 1,
   "metadata": {},
   "outputs": [],
   "source": [
    "%matplotlib inline\n",
    "from numpy import loadtxt, sum, where\n",
    "import matplotlib.pyplot as plt"
   ]
  },
  {
   "cell_type": "code",
   "execution_count": 2,
   "metadata": {},
   "outputs": [],
   "source": [
    "# Constants that indicate what data is held in each column of\n",
    "# the 'dow' array.\n",
    "OPEN = 0\n",
    "HIGH = 1\n",
    "LOW = 2\n",
    "CLOSE = 3\n",
    "VOLUME = 4\n",
    "ADJ_CLOSE = 5"
   ]
  },
  {
   "cell_type": "markdown",
   "metadata": {},
   "source": [
    "0. The data has been loaded from a .csv file for you."
   ]
  },
  {
   "cell_type": "code",
   "execution_count": 7,
   "metadata": {},
   "outputs": [
    {
     "data": {
      "text/plain": [
       "array([[1.326182e+04, 1.333823e+04, 1.296942e+04, 1.304396e+04,\n",
       "        3.452650e+09, 1.304396e+04],\n",
       "       [1.304412e+04, 1.319743e+04, 1.296844e+04, 1.305672e+04,\n",
       "        3.429500e+09, 1.305672e+04],\n",
       "       [1.304656e+04, 1.304965e+04, 1.274051e+04, 1.280018e+04,\n",
       "        4.166000e+09, 1.280018e+04],\n",
       "       ...,\n",
       "       [1.141246e+04, 1.157514e+04, 1.134969e+04, 1.150251e+04,\n",
       "        3.499610e+09, 1.150251e+04],\n",
       "       [1.149987e+04, 1.175646e+04, 1.149372e+04, 1.171518e+04,\n",
       "        3.854280e+09, 1.171518e+04],\n",
       "       [1.171323e+04, 1.173049e+04, 1.150878e+04, 1.154355e+04,\n",
       "        3.288120e+09, 1.154355e+04]])"
      ]
     },
     "execution_count": 7,
     "metadata": {},
     "output_type": "execute_result"
    }
   ],
   "source": [
    "# 'dow' is our NumPy array that we will manipulate.\n",
    "dow = loadtxt('dow.csv', delimiter=',')"
   ]
  },
  {
   "cell_type": "markdown",
   "metadata": {},
   "source": [
    "1. Create a \"mask\" array that indicates which rows have a volume\n",
    "   greater than 5.5 billion."
   ]
  },
  {
   "cell_type": "code",
   "execution_count": 13,
   "metadata": {},
   "outputs": [],
   "source": [
    "high_volume_mask = dow[:, VOLUME]  > 5.5e9"
   ]
  },
  {
   "cell_type": "markdown",
   "metadata": {},
   "source": [
    "2. How many are there?  (hint: use sum)."
   ]
  },
  {
   "cell_type": "code",
   "execution_count": 14,
   "metadata": {},
   "outputs": [
    {
     "name": "stdout",
     "output_type": "stream",
     "text": [
      "The dow volume has been above 5.5 billion on 18 days this year.\n"
     ]
    }
   ],
   "source": [
    "high_volume_days = sum(high_volume_mask)\n",
    "print(\"The dow volume has been above 5.5 billion on\" \\\n",
    "      \" %d days this year.\" % high_volume_days)"
   ]
  },
  {
   "cell_type": "markdown",
   "metadata": {},
   "source": [
    "3. Find the index of every row (or day) where the volume is greater\n",
    "   than 5.5 billion. hint: look at the `where()` command."
   ]
  },
  {
   "cell_type": "code",
   "execution_count": 20,
   "metadata": {},
   "outputs": [
    {
     "data": {
      "text/plain": [
       "array([ 12,  13,  15,  51,  54, 123, 125, 129, 131, 132, 134, 135, 136,\n",
       "       137, 139, 140, 141, 145])"
      ]
     },
     "execution_count": 20,
     "metadata": {},
     "output_type": "execute_result"
    }
   ],
   "source": [
    "high_vol_index = where(high_volume_mask)[0]\n",
    "high_vol_index"
   ]
  },
  {
   "cell_type": "markdown",
   "metadata": {},
   "source": [
    "## Bonus\n",
    "\n",
    "1. Plot the adjusted close for EVERY day in 2008.\n",
    "2. Now over-plot this plot with a 'red dot' marker for every\n",
    "   day where the volume was greater than 5.5 billion."
   ]
  },
  {
   "cell_type": "code",
   "execution_count": 54,
   "metadata": {},
   "outputs": [
    {
     "data": {
      "text/plain": [
       "<Figure size 1440x1152 with 0 Axes>"
      ]
     },
     "execution_count": 54,
     "metadata": {},
     "output_type": "execute_result"
    },
    {
     "data": {
      "text/plain": [
       "<Figure size 1440x1152 with 0 Axes>"
      ]
     },
     "metadata": {},
     "output_type": "display_data"
    }
   ],
   "source": [
    "# Create a new plot.\n",
    "fig = plt.figure(figsize=(20,16))\n"
   ]
  },
  {
   "cell_type": "code",
   "execution_count": 55,
   "metadata": {},
   "outputs": [
    {
     "data": {
      "text/plain": [
       "[<matplotlib.lines.Line2D at 0x7f2c44eb8050>]"
      ]
     },
     "execution_count": 55,
     "metadata": {},
     "output_type": "execute_result"
    },
    {
     "data": {
      "image/png": "[encoded data removed]",
      "text/plain": [
       "<Figure size 432x288 with 1 Axes>"
      ]
     },
     "metadata": {
      "needs_background": "light"
     },
     "output_type": "display_data"
    }
   ],
   "source": []
  },
  {
   "cell_type": "code",
   "execution_count": 56,
   "metadata": {},
   "outputs": [
    {
     "data": {
      "text/plain": [
       "4409974107.142858"
      ]
     },
     "execution_count": 56,
     "metadata": {},
     "output_type": "execute_result"
    }
   ],
   "source": [
    "# What is the average volume?\n",
    "from numpy import mean, std\n",
    "\n",
    "x_bar = mean(dow[:, VOLUME])\n",
    "x_bar"
   ]
  },
  {
   "cell_type": "code",
   "execution_count": 57,
   "metadata": {},
   "outputs": [
    {
     "data": {
      "text/plain": [
       "912206403.7286658"
      ]
     },
     "execution_count": 57,
     "metadata": {},
     "output_type": "execute_result"
    }
   ],
   "source": [
    "b = std(dow[:, VOLUME])\n",
    "b"
   ]
  },
  {
   "cell_type": "code",
   "execution_count": 63,
   "metadata": {},
   "outputs": [
    {
     "data": {
      "text/plain": [
       "[<matplotlib.lines.Line2D at 0x7f2c43392910>]"
      ]
     },
     "execution_count": 63,
     "metadata": {},
     "output_type": "execute_result"
    },
    {
     "data": {
      "image/png": "[encoded data removed]",
      "text/plain": [
       "<Figure size 432x288 with 2 Axes>"
      ]
     },
     "metadata": {
      "needs_background": "light"
     },
     "output_type": "display_data"
    }
   ],
   "source": [
    "from numpy import linspace, ones\n",
    "\n",
    "\n",
    "\n",
    "plt.subplot(2,1,1)\n",
    "\n",
    "# Plot the adjusted close for every day of the year as a line (default)\n",
    "plt.plot(dow[:, ADJ_CLOSE])\n",
    "\n",
    "# Plot the days where the volume was high with red dots...\n",
    "plt.plot(high_vol_index, dow[high_vol_index, ADJ_CLOSE], 'ro')\n",
    "\n",
    "\n",
    "plt.subplot(2,1,2)\n",
    "\n",
    "# Plot the adjusted close for every day of the year as a line (default)\n",
    "plt.plot(dow[:, VOLUME])\n",
    "plt.plot(linspace(0, len(dow), len(dow)) , ones(len(dow)) * x_bar, 'r')\n",
    "\n",
    "\n",
    "# plot the two standard deviation envelope\n",
    "plt.plot(linspace(0, len(dow), len(dow)) , ones(len(dow)) * (x_bar + b), 'g')\n",
    "plt.plot(linspace(0, len(dow), len(dow)) , ones(len(dow)) * (x_bar - b), 'g')"
   ]
  },
  {
   "cell_type": "code",
   "execution_count": null,
   "metadata": {},
   "outputs": [],
   "source": []
  }
 ],
 "metadata": {
  "kernelspec": {
   "display_name": "Python 3",
   "language": "python",
   "name": "python3"
  },
  "language_info": {
   "codemirror_mode": {
    "name": "ipython",
    "version": 3
   },
   "file_extension": ".py",
   "mimetype": "text/x-python",
   "name": "python",
   "nbconvert_exporter": "python",
   "pygments_lexer": "ipython3",
   "version": "3.7.4"
  }
 },
 "nbformat": 4,
 "nbformat_minor": 2
}
