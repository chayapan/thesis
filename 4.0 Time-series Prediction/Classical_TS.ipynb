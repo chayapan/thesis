{
  "nbformat": 4,
  "nbformat_minor": 0,
  "metadata": {
    "colab": {
      "name": "Classical TS.ipynb",
      "provenance": [],
      "collapsed_sections": []
    },
    "kernelspec": {
      "name": "python3",
      "display_name": "Python 3"
    }
  },
  "cells": [
    {
      "cell_type": "code",
      "metadata": {
        "id": "mesiot-nFLQ2"
      },
      "source": [
        ""
      ],
      "execution_count": null,
      "outputs": []
    },
    {
      "cell_type": "markdown",
      "metadata": {
        "id": "40_QAGn2FNrg"
      },
      "source": [
        "11 Classical Time Series Forecasting Methods in Python (Cheat Sheet)\n",
        "\n",
        "https://machinelearningmastery.com/time-series-forecasting-methods-in-python-cheat-sheet/\n",
        "\n",
        "\n",
        "1. Autoregression (AR)\n",
        "2. Moving Average (MA)\n",
        "3. Autoregressive Moving Average (ARMA)\n",
        "4. Autoregressive Integrated Moving Average (ARIMA)\n",
        "5. Seasonal Autoregressive Integrated Moving-Average (SARIMA)\n",
        "6. Seasonal Autoregressive Integrated Moving-Average with Exogenous Regressors (SARIMAX)\n",
        "7. Vector Autoregression (VAR)\n",
        "8. Vector Autoregression Moving-Average (VARMA)\n",
        "9. Vector Autoregression Moving-Average with Exogenous Regressors (VARMAX)\n",
        "10. Simple Exponential Smoothing (SES)\n",
        "11. Holt Winter’s Exponential Smoothing (HWES)"
      ]
    },
    {
      "cell_type": "code",
      "metadata": {
        "id": "-0XwFXIGFTf9",
        "colab": {
          "base_uri": "https://localhost:8080/",
          "height": 34
        },
        "outputId": "3cb4ee3a-eb24-4b56-c187-a509ea45d92a"
      },
      "source": [
        "# Autoregression (AR)\n",
        "\n",
        "# AR example\n",
        "from statsmodels.tsa.ar_model import AutoReg\n",
        "from random import random\n",
        "# contrived dataset\n",
        "data = [x + random() for x in range(1, 100)]\n",
        "# fit model\n",
        "model = AutoReg(data, lags=1)\n",
        "model_fit = model.fit()\n",
        "# make prediction\n",
        "yhat = model_fit.predict(len(data), len(data))\n",
        "print(yhat)"
      ],
      "execution_count": null,
      "outputs": [
        {
          "output_type": "stream",
          "text": [
            "[100.23826877]\n"
          ],
          "name": "stdout"
        }
      ]
    },
    {
      "cell_type": "code",
      "metadata": {
        "id": "GFjP6kdDFlBc",
        "colab": {
          "base_uri": "https://localhost:8080/",
          "height": 198
        },
        "outputId": "7c7b2122-5521-4cf4-c5e3-7fd8d82490e3"
      },
      "source": [
        "# !pip install --upgrade statsmodels\n",
        "%matplotlib inline \n",
        "from matplotlib import pyplot as plt"
      ],
      "execution_count": null,
      "outputs": [
        {
          "output_type": "error",
          "ename": "TypeError",
          "evalue": "ignored",
          "traceback": [
            "\u001b[0;31m---------------------------------------------------------------------------\u001b[0m",
            "\u001b[0;31mTypeError\u001b[0m                                 Traceback (most recent call last)",
            "\u001b[0;32m<ipython-input-2-822e98c7fd08>\u001b[0m in \u001b[0;36m<module>\u001b[0;34m()\u001b[0m\n\u001b[1;32m      3\u001b[0m \u001b[0;32mfrom\u001b[0m \u001b[0mmatplotlib\u001b[0m \u001b[0;32mimport\u001b[0m \u001b[0mpyplot\u001b[0m \u001b[0;32mas\u001b[0m \u001b[0mplt\u001b[0m\u001b[0;34m\u001b[0m\u001b[0;34m\u001b[0m\u001b[0m\n\u001b[1;32m      4\u001b[0m \u001b[0;34m\u001b[0m\u001b[0m\n\u001b[0;32m----> 5\u001b[0;31m \u001b[0mplt\u001b[0m\u001b[0;34m(\u001b[0m\u001b[0mdata\u001b[0m\u001b[0;34m)\u001b[0m\u001b[0;34m\u001b[0m\u001b[0;34m\u001b[0m\u001b[0m\n\u001b[0m",
            "\u001b[0;31mTypeError\u001b[0m: 'module' object is not callable"
          ]
        }
      ]
    },
    {
      "cell_type": "code",
      "metadata": {
        "id": "h4SWjC8nFvi7"
      },
      "source": [
        ""
      ],
      "execution_count": null,
      "outputs": []
    }
  ]
}