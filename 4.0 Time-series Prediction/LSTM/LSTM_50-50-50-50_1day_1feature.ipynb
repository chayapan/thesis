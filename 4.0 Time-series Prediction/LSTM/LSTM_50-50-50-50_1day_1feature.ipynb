{
 "cells": [
  {
   "cell_type": "markdown",
   "metadata": {},
   "source": [
    "Recurrent Neural Network (RNN) Tutorial for Beginners\n",
    "\n",
    "https://www.simplilearn.com/tutorials/deep-learning-tutorial/rnn\n",
    "\n",
    "* Check dimension for X_train should match network input  \n",
    "* Check last RNN layer don't return sequences\n",
    "\n",
    "[1] Recurrent Neural Network (RNN) Tutorial for Beginners  \n",
    "https://www.simplilearn.com/tutorials/deep-learning-tutorial/rnn  \n",
    "[2] Recurrent Neural Networks Tutorial, Part 1 – Introduction to RNNs  \n",
    "http://www.wildml.com/2015/09/recurrent-neural-networks-tutorial-part-1-introduction-to-rnns/  \n",
    "[3] Introduction to Learning to Trade with Reinforcement Learning  \n",
    "http://www.wildml.com/2018/02/introduction-to-learning-to-trade-with-reinforcement-learning/"
   ]
  },
  {
   "cell_type": "code",
   "execution_count": null,
   "metadata": {},
   "outputs": [],
   "source": [
    "import numpy as np\n",
    "import matplotlib.pyplot as plt\n",
    "import pandas as pd"
   ]
  },
  {
   "cell_type": "code",
   "execution_count": 2,
   "metadata": {},
   "outputs": [],
   "source": [
    "# Data prep\n",
    "# Keras\n",
    "# Evaluate\n"
   ]
  },
  {
   "cell_type": "code",
   "execution_count": 3,
   "metadata": {},
   "outputs": [],
   "source": [
    "# load data  30:40\n",
    "dataset = pd.read_csv(\"https://github.com/chayapan/thesis/raw/master/dataset/historical/ADVANC.csv\")\n",
    "dataset = dataset.set_index('Date')\n",
    "\n",
    "dataset_train = dataset['2014-01-01':'2018-01-01']\n",
    "dataset_train\n",
    "# 1:2 -> Low\n",
    "# 4:5 -> Volume\n",
    "# 5:6 -> Adj Close\n",
    "\n",
    "training_set_df = dataset_train.iloc[:, 5:6]\n",
    "training_set = training_set_df.values # np.array\n",
    "\n",
    "dataset_test = dataset['2018-01-02':'2019-01-01']\n",
    "test_set = dataset_test.iloc[:, 5:6].values\n"
   ]
  },
  {
   "cell_type": "code",
   "execution_count": 4,
   "metadata": {},
   "outputs": [],
   "source": [
    "# Feature scaling\n",
    "from sklearn.preprocessing import MinMaxScaler\n",
    "sc = MinMaxScaler(feature_range = (0,1))\n",
    "training_set_scaled = sc.fit_transform(training_set)\n",
    "\n"
   ]
  },
  {
   "cell_type": "code",
   "execution_count": 5,
   "metadata": {},
   "outputs": [
    {
     "data": {
      "text/plain": [
       "array([[[0.32487746],\n",
       "        [0.39570678],\n",
       "        [0.43505635],\n",
       "        ...,\n",
       "        [0.62393389],\n",
       "        [0.64754351],\n",
       "        [0.63967402]],\n",
       "\n",
       "       [[0.39570678],\n",
       "        [0.43505635],\n",
       "        [0.50588535],\n",
       "        ...,\n",
       "        [0.64754351],\n",
       "        [0.63967402],\n",
       "        [0.65380414]],\n",
       "\n",
       "       [[0.43505635],\n",
       "        [0.50588535],\n",
       "        [0.47440592],\n",
       "        ...,\n",
       "        [0.63967402],\n",
       "        [0.65380414],\n",
       "        [0.6780275 ]],\n",
       "\n",
       "       ...,\n",
       "\n",
       "       [[0.74041928],\n",
       "        [0.74530834],\n",
       "        [0.72086272],\n",
       "        ...,\n",
       "        [0.67197101],\n",
       "        [0.68174945],\n",
       "        [0.67686023]],\n",
       "\n",
       "       [[0.74530834],\n",
       "        [0.72086272],\n",
       "        [0.72086272],\n",
       "        ...,\n",
       "        [0.68174945],\n",
       "        [0.67686023],\n",
       "        [0.67686023]],\n",
       "\n",
       "       [[0.72086272],\n",
       "        [0.72086272],\n",
       "        [0.72086272],\n",
       "        ...,\n",
       "        [0.67686023],\n",
       "        [0.67686023],\n",
       "        [0.701306  ]]])"
      ]
     },
     "execution_count": 5,
     "metadata": {},
     "output_type": "execute_result"
    }
   ],
   "source": [
    "# Creating a data structure with 60 timesteps and 1 output\n",
    "# 35:35  why 60 time-step\n",
    "\n",
    "X_train = []\n",
    "y_train = []\n",
    "for i in range(60, len(training_set)):\n",
    "    X_train.append(training_set_scaled[i-60:i, 0])  # 36:00   This is 0-59.\n",
    "    y_train.append(training_set_scaled[i, 0])       # This is 60th.\n",
    "\n",
    "X_train, y_train = np.array(X_train), np.array(y_train)\n",
    "\n",
    "# Reshaping\n",
    "X_train = np.reshape(X_train, (X_train.shape[0], X_train.shape[1], 1)) # This is important!!\n",
    "\n",
    "# Error when checking input: expected lstm_1_input to have 3 dimensions, but got array with shape (429, 60)\n",
    "# (429,60, 1)\n",
    "\n",
    "X_train"
   ]
  },
  {
   "cell_type": "code",
   "execution_count": 6,
   "metadata": {},
   "outputs": [
    {
     "data": {
      "text/plain": [
       "(915, 60)"
      ]
     },
     "execution_count": 6,
     "metadata": {},
     "output_type": "execute_result"
    }
   ],
   "source": [
    "# What does this look like?\n",
    "\n",
    "# Depth (rows) and Each row size\n",
    "len(X_train), len(X_train[0])"
   ]
  },
  {
   "cell_type": "code",
   "execution_count": 7,
   "metadata": {},
   "outputs": [
    {
     "name": "stderr",
     "output_type": "stream",
     "text": [
      "Using TensorFlow backend.\n"
     ]
    }
   ],
   "source": [
    "# \n",
    "\n",
    "# 40:00 create model\n",
    "from keras.models import Sequential\n",
    "from keras.layers import Dense\n",
    "from keras.layers import LSTM, Dropout\n"
   ]
  },
  {
   "cell_type": "code",
   "execution_count": 8,
   "metadata": {},
   "outputs": [],
   "source": [
    "# Initialize the RNN\n",
    "\n",
    "regressor = Sequential()"
   ]
  },
  {
   "cell_type": "code",
   "execution_count": 9,
   "metadata": {},
   "outputs": [],
   "source": [
    "# Adding the first LSTM layer and Dropout regularization\n",
    "# 41:00 The units is dimensionality of the output space. \n",
    "# In this case we have 60 coming in and 50 going out.\n",
    "regressor.add(LSTM(units=50, return_sequences=True, input_shape=(X_train.shape[1], 1)))\n",
    "regressor.add(Dropout(0.2))"
   ]
  },
  {
   "cell_type": "code",
   "execution_count": 10,
   "metadata": {},
   "outputs": [],
   "source": [
    "# Adding a second LSTM layer and some Dropout regularization\n",
    "# Dropout helps forget some information\n",
    "\n",
    "regressor.add(LSTM(units=50, return_sequences=True))\n",
    "regressor.add(Dropout(0.2))"
   ]
  },
  {
   "cell_type": "code",
   "execution_count": 11,
   "metadata": {},
   "outputs": [],
   "source": [
    "# Adding a third LSTM layer and some Dropout regularization\n",
    "# Dropout helps forget some information\n",
    "\n",
    "regressor.add(LSTM(units=50, return_sequences=True))\n",
    "regressor.add(Dropout(0.2))"
   ]
  },
  {
   "cell_type": "code",
   "execution_count": 12,
   "metadata": {},
   "outputs": [],
   "source": [
    "# Adding a fourth LSTM layer and some Dropout regularization\n",
    "# Dropout helps forget some information\n",
    "\n",
    "regressor.add(LSTM(units=50)) # Last of RNN layer dont return sequences\n",
    "regressor.add(Dropout(0.2))"
   ]
  },
  {
   "cell_type": "code",
   "execution_count": 13,
   "metadata": {},
   "outputs": [],
   "source": [
    "# Adding the output layer\n",
    "regressor.add(Dense(units=1))"
   ]
  },
  {
   "cell_type": "markdown",
   "metadata": {},
   "source": [
    "# 9. Compile the RNN"
   ]
  },
  {
   "cell_type": "code",
   "execution_count": 14,
   "metadata": {},
   "outputs": [],
   "source": [
    "regressor.compile(optimizer='adam', loss='mean_squared_error')"
   ]
  },
  {
   "cell_type": "markdown",
   "metadata": {},
   "source": [
    "# 10. Fit the RNN to the training set"
   ]
  },
  {
   "cell_type": "code",
   "execution_count": 15,
   "metadata": {},
   "outputs": [
    {
     "name": "stdout",
     "output_type": "stream",
     "text": [
      "Epoch 1/100\n",
      "915/915 [==============================] - 3s 3ms/step - loss: 0.0570\n",
      "Epoch 2/100\n",
      "915/915 [==============================] - 2s 2ms/step - loss: 0.0152\n",
      "Epoch 3/100\n",
      "915/915 [==============================] - 2s 2ms/step - loss: 0.0131\n",
      "Epoch 4/100\n",
      "915/915 [==============================] - 2s 2ms/step - loss: 0.0119\n",
      "Epoch 5/100\n",
      "915/915 [==============================] - 2s 2ms/step - loss: 0.0103\n",
      "Epoch 6/100\n",
      "915/915 [==============================] - 2s 2ms/step - loss: 0.0098\n",
      "Epoch 7/100\n",
      "915/915 [==============================] - 2s 2ms/step - loss: 0.0097\n",
      "Epoch 8/100\n",
      "915/915 [==============================] - 2s 2ms/step - loss: 0.0090\n",
      "Epoch 9/100\n",
      "915/915 [==============================] - 2s 2ms/step - loss: 0.0093\n",
      "Epoch 10/100\n",
      "915/915 [==============================] - 2s 2ms/step - loss: 0.0086\n",
      "Epoch 11/100\n",
      "915/915 [==============================] - 2s 2ms/step - loss: 0.0091\n",
      "Epoch 12/100\n",
      "915/915 [==============================] - 2s 2ms/step - loss: 0.0085\n",
      "Epoch 13/100\n",
      "915/915 [==============================] - 2s 2ms/step - loss: 0.0083\n",
      "Epoch 14/100\n",
      "915/915 [==============================] - 2s 2ms/step - loss: 0.0079\n",
      "Epoch 15/100\n",
      "915/915 [==============================] - 2s 2ms/step - loss: 0.0072\n",
      "Epoch 16/100\n",
      "915/915 [==============================] - 2s 2ms/step - loss: 0.0077\n",
      "Epoch 17/100\n",
      "915/915 [==============================] - 2s 2ms/step - loss: 0.0075\n",
      "Epoch 18/100\n",
      "915/915 [==============================] - 2s 2ms/step - loss: 0.0079\n",
      "Epoch 19/100\n",
      "915/915 [==============================] - 2s 2ms/step - loss: 0.0078\n",
      "Epoch 20/100\n",
      "915/915 [==============================] - 2s 2ms/step - loss: 0.0068\n",
      "Epoch 21/100\n",
      "915/915 [==============================] - 2s 2ms/step - loss: 0.0069\n",
      "Epoch 22/100\n",
      "915/915 [==============================] - 2s 2ms/step - loss: 0.0067\n",
      "Epoch 23/100\n",
      "915/915 [==============================] - 2s 2ms/step - loss: 0.0075\n",
      "Epoch 24/100\n",
      "915/915 [==============================] - 2s 2ms/step - loss: 0.0071\n",
      "Epoch 25/100\n",
      "915/915 [==============================] - 2s 2ms/step - loss: 0.0068\n",
      "Epoch 26/100\n",
      "915/915 [==============================] - 2s 2ms/step - loss: 0.0061\n",
      "Epoch 27/100\n",
      "915/915 [==============================] - 2s 2ms/step - loss: 0.0054\n",
      "Epoch 28/100\n",
      "915/915 [==============================] - 2s 2ms/step - loss: 0.0059\n",
      "Epoch 29/100\n",
      "915/915 [==============================] - 2s 2ms/step - loss: 0.0053\n",
      "Epoch 30/100\n",
      "915/915 [==============================] - 2s 2ms/step - loss: 0.0066\n",
      "Epoch 31/100\n",
      "915/915 [==============================] - 2s 2ms/step - loss: 0.0056\n",
      "Epoch 32/100\n",
      "915/915 [==============================] - 2s 2ms/step - loss: 0.0055\n",
      "Epoch 33/100\n",
      "915/915 [==============================] - 2s 2ms/step - loss: 0.0062\n",
      "Epoch 34/100\n",
      "915/915 [==============================] - 2s 2ms/step - loss: 0.0052\n",
      "Epoch 35/100\n",
      "915/915 [==============================] - 2s 2ms/step - loss: 0.0052\n",
      "Epoch 36/100\n",
      "915/915 [==============================] - 2s 2ms/step - loss: 0.0052\n",
      "Epoch 37/100\n",
      "915/915 [==============================] - 2s 2ms/step - loss: 0.0049\n",
      "Epoch 38/100\n",
      "915/915 [==============================] - 2s 2ms/step - loss: 0.0053\n",
      "Epoch 39/100\n",
      "915/915 [==============================] - 2s 2ms/step - loss: 0.0055\n",
      "Epoch 40/100\n",
      "915/915 [==============================] - 2s 2ms/step - loss: 0.0055\n",
      "Epoch 41/100\n",
      "915/915 [==============================] - 2s 2ms/step - loss: 0.0044\n",
      "Epoch 42/100\n",
      "915/915 [==============================] - 2s 2ms/step - loss: 0.0047\n",
      "Epoch 43/100\n",
      "915/915 [==============================] - 2s 2ms/step - loss: 0.0047\n",
      "Epoch 44/100\n",
      "915/915 [==============================] - 2s 2ms/step - loss: 0.0043\n",
      "Epoch 45/100\n",
      "915/915 [==============================] - 2s 2ms/step - loss: 0.0049\n",
      "Epoch 46/100\n",
      "915/915 [==============================] - 2s 2ms/step - loss: 0.0051\n",
      "Epoch 47/100\n",
      "915/915 [==============================] - 2s 2ms/step - loss: 0.0052\n",
      "Epoch 48/100\n",
      "915/915 [==============================] - 2s 2ms/step - loss: 0.0041\n",
      "Epoch 49/100\n",
      "915/915 [==============================] - 2s 2ms/step - loss: 0.0042\n",
      "Epoch 50/100\n",
      "915/915 [==============================] - 2s 2ms/step - loss: 0.0048\n",
      "Epoch 51/100\n",
      "915/915 [==============================] - 2s 2ms/step - loss: 0.0041\n",
      "Epoch 52/100\n",
      "915/915 [==============================] - 2s 2ms/step - loss: 0.0045\n",
      "Epoch 53/100\n",
      "915/915 [==============================] - 2s 2ms/step - loss: 0.0039\n",
      "Epoch 54/100\n",
      "915/915 [==============================] - 2s 2ms/step - loss: 0.0038\n",
      "Epoch 55/100\n",
      "915/915 [==============================] - 2s 2ms/step - loss: 0.0039\n",
      "Epoch 56/100\n",
      "915/915 [==============================] - 2s 2ms/step - loss: 0.0045\n",
      "Epoch 57/100\n",
      "915/915 [==============================] - 2s 2ms/step - loss: 0.0039\n",
      "Epoch 58/100\n",
      "915/915 [==============================] - 2s 2ms/step - loss: 0.0043\n",
      "Epoch 59/100\n",
      "915/915 [==============================] - 2s 2ms/step - loss: 0.0036\n",
      "Epoch 60/100\n",
      "915/915 [==============================] - 2s 2ms/step - loss: 0.0037\n",
      "Epoch 61/100\n",
      "915/915 [==============================] - 2s 2ms/step - loss: 0.0041\n",
      "Epoch 62/100\n",
      "915/915 [==============================] - 2s 2ms/step - loss: 0.0041\n",
      "Epoch 63/100\n",
      "915/915 [==============================] - 2s 2ms/step - loss: 0.0040\n",
      "Epoch 64/100\n",
      "915/915 [==============================] - 2s 2ms/step - loss: 0.0040\n",
      "Epoch 65/100\n",
      "915/915 [==============================] - 2s 2ms/step - loss: 0.0038\n",
      "Epoch 66/100\n",
      "915/915 [==============================] - 2s 2ms/step - loss: 0.0037\n",
      "Epoch 67/100\n",
      "915/915 [==============================] - 2s 2ms/step - loss: 0.0038\n",
      "Epoch 68/100\n",
      "915/915 [==============================] - 2s 2ms/step - loss: 0.0039\n",
      "Epoch 69/100\n",
      "915/915 [==============================] - 2s 2ms/step - loss: 0.0034\n",
      "Epoch 70/100\n",
      "915/915 [==============================] - 2s 2ms/step - loss: 0.0037\n",
      "Epoch 71/100\n",
      "915/915 [==============================] - 2s 2ms/step - loss: 0.0036\n",
      "Epoch 72/100\n",
      "915/915 [==============================] - 2s 2ms/step - loss: 0.0037\n",
      "Epoch 73/100\n",
      "915/915 [==============================] - 2s 2ms/step - loss: 0.0035\n",
      "Epoch 74/100\n",
      "915/915 [==============================] - 2s 2ms/step - loss: 0.0034\n",
      "Epoch 75/100\n",
      "915/915 [==============================] - 2s 2ms/step - loss: 0.0033\n",
      "Epoch 76/100\n",
      "915/915 [==============================] - 2s 2ms/step - loss: 0.0041\n",
      "Epoch 77/100\n",
      "915/915 [==============================] - 2s 2ms/step - loss: 0.0038\n",
      "Epoch 78/100\n",
      "915/915 [==============================] - 2s 2ms/step - loss: 0.0036\n",
      "Epoch 79/100\n",
      "915/915 [==============================] - 2s 2ms/step - loss: 0.0033\n",
      "Epoch 80/100\n",
      "915/915 [==============================] - 2s 2ms/step - loss: 0.0030\n",
      "Epoch 81/100\n",
      "915/915 [==============================] - 2s 2ms/step - loss: 0.0032\n",
      "Epoch 82/100\n",
      "915/915 [==============================] - 2s 2ms/step - loss: 0.0031\n",
      "Epoch 83/100\n",
      "915/915 [==============================] - 2s 2ms/step - loss: 0.0031\n",
      "Epoch 84/100\n",
      "915/915 [==============================] - 2s 2ms/step - loss: 0.0034\n",
      "Epoch 85/100\n",
      "915/915 [==============================] - 2s 2ms/step - loss: 0.0030\n",
      "Epoch 86/100\n",
      "915/915 [==============================] - 2s 2ms/step - loss: 0.0030\n",
      "Epoch 87/100\n",
      "915/915 [==============================] - 2s 2ms/step - loss: 0.0030\n",
      "Epoch 88/100\n",
      "915/915 [==============================] - 2s 2ms/step - loss: 0.0034\n",
      "Epoch 89/100\n",
      "915/915 [==============================] - 2s 2ms/step - loss: 0.0033\n",
      "Epoch 90/100\n",
      "915/915 [==============================] - 2s 2ms/step - loss: 0.0027\n",
      "Epoch 91/100\n",
      "915/915 [==============================] - 2s 2ms/step - loss: 0.0031\n",
      "Epoch 92/100\n",
      "915/915 [==============================] - 2s 2ms/step - loss: 0.0030\n",
      "Epoch 93/100\n",
      "915/915 [==============================] - 2s 2ms/step - loss: 0.0029\n",
      "Epoch 94/100\n",
      "915/915 [==============================] - 2s 2ms/step - loss: 0.0031\n",
      "Epoch 95/100\n",
      "915/915 [==============================] - 2s 2ms/step - loss: 0.0029\n",
      "Epoch 96/100\n",
      "915/915 [==============================] - 2s 2ms/step - loss: 0.0029\n",
      "Epoch 97/100\n",
      "915/915 [==============================] - 2s 2ms/step - loss: 0.0027\n",
      "Epoch 98/100\n",
      "915/915 [==============================] - 2s 2ms/step - loss: 0.0029\n",
      "Epoch 99/100\n"
     ]
    },
    {
     "name": "stdout",
     "output_type": "stream",
     "text": [
      "915/915 [==============================] - 2s 2ms/step - loss: 0.0031\n",
      "Epoch 100/100\n",
      "915/915 [==============================] - 2s 2ms/step - loss: 0.0027\n"
     ]
    },
    {
     "data": {
      "text/plain": [
       "<keras.callbacks.callbacks.History at 0x7f0eca0cefd0>"
      ]
     },
     "execution_count": 15,
     "metadata": {},
     "output_type": "execute_result"
    }
   ],
   "source": [
    "regressor.fit(X_train, y_train, epochs=100, batch_size=32)"
   ]
  },
  {
   "cell_type": "markdown",
   "metadata": {},
   "source": [
    "# 11. Load test data"
   ]
  },
  {
   "cell_type": "code",
   "execution_count": 16,
   "metadata": {},
   "outputs": [],
   "source": [
    "real_stock_price = dataset_test.iloc[:, 5:6].values"
   ]
  },
  {
   "cell_type": "markdown",
   "metadata": {},
   "source": [
    "# 12. Get the predicted stock price"
   ]
  },
  {
   "cell_type": "code",
   "execution_count": 17,
   "metadata": {},
   "outputs": [
    {
     "data": {
      "text/plain": [
       "array([174.63606262, 174.63606262, 173.72174072, 175.55036926,\n",
       "       175.0932312 , 174.63606262, 177.37904358, 177.37904358,\n",
       "       178.29335022, 180.12199402, 182.4078064 , 178.29335022,\n",
       "       176.00752258, 176.46470642, 178.29335022, 178.7505188 ,\n",
       "       176.92185974, 177.37904358, 177.83621216, 176.46470642,\n",
       "       171.43592834, 168.69293213, 170.52159119, 170.52159119,\n",
       "       168.69293213, 165.03564453, 165.03564453, 162.74983215,\n",
       "       165.03564453, 165.49281311, 166.40713501, 166.86430359,\n",
       "       164.12130737, 163.66415405, 163.20700073, 160.00686646,\n",
       "       162.29266357, 162.74983215, 160.92120361, 160.92120361,\n",
       "       159.54969788, 160.00686646, 160.92120361, 162.74983215,\n",
       "       162.74983215, 162.29266357, 163.66415405, 170.06442261,\n",
       "       170.97875977, 169.60726929, 170.97875977, 167.77861023,\n",
       "       168.69293213, 169.60726929, 170.06442261, 170.97875977,\n",
       "       170.52159119, 170.52159119, 172.80740356, 174.63606262,\n",
       "       179.66485596, 177.37904358, 178.29335022, 179.20768738,\n",
       "       177.83621216, 177.37904358, 175.55036926, 175.55036926,\n",
       "       177.83621216, 176.92185974, 176.00752258, 175.55036926,\n",
       "       176.46470642, 178.29335022, 179.66485596, 181.03633118,\n",
       "       176.46470642, 177.37904358, 177.37904358, 176.92185974,\n",
       "       176.00752258, 177.37904358, 177.83621216, 177.83621216,\n",
       "       175.55036926, 176.46470642, 175.55036926, 176.00752258,\n",
       "       176.92185974, 178.7505188 , 178.29335022, 179.20768738,\n",
       "       178.29335022, 177.37904358, 176.92185974, 176.00752258,\n",
       "       176.00752258, 177.83621216, 179.20768738, 179.20768738,\n",
       "       181.03633118, 180.12199402, 179.66485596, 182.86497498,\n",
       "       180.57917786, 183.77931213, 186.52227783, 190.17958069,\n",
       "       189.26525879, 189.26525879, 189.26525879, 193.83686829,\n",
       "       192.00823975, 192.00823975, 192.00823975, 191.09391785,\n",
       "       191.09391785, 193.83686829, 188.35093689, 190.17958069,\n",
       "       188.35093689, 190.17958069, 191.09391785, 189.26525879,\n",
       "       184.69363403, 183.36262512, 187.08572388, 185.68955994,\n",
       "       186.15493774, 187.08572388, 189.87805176, 188.94726562,\n",
       "       188.94726562, 192.67037964, 189.87805176, 193.60115051,\n",
       "       192.67037964, 191.73959351, 194.53190613, 193.60115051,\n",
       "       194.53190613, 192.67037964, 191.73959351, 194.53190613,\n",
       "       189.87805176, 181.50106812, 180.57029724, 183.36262512,\n",
       "       184.7587738 , 182.43186951, 178.24337769, 175.45103455,\n",
       "       178.70874023, 179.63952637, 181.03569031, 181.50106812,\n",
       "       180.10490417, 181.03569031, 180.10490417, 178.24337769,\n",
       "       177.31259155, 177.31259155, 181.03569031, 180.10490417,\n",
       "       181.96644592, 179.1741333 , 179.63952637, 177.77796936,\n",
       "       177.77796936, 176.38180542, 175.91642761, 177.31259155,\n",
       "       179.63952637, 175.91642761, 178.24337769, 173.12409973,\n",
       "       174.52026367, 174.52026367, 173.12409973, 174.05487061,\n",
       "       172.65872192, 172.1933136 , 178.24337769, 178.24337769,\n",
       "       180.10490417, 179.63952637, 182.89723206, 183.82801819,\n",
       "       183.36262512, 183.36262512, 183.36262512, 183.36262512,\n",
       "       183.82801819, 182.89723206, 183.36262512, 182.89723206,\n",
       "       184.293396  , 183.82801819, 183.82801819, 183.82801819,\n",
       "       185.68955994, 188.01649475, 189.87805176, 188.01649475,\n",
       "       184.7587738 , 185.68955994, 185.68955994, 189.87805176,\n",
       "       189.87805176, 188.01649475, 186.15493774, 183.57446289,\n",
       "       184.5231781 , 186.89492798, 189.74104309, 187.84364319,\n",
       "       187.84364319, 189.26669312, 188.79234314, 189.74104309,\n",
       "       191.63845825, 192.5871582 , 190.6897583 , 191.63845825,\n",
       "       190.6897583 , 190.6897583 , 188.31797791, 187.84364319,\n",
       "       186.420578  , 188.79234314, 189.26669312, 189.74104309,\n",
       "       190.6897583 , 189.74104309, 190.6897583 , 193.53587341,\n",
       "       190.6897583 , 190.6897583 , 191.63845825, 189.74104309,\n",
       "       189.26669312, 191.63845825, 191.63845825, 190.6897583 ,\n",
       "       189.74104309, 189.26669312, 188.79234314, 188.79234314,\n",
       "       188.31797791, 186.89492798, 185.47186279, 188.31797791,\n",
       "       185.94624329, 185.94624329, 187.36929321, 185.94624329,\n",
       "       186.420578  , 186.89492798, 184.99751282, 181.20269775,\n",
       "       182.62576294, 183.10011292, 184.5231781 , 182.15139771,\n",
       "       185.94624329, 186.420578  , 179.30529785, 175.03611755,\n",
       "       172.18998718, 174.56176758, 173.61305237, 172.66435242,\n",
       "       172.18998718, 172.18998718, 171.71565247, 168.39517212,\n",
       "       167.44648743, 171.24128723, 168.39517212, 168.39517212,\n",
       "       167.92082214, 168.39517212, 168.86952209, 168.86952209,\n",
       "       172.18998718, 167.44648743, 169.34388733, 169.8182373 ,\n",
       "       167.44648743, 167.92082214, 166.02342224, 164.12602234,\n",
       "       163.65164185, 157.95942688, 161.27989197, 162.22859192,\n",
       "       159.38247681, 163.65164185, 164.60035706, 164.12602234,\n",
       "       163.65164185, 162.22859192, 161.75424194, 160.80554199,\n",
       "       163.65164185])"
      ]
     },
     "execution_count": 17,
     "metadata": {},
     "output_type": "execute_result"
    }
   ],
   "source": [
    "dataset_total = pd.concat((dataset_train['Adj Close'], dataset_test['Adj Close']), axis=0)\n",
    "\n",
    "inputs = dataset_total[len(dataset_total) - len(dataset_test) - 60:].values\n",
    "inputs"
   ]
  },
  {
   "cell_type": "code",
   "execution_count": 18,
   "metadata": {},
   "outputs": [],
   "source": [
    "inputs = inputs.reshape(-1,1)\n",
    "inputs = sc.transform(inputs)"
   ]
  },
  {
   "cell_type": "code",
   "execution_count": 19,
   "metadata": {},
   "outputs": [],
   "source": [
    "X_test = []\n",
    "for i in range(60, len(dataset_test) + 60):\n",
    "    X_test.append(inputs[i-60:i, 0])\n",
    "X_test = np.array(X_test)\n",
    "X_test = np.reshape(X_test, (X_test.shape[0], X_test.shape[1], 1))\n",
    "\n",
    "predicted_stock_price = regressor.predict(X_test)\n",
    "predicted_stock_price = sc.inverse_transform(predicted_stock_price)"
   ]
  },
  {
   "cell_type": "markdown",
   "metadata": {},
   "source": [
    "# 13. Visualize the results"
   ]
  },
  {
   "cell_type": "code",
   "execution_count": 20,
   "metadata": {},
   "outputs": [
    {
     "data": {
      "image/png": "[encoded data removed]",
      "text/plain": [
       "<Figure size 432x288 with 1 Axes>"
      ]
     },
     "metadata": {
      "needs_background": "light"
     },
     "output_type": "display_data"
    }
   ],
   "source": [
    "plt.plot(real_stock_price, color = 'red', label='Real ADVANC Price')\n",
    "plt.plot(predicted_stock_price, color='blue',label='Predicted ADVANC Price')\n",
    "plt.title('ADVANC Price Prediction')\n",
    "plt.xlabel('Time')\n",
    "plt.ylabel('ADVANC Stock Price')\n",
    "plt.legend()\n",
    "plt.show()"
   ]
  },
  {
   "cell_type": "code",
   "execution_count": null,
   "metadata": {},
   "outputs": [],
   "source": []
  }
 ],
 "metadata": {
  "kernelspec": {
   "display_name": "Python 3",
   "language": "python",
   "name": "python3"
  },
  "language_info": {
   "codemirror_mode": {
    "name": "ipython",
    "version": 3
   },
   "file_extension": ".py",
   "mimetype": "text/x-python",
   "name": "python",
   "nbconvert_exporter": "python",
   "pygments_lexer": "ipython3",
   "version": "3.7.3"
  }
 },
 "nbformat": 4,
 "nbformat_minor": 2
}
