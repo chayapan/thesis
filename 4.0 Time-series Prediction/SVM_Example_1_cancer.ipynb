{
  "nbformat": 4,
  "nbformat_minor": 0,
  "metadata": {
    "colab": {
      "name": "SVM_Example_1_cancer.ipynb",
      "provenance": [],
      "collapsed_sections": [],
      "toc_visible": true
    },
    "kernelspec": {
      "name": "python3",
      "display_name": "Python 3"
    }
  },
  "cells": [
    {
      "cell_type": "markdown",
      "metadata": {
        "id": "K361AXt9H2ww"
      },
      "source": [
        "This notebook follow the tutorial https://towardsdatascience.com/svm-implementation-from-scratch-python-2db2fc52e5c2\n",
        "\n",
        "svm.py creates model for cancer classification\n",
        "\n",
        "The breast cancer dataset https://www.kaggle.com/uciml/breast-cancer-wisconsin-data\n",
        "\n"
      ]
    },
    {
      "cell_type": "code",
      "metadata": {
        "id": "5SoRa96wH0fO"
      },
      "source": [
        "\n",
        "# svm.py\n",
        "import numpy as np  # for handling multi-dimensional array operation\n",
        "import pandas as pd  # for reading data from csv \n",
        "import statsmodels.api as sm  # for finding the p-value\n",
        "from sklearn.preprocessing import MinMaxScaler  # for normalization\n",
        "from sklearn.model_selection import train_test_split as tts\n",
        "from sklearn.metrics import accuracy_score \n",
        "from sklearn.utils import shuffle\n",
        "# >> FEATURE SELECTION << #\n",
        "def remove_correlated_features(X):\n",
        "\n",
        "    corr_threshold = 0.9\n",
        "    corr = X.corr()\n",
        "    drop_columns = np.full(corr.shape[0], False, dtype=bool)\n",
        "    for i in range(corr.shape[0]):\n",
        "        for j in range(i + 1, corr.shape[0]):\n",
        "            if corr.iloc[i, j] >= corr_threshold:\n",
        "                drop_columns[j] = True\n",
        "    columns_dropped = X.columns[drop_columns]\n",
        "    X.drop(columns_dropped, axis=1, inplace=True)\n",
        "    print(\"Drop %s\" % columns_dropped)\n",
        "    return columns_dropped\n",
        "\n",
        "def remove_less_significant_features(X, Y):\n",
        "    sl = 0.05\n",
        "    regression_ols = None\n",
        "    columns_dropped = np.array([])\n",
        "    for itr in range(0, len(X.columns)):\n",
        "        regression_ols = sm.OLS(Y, X).fit()\n",
        "        max_col = regression_ols.pvalues.idxmax()\n",
        "        max_val = regression_ols.pvalues.max()\n",
        "        if max_val > sl:\n",
        "            X.drop(max_col, axis='columns', inplace=True)\n",
        "            columns_dropped = np.append(columns_dropped, [max_col])\n",
        "        else:\n",
        "            break\n",
        "    regression_ols.summary()\n",
        "    return columns_dropped\n",
        "\n",
        "# >> MODEL TRAINING << #\n",
        "def compute_cost(W, X, Y):\n",
        "    # Cost function\n",
        "    # calculate hinge loss\n",
        "    N = X.shape[0]\n",
        "    distances = 1 - Y * (np.dot(X, W))\n",
        "    distances[distances < 0] = 0  # equivalent to max(0, distance)\n",
        "    hinge_loss = reg_strength * (np.sum(distances) / N)\n",
        "    \n",
        "    # calculate cost\n",
        "    cost = 1 / 2 * np.dot(W, W) + hinge_loss\n",
        "    return cost\n",
        "\n",
        "\n",
        "def calculate_cost_gradient(W, X_batch, Y_batch):\n",
        "    # if only one example is passed (eg. in case of SGD)\n",
        "    if type(Y_batch) == np.float64:\n",
        "        Y_batch = np.array([Y_batch])\n",
        "        X_batch = np.array([X_batch])\n",
        "        \n",
        "    distance = 1 - (Y_batch * np.dot(X_batch, W))\n",
        "    dw = np.zeros(len(W))\n",
        "    for ind, d in enumerate(distance):\n",
        "        if max(0, d) == 0:\n",
        "            di = W\n",
        "        else:\n",
        "            di = W - (reg_strength * Y_batch[ind] * X_batch[ind])\n",
        "        dw += di\n",
        "    dw = dw/len(Y_batch)  # average\n",
        "    return dw\n",
        "\n",
        "def sgd(features, outputs):\n",
        "    max_epochs = 5000\n",
        "    weights = np.zeros(features.shape[1])\n",
        "    # stochastic gradient descent\n",
        "    for epoch in range(1, max_epochs): \n",
        "        # shuffle to prevent repeating update cycles\n",
        "        X, Y = shuffle(features, outputs)\n",
        "        for ind, x in enumerate(X):\n",
        "            ascent = calculate_cost_gradient(weights, x, Y[ind])\n",
        "            weights = weights - (learning_rate * ascent)\n",
        "\n",
        "            # Stop criteria\n",
        "            # convergence check on 2^nth epoch\n",
        "            if epoch == 2 ** nth or epoch == max_epochs - 1:\n",
        "                cost = compute_cost(weights, features, outputs)\n",
        "                print(\"Epoch is:{} and Cost is: {}\".format(epoch, cost))\n",
        "                # stoppage criterion\n",
        "                if abs(prev_cost - cost) < cost_threshold * prev_cost:\n",
        "                    return weights\n",
        "                prev_cost = cost\n",
        "                nth += 1        \n",
        "        \n",
        "    return weights\n",
        "\n",
        "def init():\n",
        "    data = pd.read_csv('./datasets_180_408_data.csv')\n",
        "\n",
        "    # SVM only accepts numerical values. \n",
        "    # Therefore, we will transform the categories M and B into\n",
        "    # values 1 and -1 (or -1 and 1), respectively.\n",
        "    diagnosis_map = {'M':1, 'B':-1}\n",
        "    data['diagnosis'] = data['diagnosis'].map(diagnosis_map)\n",
        "    # drop last column (extra column added by pd)\n",
        "    # and unnecessary first column (id)\n",
        "    data.drop(data.columns[[-1, 0]], axis=1, inplace=True)\n",
        "\n",
        "    # Feature Engineering\n",
        "    # put features & outputs in different DataFrames for convenience\n",
        "    Y = data.loc[:, 'diagnosis']  # all rows of 'diagnosis' \n",
        "    X = data.iloc[:, 1:]  # all rows of column 1 and ahead (features)\n",
        "\n",
        "\n",
        "    # filter features\n",
        "    remove_correlated_features(X)\n",
        "    remove_less_significant_features(X, Y)\n",
        "\n",
        "\n",
        "    # normalize the features using MinMaxScalar from\n",
        "    # sklearn.preprocessing\n",
        "    X_normalized = MinMaxScaler().fit_transform(X.values)\n",
        "    X = pd.DataFrame(X_normalized)\n",
        "\n",
        "    # Splitting the Dataset\n",
        "    # first insert 1 in every row for intercept b\n",
        "    X.insert(loc=len(X.columns), column='intercept', value=1)\n",
        "    # test_size is the portion of data that will go into test set\n",
        "    # random_state is the seed used by the random number generator\n",
        "    print(\"splitting dataset into train and test sets...\")\n",
        "    X_train, X_test, y_train, y_test = tts(X, Y, test_size=0.2, random_state=42)\n",
        "\n",
        "\n",
        "    # Train using SGD\n",
        "    # train the model\n",
        "    print(\"training started...\")\n",
        "    W = sgd(X_train.to_numpy(), y_train.to_numpy())\n",
        "    print(\"training finished.\")\n",
        "    print(\"weights are: {}\".format(W))\n",
        "\n",
        "    # Test the model\n",
        "    # testing the model on test set\n",
        "    y_test_predicted = np.array([])\n",
        "    for i in range(X_test.shape[0]):\n",
        "        yp = np.sign(np.dot(W, X_test.to_numpy()[i])) #model\n",
        "        y_test_predicted = np.append(y_test_predicted, yp)\n",
        "    print(\"accuracy on test dataset: {}\".format(accuracy_score(y_test.to_numpy(), y_test_predicted)))\n",
        "    print(\"recall on test dataset: {}\".format(recall_score(y_test.to_numpy(), y_test_predicted)))\n",
        "    print(\"precision on test dataset: {}\".format(recall_score(y_test.to_numpy(), y_test_predicted)))"
      ],
      "execution_count": null,
      "outputs": []
    },
    {
      "cell_type": "markdown",
      "metadata": {
        "id": "nVf9iLBAIuJ-"
      },
      "source": [
        "Run the model"
      ]
    },
    {
      "cell_type": "code",
      "metadata": {
        "id": "FwfZSSwZJtBc",
        "colab": {
          "base_uri": "https://localhost:8080/",
          "height": 443
        },
        "outputId": "79e7f233-bb51-4901-d17f-3bc9b1ffac3d"
      },
      "source": [
        "# set hyper-parameters and call init\n",
        "# hyper-parameters are normally tuned using cross-validation\n",
        "# but following work good enough\n",
        "reg_strength = 10000 # regularization strength\n",
        "learning_rate = 0.000001\n",
        "init()"
      ],
      "execution_count": null,
      "outputs": [
        {
          "output_type": "stream",
          "text": [
            "Drop Index(['perimeter_mean', 'area_mean', 'concave points_mean', 'perimeter_se',\n",
            "       'area_se', 'radius_worst', 'texture_worst', 'perimeter_worst',\n",
            "       'area_worst', 'concave points_worst'],\n",
            "      dtype='object')\n",
            "splitting dataset into train and test sets...\n",
            "training started...\n"
          ],
          "name": "stdout"
        },
        {
          "output_type": "error",
          "ename": "TypeError",
          "evalue": "ignored",
          "traceback": [
            "\u001b[0;31m---------------------------------------------------------------------------\u001b[0m",
            "\u001b[0;31mTypeError\u001b[0m                                 Traceback (most recent call last)",
            "\u001b[0;32m<ipython-input-8-d7e9e8774b92>\u001b[0m in \u001b[0;36m<module>\u001b[0;34m()\u001b[0m\n\u001b[1;32m      4\u001b[0m \u001b[0mreg_strength\u001b[0m \u001b[0;34m=\u001b[0m \u001b[0;36m10000\u001b[0m \u001b[0;31m# regularization strength\u001b[0m\u001b[0;34m\u001b[0m\u001b[0;34m\u001b[0m\u001b[0m\n\u001b[1;32m      5\u001b[0m \u001b[0mlearning_rate\u001b[0m \u001b[0;34m=\u001b[0m \u001b[0;36m0.000001\u001b[0m\u001b[0;34m\u001b[0m\u001b[0;34m\u001b[0m\u001b[0m\n\u001b[0;32m----> 6\u001b[0;31m \u001b[0minit\u001b[0m\u001b[0;34m(\u001b[0m\u001b[0;34m)\u001b[0m\u001b[0;34m\u001b[0m\u001b[0;34m\u001b[0m\u001b[0m\n\u001b[0m",
            "\u001b[0;32m<ipython-input-7-4ea55fff0abf>\u001b[0m in \u001b[0;36minit\u001b[0;34m()\u001b[0m\n\u001b[1;32m    134\u001b[0m     \u001b[0;31m# train the model\u001b[0m\u001b[0;34m\u001b[0m\u001b[0;34m\u001b[0m\u001b[0;34m\u001b[0m\u001b[0m\n\u001b[1;32m    135\u001b[0m     \u001b[0mprint\u001b[0m\u001b[0;34m(\u001b[0m\u001b[0;34m\"training started...\"\u001b[0m\u001b[0;34m)\u001b[0m\u001b[0;34m\u001b[0m\u001b[0;34m\u001b[0m\u001b[0m\n\u001b[0;32m--> 136\u001b[0;31m     \u001b[0mW\u001b[0m \u001b[0;34m=\u001b[0m \u001b[0msgd\u001b[0m\u001b[0;34m(\u001b[0m\u001b[0mX_train\u001b[0m\u001b[0;34m.\u001b[0m\u001b[0mto_numpy\u001b[0m\u001b[0;34m(\u001b[0m\u001b[0;34m)\u001b[0m\u001b[0;34m,\u001b[0m \u001b[0my_train\u001b[0m\u001b[0;34m.\u001b[0m\u001b[0mto_numpy\u001b[0m\u001b[0;34m(\u001b[0m\u001b[0;34m)\u001b[0m\u001b[0;34m)\u001b[0m\u001b[0;34m\u001b[0m\u001b[0;34m\u001b[0m\u001b[0m\n\u001b[0m\u001b[1;32m    137\u001b[0m     \u001b[0mprint\u001b[0m\u001b[0;34m(\u001b[0m\u001b[0;34m\"training finished.\"\u001b[0m\u001b[0;34m)\u001b[0m\u001b[0;34m\u001b[0m\u001b[0;34m\u001b[0m\u001b[0m\n\u001b[1;32m    138\u001b[0m     \u001b[0mprint\u001b[0m\u001b[0;34m(\u001b[0m\u001b[0;34m\"weights are: {}\"\u001b[0m\u001b[0;34m.\u001b[0m\u001b[0mformat\u001b[0m\u001b[0;34m(\u001b[0m\u001b[0mW\u001b[0m\u001b[0;34m)\u001b[0m\u001b[0;34m)\u001b[0m\u001b[0;34m\u001b[0m\u001b[0;34m\u001b[0m\u001b[0m\n",
            "\u001b[0;32m<ipython-input-7-4ea55fff0abf>\u001b[0m in \u001b[0;36msgd\u001b[0;34m(features, outputs)\u001b[0m\n\u001b[1;32m     78\u001b[0m         \u001b[0mX\u001b[0m\u001b[0;34m,\u001b[0m \u001b[0mY\u001b[0m \u001b[0;34m=\u001b[0m \u001b[0mshuffle\u001b[0m\u001b[0;34m(\u001b[0m\u001b[0mfeatures\u001b[0m\u001b[0;34m,\u001b[0m \u001b[0moutputs\u001b[0m\u001b[0;34m)\u001b[0m\u001b[0;34m\u001b[0m\u001b[0;34m\u001b[0m\u001b[0m\n\u001b[1;32m     79\u001b[0m         \u001b[0;32mfor\u001b[0m \u001b[0mind\u001b[0m\u001b[0;34m,\u001b[0m \u001b[0mx\u001b[0m \u001b[0;32min\u001b[0m \u001b[0menumerate\u001b[0m\u001b[0;34m(\u001b[0m\u001b[0mX\u001b[0m\u001b[0;34m)\u001b[0m\u001b[0;34m:\u001b[0m\u001b[0;34m\u001b[0m\u001b[0;34m\u001b[0m\u001b[0m\n\u001b[0;32m---> 80\u001b[0;31m             \u001b[0mascent\u001b[0m \u001b[0;34m=\u001b[0m \u001b[0mcalculate_cost_gradient\u001b[0m\u001b[0;34m(\u001b[0m\u001b[0mweights\u001b[0m\u001b[0;34m,\u001b[0m \u001b[0mx\u001b[0m\u001b[0;34m,\u001b[0m \u001b[0mY\u001b[0m\u001b[0;34m[\u001b[0m\u001b[0mind\u001b[0m\u001b[0;34m]\u001b[0m\u001b[0;34m)\u001b[0m\u001b[0;34m\u001b[0m\u001b[0;34m\u001b[0m\u001b[0m\n\u001b[0m\u001b[1;32m     81\u001b[0m             \u001b[0mweights\u001b[0m \u001b[0;34m=\u001b[0m \u001b[0mweights\u001b[0m \u001b[0;34m-\u001b[0m \u001b[0;34m(\u001b[0m\u001b[0mlearning_rate\u001b[0m \u001b[0;34m*\u001b[0m \u001b[0mascent\u001b[0m\u001b[0;34m)\u001b[0m\u001b[0;34m\u001b[0m\u001b[0;34m\u001b[0m\u001b[0m\n\u001b[1;32m     82\u001b[0m \u001b[0;34m\u001b[0m\u001b[0m\n",
            "\u001b[0;32m<ipython-input-7-4ea55fff0abf>\u001b[0m in \u001b[0;36mcalculate_cost_gradient\u001b[0;34m(W, X_batch, Y_batch)\u001b[0m\n\u001b[1;32m     61\u001b[0m     \u001b[0mdistance\u001b[0m \u001b[0;34m=\u001b[0m \u001b[0;36m1\u001b[0m \u001b[0;34m-\u001b[0m \u001b[0;34m(\u001b[0m\u001b[0mY_batch\u001b[0m \u001b[0;34m*\u001b[0m \u001b[0mnp\u001b[0m\u001b[0;34m.\u001b[0m\u001b[0mdot\u001b[0m\u001b[0;34m(\u001b[0m\u001b[0mX_batch\u001b[0m\u001b[0;34m,\u001b[0m \u001b[0mW\u001b[0m\u001b[0;34m)\u001b[0m\u001b[0;34m)\u001b[0m\u001b[0;34m\u001b[0m\u001b[0;34m\u001b[0m\u001b[0m\n\u001b[1;32m     62\u001b[0m     \u001b[0mdw\u001b[0m \u001b[0;34m=\u001b[0m \u001b[0mnp\u001b[0m\u001b[0;34m.\u001b[0m\u001b[0mzeros\u001b[0m\u001b[0;34m(\u001b[0m\u001b[0mlen\u001b[0m\u001b[0;34m(\u001b[0m\u001b[0mW\u001b[0m\u001b[0;34m)\u001b[0m\u001b[0;34m)\u001b[0m\u001b[0;34m\u001b[0m\u001b[0;34m\u001b[0m\u001b[0m\n\u001b[0;32m---> 63\u001b[0;31m     \u001b[0;32mfor\u001b[0m \u001b[0mind\u001b[0m\u001b[0;34m,\u001b[0m \u001b[0md\u001b[0m \u001b[0;32min\u001b[0m \u001b[0menumerate\u001b[0m\u001b[0;34m(\u001b[0m\u001b[0mdistance\u001b[0m\u001b[0;34m)\u001b[0m\u001b[0;34m:\u001b[0m\u001b[0;34m\u001b[0m\u001b[0;34m\u001b[0m\u001b[0m\n\u001b[0m\u001b[1;32m     64\u001b[0m         \u001b[0;32mif\u001b[0m \u001b[0mmax\u001b[0m\u001b[0;34m(\u001b[0m\u001b[0;36m0\u001b[0m\u001b[0;34m,\u001b[0m \u001b[0md\u001b[0m\u001b[0;34m)\u001b[0m \u001b[0;34m==\u001b[0m \u001b[0;36m0\u001b[0m\u001b[0;34m:\u001b[0m\u001b[0;34m\u001b[0m\u001b[0;34m\u001b[0m\u001b[0m\n\u001b[1;32m     65\u001b[0m             \u001b[0mdi\u001b[0m \u001b[0;34m=\u001b[0m \u001b[0mW\u001b[0m\u001b[0;34m\u001b[0m\u001b[0;34m\u001b[0m\u001b[0m\n",
            "\u001b[0;31mTypeError\u001b[0m: 'numpy.float64' object is not iterable"
          ]
        }
      ]
    },
    {
      "cell_type": "code",
      "metadata": {
        "id": "DOAVN60yJxKS"
      },
      "source": [
        ""
      ],
      "execution_count": null,
      "outputs": []
    }
  ]
}