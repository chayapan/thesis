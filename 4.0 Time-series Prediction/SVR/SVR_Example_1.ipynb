{
  "nbformat": 4,
  "nbformat_minor": 0,
  "metadata": {
    "colab": {
      "name": "SVR_Example_1.ipynb",
      "provenance": [],
      "collapsed_sections": []
    },
    "kernelspec": {
      "name": "python3",
      "display_name": "Python 3"
    }
  },
  "cells": [
    {
      "cell_type": "markdown",
      "metadata": {
        "id": "Ax_kb-TCFc3I"
      },
      "source": [
        "Support Vector Regression in Python Using Scikit-Learn\n",
        "Dhiraj K\n",
        "https://heartbeat.fritz.ai/support-vector-regression-in-python-using-scikit-learn-89cc18e933b7\n",
        "\n",
        "This article has few details on the parameter, the context of the problem, and the explaination of the SVR algorithem itself.\n",
        "\n",
        "Also there is no feature engineering.\n",
        "\n",
        "The evaluation just report RMSE from y_test vs y_pred. This could be improved with k-fold cross validation.\n",
        "\n",
        "\n",
        "I add visualization by using snippets from \"SVR in 6 Steps\" article: https://medium.com/pursuitnotes/support-vector-regression-in-6-steps-with-python-c4569acd062d\n",
        "\n",
        "\n"
      ]
    },
    {
      "cell_type": "code",
      "metadata": {
        "id": "3je7evO9FYz7",
        "colab": {
          "base_uri": "https://localhost:8080/",
          "height": 71
        },
        "outputId": "2369b387-1707-4289-e22b-d50fee442504"
      },
      "source": [
        "import numpy as np\n",
        "import pandas as pd\n",
        "from sklearn.model_selection import train_test_split\n",
        "from sklearn.svm import SVR\n",
        "from sklearn.metrics import r2_score,mean_squared_error\n",
        "import seaborn as sns\n",
        "import matplotlib.pyplot as plt"
      ],
      "execution_count": null,
      "outputs": [
        {
          "output_type": "stream",
          "text": [
            "/usr/local/lib/python3.6/dist-packages/statsmodels/tools/_testing.py:19: FutureWarning: pandas.util.testing is deprecated. Use the functions in the public API at pandas.testing instead.\n",
            "  import pandas.util.testing as tm\n"
          ],
          "name": "stderr"
        }
      ]
    },
    {
      "cell_type": "code",
      "metadata": {
        "id": "pLEP6vTtFqhI"
      },
      "source": [
        "df = pd.read_csv('https://github.com/dhirajk100/SVR/raw/master/Support-Vector-Regression-Data.csv')"
      ],
      "execution_count": null,
      "outputs": []
    },
    {
      "cell_type": "code",
      "metadata": {
        "id": "pRIoXlXnFsbu",
        "colab": {
          "base_uri": "https://localhost:8080/",
          "height": 204
        },
        "outputId": "c80a5f85-c3ee-4d43-e688-1c65c81f19a6"
      },
      "source": [
        "df.head()"
      ],
      "execution_count": null,
      "outputs": [
        {
          "output_type": "execute_result",
          "data": {
            "text/html": [
              "<div>\n",
              "<style scoped>\n",
              "    .dataframe tbody tr th:only-of-type {\n",
              "        vertical-align: middle;\n",
              "    }\n",
              "\n",
              "    .dataframe tbody tr th {\n",
              "        vertical-align: top;\n",
              "    }\n",
              "\n",
              "    .dataframe thead th {\n",
              "        text-align: right;\n",
              "    }\n",
              "</style>\n",
              "<table border=\"1\" class=\"dataframe\">\n",
              "  <thead>\n",
              "    <tr style=\"text-align: right;\">\n",
              "      <th></th>\n",
              "      <th>x</th>\n",
              "      <th>y</th>\n",
              "    </tr>\n",
              "  </thead>\n",
              "  <tbody>\n",
              "    <tr>\n",
              "      <th>0</th>\n",
              "      <td>168.181818</td>\n",
              "      <td>160.840244</td>\n",
              "    </tr>\n",
              "    <tr>\n",
              "      <th>1</th>\n",
              "      <td>187.878788</td>\n",
              "      <td>159.413657</td>\n",
              "    </tr>\n",
              "    <tr>\n",
              "      <th>2</th>\n",
              "      <td>207.575758</td>\n",
              "      <td>157.136809</td>\n",
              "    </tr>\n",
              "    <tr>\n",
              "      <th>3</th>\n",
              "      <td>227.272727</td>\n",
              "      <td>159.357847</td>\n",
              "    </tr>\n",
              "    <tr>\n",
              "      <th>4</th>\n",
              "      <td>246.969697</td>\n",
              "      <td>157.542862</td>\n",
              "    </tr>\n",
              "  </tbody>\n",
              "</table>\n",
              "</div>"
            ],
            "text/plain": [
              "            x           y\n",
              "0  168.181818  160.840244\n",
              "1  187.878788  159.413657\n",
              "2  207.575758  157.136809\n",
              "3  227.272727  159.357847\n",
              "4  246.969697  157.542862"
            ]
          },
          "metadata": {
            "tags": []
          },
          "execution_count": 4
        }
      ]
    },
    {
      "cell_type": "code",
      "metadata": {
        "id": "uO3X1ijyFzu4"
      },
      "source": [
        "x = df.x.values.reshape(-1,1)\n",
        "y = df.y.values.reshape(-1,1)\n",
        "x_train, x_test, y_train, y_test = train_test_split(x, y, test_size=0.40, random_state=42)"
      ],
      "execution_count": null,
      "outputs": []
    },
    {
      "cell_type": "code",
      "metadata": {
        "id": "xnX2buQdGDIK",
        "colab": {
          "base_uri": "https://localhost:8080/",
          "height": 105
        },
        "outputId": "acf46e59-b607-4c00-b9f8-dcd8c6a7f0fc"
      },
      "source": [
        "regressor = SVR()\n",
        "regressor.fit(x_train, y_train)"
      ],
      "execution_count": null,
      "outputs": [
        {
          "output_type": "stream",
          "text": [
            "/usr/local/lib/python3.6/dist-packages/sklearn/utils/validation.py:760: DataConversionWarning: A column-vector y was passed when a 1d array was expected. Please change the shape of y to (n_samples, ), for example using ravel().\n",
            "  y = column_or_1d(y, warn=True)\n"
          ],
          "name": "stderr"
        },
        {
          "output_type": "execute_result",
          "data": {
            "text/plain": [
              "SVR(C=1.0, cache_size=200, coef0=0.0, degree=3, epsilon=0.1, gamma='scale',\n",
              "    kernel='rbf', max_iter=-1, shrinking=True, tol=0.001, verbose=False)"
            ]
          },
          "metadata": {
            "tags": []
          },
          "execution_count": 9
        }
      ]
    },
    {
      "cell_type": "code",
      "metadata": {
        "id": "rOQLO_i3GIcm"
      },
      "source": [
        "y_pred = regressor.predict(x_test)"
      ],
      "execution_count": null,
      "outputs": []
    },
    {
      "cell_type": "code",
      "metadata": {
        "id": "cqWezozJGalD",
        "colab": {
          "base_uri": "https://localhost:8080/",
          "height": 187
        },
        "outputId": "a118a3a5-a59a-40f6-e498-76e3ed094624"
      },
      "source": [
        "y_pred"
      ],
      "execution_count": null,
      "outputs": [
        {
          "output_type": "execute_result",
          "data": {
            "text/plain": [
              "array([164.89505022, 161.29163299, 168.06426163, 171.60215513,\n",
              "       160.1363546 , 162.02409034, 164.68576618, 170.63195718,\n",
              "       159.88437504, 165.7327918 , 173.00225783, 163.84984997,\n",
              "       173.05850919, 169.57616612, 160.0050163 , 159.86299289,\n",
              "       160.66103426, 162.4154598 , 166.78478467, 170.21585727,\n",
              "       160.28230073, 170.83529037, 172.5320615 , 162.81773095,\n",
              "       163.43408651, 159.93794308, 170.42528525, 171.03465902,\n",
              "       163.02182608, 172.40120251, 159.84470766, 171.22939785,\n",
              "       159.83012466, 165.31375592, 166.36288474, 160.39814699,\n",
              "       165.94255165, 163.64165205])"
            ]
          },
          "metadata": {
            "tags": []
          },
          "execution_count": 11
        }
      ]
    },
    {
      "cell_type": "code",
      "metadata": {
        "id": "kRxJJpZmGf7e",
        "colab": {
          "base_uri": "https://localhost:8080/",
          "height": 34
        },
        "outputId": "50e2902b-0e26-4308-b443-4b546196cf26"
      },
      "source": [
        "mse = mean_squared_error(y_test, y_pred)\n",
        "rmse = np.sqrt(mse)\n",
        "\n",
        "rmse"
      ],
      "execution_count": null,
      "outputs": [
        {
          "output_type": "execute_result",
          "data": {
            "text/plain": [
              "1.8299539787308559"
            ]
          },
          "metadata": {
            "tags": []
          },
          "execution_count": 12
        }
      ]
    },
    {
      "cell_type": "code",
      "metadata": {
        "id": "8AU_S2ZhGnVU"
      },
      "source": [
        "import matplotlib.pyplot as plt"
      ],
      "execution_count": null,
      "outputs": []
    },
    {
      "cell_type": "code",
      "metadata": {
        "id": "3VOdlcQVHApM",
        "colab": {
          "base_uri": "https://localhost:8080/",
          "height": 282
        },
        "outputId": "67094103-aaf9-43f6-8bcf-9d0853d6085b"
      },
      "source": [
        "plt.scatter(x_train, y_train, color='yellow') # Training data is yellow\n",
        "plt.scatter(x_test, y_pred, color='red') # Prediction is red\n",
        "plt.scatter(x_test, y_test, color='blue') # True/target is blue"
      ],
      "execution_count": null,
      "outputs": [
        {
          "output_type": "execute_result",
          "data": {
            "text/plain": [
              "<matplotlib.collections.PathCollection at 0x7f66546a5b00>"
            ]
          },
          "metadata": {
            "tags": []
          },
          "execution_count": 18
        },
        {
          "output_type": "display_data",
          "data": {
            "image/png": "[encoded data removed]",
            "text/plain": [
              "<Figure size 432x288 with 1 Axes>"
            ]
          },
          "metadata": {
            "tags": [],
            "needs_background": "light"
          }
        }
      ]
    },
    {
      "cell_type": "code",
      "metadata": {
        "id": "Z1fhsqcWHM6L"
      },
      "source": [
        ""
      ],
      "execution_count": null,
      "outputs": []
    }
  ]
}