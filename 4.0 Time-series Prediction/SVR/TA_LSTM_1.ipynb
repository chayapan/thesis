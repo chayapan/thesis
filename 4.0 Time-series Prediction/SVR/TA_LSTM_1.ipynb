{
 "cells": [
  {
   "cell_type": "markdown",
   "metadata": {},
   "source": [
    "This notebook was the google-stock-rnn tutorial.\n",
    "Deep Learning for Predicting Stock Prices\n",
    "Aditya Gogoi\n",
    "\n",
    "\n",
    "https://github.com/thushv89/datacamp_tutorials\n",
    "\n",
    "- https://github.com/thushv89/datacamp_tutorials/blob/master/Reviewed/lstm_stock_market_prediction.ipynb\n",
    "- https://github.com/jaungiers/LSTM-Neural-Network-for-Time-Series-Prediction\n",
    "- https://machinelearningmastery.com/how-to-develop-lstm-models-for-multi-step-time-series-forecasting-of-household-power-consumption/"
   ]
  },
  {
   "cell_type": "code",
   "execution_count": 2,
   "metadata": {},
   "outputs": [
    {
     "name": "stdout",
     "output_type": "stream",
     "text": [
      "WARNING: pip is being invoked by an old script wrapper. This will fail in a future version of pip.\n",
      "Please see https://github.com/pypa/pip/issues/5599 for advice on fixing the underlying issue.\n",
      "To avoid this problem you can invoke Python with '-m pip' instead of running pip directly.\n",
      "Collecting keras\n",
      "  Using cached Keras-2.3.1-py2.py3-none-any.whl (377 kB)\n",
      "Requirement already satisfied: h5py in /opt/conda/lib/python3.7/site-packages (from keras) (2.10.0)\n",
      "Requirement already satisfied: pyyaml in /opt/conda/lib/python3.7/site-packages (from keras) (5.3)\n",
      "Collecting keras-preprocessing>=1.0.5\n",
      "  Using cached Keras_Preprocessing-1.1.2-py2.py3-none-any.whl (42 kB)\n",
      "Collecting keras-applications>=1.0.6\n",
      "  Using cached Keras_Applications-1.0.8-py3-none-any.whl (50 kB)\n",
      "Requirement already satisfied: numpy>=1.9.1 in /opt/conda/lib/python3.7/site-packages (from keras) (1.17.5)\n",
      "Requirement already satisfied: six>=1.9.0 in /opt/conda/lib/python3.7/site-packages (from keras) (1.14.0)\n",
      "Requirement already satisfied: scipy>=0.14 in /opt/conda/lib/python3.7/site-packages (from keras) (1.4.1)\n",
      "Installing collected packages: keras-preprocessing, keras-applications, keras\n",
      "Successfully installed keras-2.3.1 keras-applications-1.0.8 keras-preprocessing-1.1.2\n",
      "WARNING: pip is being invoked by an old script wrapper. This will fail in a future version of pip.\n",
      "Please see https://github.com/pypa/pip/issues/5599 for advice on fixing the underlying issue.\n",
      "To avoid this problem you can invoke Python with '-m pip' instead of running pip directly.\n",
      "Collecting tensorflow==2.1.0\n",
      "  Using cached tensorflow-2.1.0-cp37-cp37m-manylinux2010_x86_64.whl (421.8 MB)\n",
      "Requirement already satisfied: protobuf>=3.8.0 in /opt/conda/lib/python3.7/site-packages (from tensorflow==2.1.0) (3.11.2)\n",
      "Collecting astor>=0.6.0\n",
      "  Using cached astor-0.8.1-py2.py3-none-any.whl (27 kB)\n",
      "Processing /home/jovyan/.cache/pip/wheels/cc/af/1a/498a24d0730ef484019e007bb9e8cef3ac00311a672c049a3e/absl_py-0.9.0-py3-none-any.whl\n",
      "Collecting google-pasta>=0.1.6\n",
      "  Using cached google_pasta-0.2.0-py3-none-any.whl (57 kB)\n",
      "Requirement already satisfied: wheel>=0.26; python_version >= \"3\" in /opt/conda/lib/python3.7/site-packages (from tensorflow==2.1.0) (0.34.1)\n",
      "Processing /home/jovyan/.cache/pip/wheels/21/7f/02/420f32a803f7d0967b48dd823da3f558c5166991bfd204eef3/gast-0.2.2-py3-none-any.whl\n",
      "Requirement already satisfied: keras-applications>=1.0.8 in /opt/conda/lib/python3.7/site-packages (from tensorflow==2.1.0) (1.0.8)\n",
      "Collecting opt-einsum>=2.3.2\n",
      "  Using cached opt_einsum-3.2.1-py3-none-any.whl (63 kB)\n",
      "Processing /home/jovyan/.cache/pip/wheels/3f/e3/ec/8a8336ff196023622fbcb36de0c5a5c218cbb24111d1d4c7f2/termcolor-1.1.0-py3-none-any.whl\n",
      "Requirement already satisfied: six>=1.12.0 in /opt/conda/lib/python3.7/site-packages (from tensorflow==2.1.0) (1.14.0)\n",
      "Requirement already satisfied: scipy==1.4.1; python_version >= \"3\" in /opt/conda/lib/python3.7/site-packages (from tensorflow==2.1.0) (1.4.1)\n",
      "Collecting grpcio>=1.8.6\n",
      "  Using cached grpcio-1.29.0-cp37-cp37m-manylinux2010_x86_64.whl (3.0 MB)\n",
      "Collecting tensorflow-estimator<2.2.0,>=2.1.0rc0\n",
      "  Using cached tensorflow_estimator-2.1.0-py2.py3-none-any.whl (448 kB)\n",
      "Requirement already satisfied: numpy<2.0,>=1.16.0 in /opt/conda/lib/python3.7/site-packages (from tensorflow==2.1.0) (1.17.5)\n",
      "Processing /home/jovyan/.cache/pip/wheels/62/76/4c/aa25851149f3f6d9785f6c869387ad82b3fd37582fa8147ac6/wrapt-1.12.1-cp37-cp37m-linux_x86_64.whl\n",
      "Requirement already satisfied: keras-preprocessing>=1.1.0 in /opt/conda/lib/python3.7/site-packages (from tensorflow==2.1.0) (1.1.2)\n",
      "Collecting tensorboard<2.2.0,>=2.1.0\n",
      "  Using cached tensorboard-2.1.1-py3-none-any.whl (3.8 MB)\n",
      "Requirement already satisfied: setuptools in /opt/conda/lib/python3.7/site-packages (from protobuf>=3.8.0->tensorflow==2.1.0) (45.1.0.post20200119)\n",
      "Requirement already satisfied: h5py in /opt/conda/lib/python3.7/site-packages (from keras-applications>=1.0.8->tensorflow==2.1.0) (2.10.0)\n",
      "Collecting google-auth-oauthlib<0.5,>=0.4.1\n",
      "  Using cached google_auth_oauthlib-0.4.1-py2.py3-none-any.whl (18 kB)\n",
      "Collecting google-auth<2,>=1.6.3\n",
      "  Downloading google_auth-1.17.0-py2.py3-none-any.whl (90 kB)\n",
      "\u001b[K     |████████████████████████████████| 90 kB 351 kB/s eta 0:00:01\n",
      "\u001b[?25hRequirement already satisfied: requests<3,>=2.21.0 in /opt/conda/lib/python3.7/site-packages (from tensorboard<2.2.0,>=2.1.0->tensorflow==2.1.0) (2.22.0)\n",
      "Collecting markdown>=2.6.8\n",
      "  Using cached Markdown-3.2.2-py3-none-any.whl (88 kB)\n",
      "Collecting werkzeug>=0.11.15\n",
      "  Using cached Werkzeug-1.0.1-py2.py3-none-any.whl (298 kB)\n",
      "Collecting requests-oauthlib>=0.7.0\n",
      "  Using cached requests_oauthlib-1.3.0-py2.py3-none-any.whl (23 kB)\n",
      "Collecting rsa<5.0,>=3.1.4\n",
      "  Downloading rsa-4.1-py3-none-any.whl (32 kB)\n",
      "Collecting pyasn1-modules>=0.2.1\n",
      "  Using cached pyasn1_modules-0.2.8-py2.py3-none-any.whl (155 kB)\n",
      "Collecting cachetools<5.0,>=2.0.0\n",
      "  Using cached cachetools-4.1.0-py3-none-any.whl (10 kB)\n",
      "Requirement already satisfied: urllib3!=1.25.0,!=1.25.1,<1.26,>=1.21.1 in /opt/conda/lib/python3.7/site-packages (from requests<3,>=2.21.0->tensorboard<2.2.0,>=2.1.0->tensorflow==2.1.0) (1.25.7)\n",
      "Requirement already satisfied: chardet<3.1.0,>=3.0.2 in /opt/conda/lib/python3.7/site-packages (from requests<3,>=2.21.0->tensorboard<2.2.0,>=2.1.0->tensorflow==2.1.0) (3.0.4)\n",
      "Requirement already satisfied: certifi>=2017.4.17 in /opt/conda/lib/python3.7/site-packages (from requests<3,>=2.21.0->tensorboard<2.2.0,>=2.1.0->tensorflow==2.1.0) (2019.11.28)\n",
      "Requirement already satisfied: idna<2.9,>=2.5 in /opt/conda/lib/python3.7/site-packages (from requests<3,>=2.21.0->tensorboard<2.2.0,>=2.1.0->tensorflow==2.1.0) (2.8)\n",
      "Requirement already satisfied: importlib-metadata; python_version < \"3.8\" in /opt/conda/lib/python3.7/site-packages (from markdown>=2.6.8->tensorboard<2.2.0,>=2.1.0->tensorflow==2.1.0) (1.5.0)\n",
      "Requirement already satisfied: oauthlib>=3.0.0 in /opt/conda/lib/python3.7/site-packages (from requests-oauthlib>=0.7.0->google-auth-oauthlib<0.5,>=0.4.1->tensorboard<2.2.0,>=2.1.0->tensorflow==2.1.0) (3.0.1)\n",
      "Collecting pyasn1>=0.1.3\n",
      "  Using cached pyasn1-0.4.8-py2.py3-none-any.whl (77 kB)\n",
      "Requirement already satisfied: zipp>=0.5 in /opt/conda/lib/python3.7/site-packages (from importlib-metadata; python_version < \"3.8\"->markdown>=2.6.8->tensorboard<2.2.0,>=2.1.0->tensorflow==2.1.0) (2.1.0)\n",
      "Installing collected packages: astor, absl-py, google-pasta, gast, opt-einsum, termcolor, grpcio, tensorflow-estimator, wrapt, pyasn1, rsa, pyasn1-modules, cachetools, google-auth, requests-oauthlib, google-auth-oauthlib, markdown, werkzeug, tensorboard, tensorflow\n",
      "Successfully installed absl-py-0.9.0 astor-0.8.1 cachetools-4.1.0 gast-0.2.2 google-auth-1.17.0 google-auth-oauthlib-0.4.1 google-pasta-0.2.0 grpcio-1.29.0 markdown-3.2.2 opt-einsum-3.2.1 pyasn1-0.4.8 pyasn1-modules-0.2.8 requests-oauthlib-1.3.0 rsa-4.1 tensorboard-2.1.1 tensorflow-2.1.0 tensorflow-estimator-2.1.0 termcolor-1.1.0 werkzeug-1.0.1 wrapt-1.12.1\n"
     ]
    }
   ],
   "source": [
    "!pip install keras\n",
    "!pip install tensorflow==2.1.0"
   ]
  },
  {
   "cell_type": "code",
   "execution_count": 43,
   "metadata": {
    "_cell_guid": "b1076dfc-b9ad-4769-8c92-a6c4dae69d19",
    "_uuid": "8f2839f25d086af736a60e9eeb907d3b93b6e0e5"
   },
   "outputs": [],
   "source": [
    "from keras.models import Sequential\n",
    "from keras.layers import Dense\n",
    "from keras.layers import LSTM\n",
    "from keras.layers import Dropout\n",
    "from sklearn.preprocessing import MinMaxScaler\n",
    "from sklearn.model_selection import train_test_split\n",
    "from sklearn.metrics import r2_score,mean_squared_error, mean_absolute_error\n",
    "\n",
    "import numpy as np\n",
    "import pandas as pd\n",
    "import seaborn as sns\n",
    "import matplotlib.pyplot as plt\n",
    "import datetime as dt\n",
    "import os, os.path\n",
    "import talib"
   ]
  },
  {
   "cell_type": "code",
   "execution_count": 25,
   "metadata": {
    "_cell_guid": "79c7e3d0-c299-4dcb-8224-4455121ee9b0",
    "_uuid": "d629ff2d2480ee46fbb7e2d37f6b5fab8052498a"
   },
   "outputs": [
    {
     "data": {
      "text/html": [
       "<div>\n",
       "<style scoped>\n",
       "    .dataframe tbody tr th:only-of-type {\n",
       "        vertical-align: middle;\n",
       "    }\n",
       "\n",
       "    .dataframe tbody tr th {\n",
       "        vertical-align: top;\n",
       "    }\n",
       "\n",
       "    .dataframe thead th {\n",
       "        text-align: right;\n",
       "    }\n",
       "</style>\n",
       "<table border=\"1\" class=\"dataframe\">\n",
       "  <thead>\n",
       "    <tr style=\"text-align: right;\">\n",
       "      <th></th>\n",
       "      <th>High</th>\n",
       "      <th>Low</th>\n",
       "      <th>Open</th>\n",
       "      <th>Close</th>\n",
       "      <th>Volume</th>\n",
       "      <th>Adj Close</th>\n",
       "    </tr>\n",
       "    <tr>\n",
       "      <th>Date</th>\n",
       "      <th></th>\n",
       "      <th></th>\n",
       "      <th></th>\n",
       "      <th></th>\n",
       "      <th></th>\n",
       "      <th></th>\n",
       "    </tr>\n",
       "  </thead>\n",
       "  <tbody>\n",
       "    <tr>\n",
       "      <th>2014-01-02</th>\n",
       "      <td>198.5</td>\n",
       "      <td>187.0</td>\n",
       "      <td>198.0</td>\n",
       "      <td>187.0</td>\n",
       "      <td>12694200.0</td>\n",
       "      <td>137.609299</td>\n",
       "    </tr>\n",
       "    <tr>\n",
       "      <th>2014-01-03</th>\n",
       "      <td>196.0</td>\n",
       "      <td>186.5</td>\n",
       "      <td>187.0</td>\n",
       "      <td>196.0</td>\n",
       "      <td>16987100.0</td>\n",
       "      <td>144.232224</td>\n",
       "    </tr>\n",
       "    <tr>\n",
       "      <th>2014-01-06</th>\n",
       "      <td>203.0</td>\n",
       "      <td>191.0</td>\n",
       "      <td>195.0</td>\n",
       "      <td>201.0</td>\n",
       "      <td>10294700.0</td>\n",
       "      <td>147.911621</td>\n",
       "    </tr>\n",
       "    <tr>\n",
       "      <th>2014-01-07</th>\n",
       "      <td>210.0</td>\n",
       "      <td>200.0</td>\n",
       "      <td>205.0</td>\n",
       "      <td>210.0</td>\n",
       "      <td>11479200.0</td>\n",
       "      <td>154.534515</td>\n",
       "    </tr>\n",
       "    <tr>\n",
       "      <th>2014-01-08</th>\n",
       "      <td>210.0</td>\n",
       "      <td>203.0</td>\n",
       "      <td>208.0</td>\n",
       "      <td>206.0</td>\n",
       "      <td>13653100.0</td>\n",
       "      <td>151.591019</td>\n",
       "    </tr>\n",
       "  </tbody>\n",
       "</table>\n",
       "</div>"
      ],
      "text/plain": [
       "             High    Low   Open  Close      Volume   Adj Close\n",
       "Date                                                          \n",
       "2014-01-02  198.5  187.0  198.0  187.0  12694200.0  137.609299\n",
       "2014-01-03  196.0  186.5  187.0  196.0  16987100.0  144.232224\n",
       "2014-01-06  203.0  191.0  195.0  201.0  10294700.0  147.911621\n",
       "2014-01-07  210.0  200.0  205.0  210.0  11479200.0  154.534515\n",
       "2014-01-08  210.0  203.0  208.0  206.0  13653100.0  151.591019"
      ]
     },
     "execution_count": 25,
     "metadata": {},
     "output_type": "execute_result"
    },
    {
     "data": {
      "image/png": "[encoded data removed]",
      "text/plain": [
       "<Figure size 432x288 with 1 Axes>"
      ]
     },
     "metadata": {
      "needs_background": "light"
     },
     "output_type": "display_data"
    }
   ],
   "source": [
    "DATA_HOME = os.path.join(\"..\", \"historical\")\n",
    "# Pilot 10 stocks (first 10 stocks alphabetical)\n",
    "symbols = [\"ADVANC\",\"BTS\"]\n",
    "data = {}\n",
    "for s in symbols:\n",
    "    data[s] = pd.read_csv(os.path.join(DATA_HOME,\"%s.csv\" % s), index_col=0)\n",
    "\n",
    "df = data[\"ADVANC\"]\n",
    "df.index\n",
    "df = df['2014-01-01':'2019-12-31'] # Pickout study period: 2015-2019. 1219 days\n",
    "df.plot()\n",
    "df.head()"
   ]
  },
  {
   "cell_type": "code",
   "execution_count": 28,
   "metadata": {},
   "outputs": [
    {
     "name": "stderr",
     "output_type": "stream",
     "text": [
      "/opt/conda/lib/python3.7/site-packages/ipykernel_launcher.py:13: SettingWithCopyWarning: \n",
      "A value is trying to be set on a copy of a slice from a DataFrame.\n",
      "Try using .loc[row_indexer,col_indexer] = value instead\n",
      "\n",
      "See the caveats in the documentation: http://pandas.pydata.org/pandas-docs/stable/user_guide/indexing.html#returning-a-view-versus-a-copy\n",
      "  del sys.path[0]\n",
      "/opt/conda/lib/python3.7/site-packages/ipykernel_launcher.py:14: SettingWithCopyWarning: \n",
      "A value is trying to be set on a copy of a slice from a DataFrame.\n",
      "Try using .loc[row_indexer,col_indexer] = value instead\n",
      "\n",
      "See the caveats in the documentation: http://pandas.pydata.org/pandas-docs/stable/user_guide/indexing.html#returning-a-view-versus-a-copy\n",
      "  \n",
      "/opt/conda/lib/python3.7/site-packages/ipykernel_launcher.py:15: SettingWithCopyWarning: \n",
      "A value is trying to be set on a copy of a slice from a DataFrame.\n",
      "Try using .loc[row_indexer,col_indexer] = value instead\n",
      "\n",
      "See the caveats in the documentation: http://pandas.pydata.org/pandas-docs/stable/user_guide/indexing.html#returning-a-view-versus-a-copy\n",
      "  from ipykernel import kernelapp as app\n",
      "/opt/conda/lib/python3.7/site-packages/ipykernel_launcher.py:16: SettingWithCopyWarning: \n",
      "A value is trying to be set on a copy of a slice from a DataFrame.\n",
      "Try using .loc[row_indexer,col_indexer] = value instead\n",
      "\n",
      "See the caveats in the documentation: http://pandas.pydata.org/pandas-docs/stable/user_guide/indexing.html#returning-a-view-versus-a-copy\n",
      "  app.launch_new_instance()\n",
      "/opt/conda/lib/python3.7/site-packages/ipykernel_launcher.py:17: SettingWithCopyWarning: \n",
      "A value is trying to be set on a copy of a slice from a DataFrame.\n",
      "Try using .loc[row_indexer,col_indexer] = value instead\n",
      "\n",
      "See the caveats in the documentation: http://pandas.pydata.org/pandas-docs/stable/user_guide/indexing.html#returning-a-view-versus-a-copy\n",
      "/opt/conda/lib/python3.7/site-packages/ipykernel_launcher.py:18: SettingWithCopyWarning: \n",
      "A value is trying to be set on a copy of a slice from a DataFrame.\n",
      "Try using .loc[row_indexer,col_indexer] = value instead\n",
      "\n",
      "See the caveats in the documentation: http://pandas.pydata.org/pandas-docs/stable/user_guide/indexing.html#returning-a-view-versus-a-copy\n"
     ]
    },
    {
     "data": {
      "text/html": [
       "<div>\n",
       "<style scoped>\n",
       "    .dataframe tbody tr th:only-of-type {\n",
       "        vertical-align: middle;\n",
       "    }\n",
       "\n",
       "    .dataframe tbody tr th {\n",
       "        vertical-align: top;\n",
       "    }\n",
       "\n",
       "    .dataframe thead th {\n",
       "        text-align: right;\n",
       "    }\n",
       "</style>\n",
       "<table border=\"1\" class=\"dataframe\">\n",
       "  <thead>\n",
       "    <tr style=\"text-align: right;\">\n",
       "      <th></th>\n",
       "      <th>High</th>\n",
       "      <th>Low</th>\n",
       "      <th>Open</th>\n",
       "      <th>Close</th>\n",
       "      <th>Volume</th>\n",
       "      <th>Adj Close</th>\n",
       "      <th>SMA</th>\n",
       "      <th>WMA</th>\n",
       "      <th>ADOSC</th>\n",
       "      <th>ATR</th>\n",
       "      <th>RSI</th>\n",
       "      <th>AD</th>\n",
       "    </tr>\n",
       "    <tr>\n",
       "      <th>Date</th>\n",
       "      <th></th>\n",
       "      <th></th>\n",
       "      <th></th>\n",
       "      <th></th>\n",
       "      <th></th>\n",
       "      <th></th>\n",
       "      <th></th>\n",
       "      <th></th>\n",
       "      <th></th>\n",
       "      <th></th>\n",
       "      <th></th>\n",
       "      <th></th>\n",
       "    </tr>\n",
       "  </thead>\n",
       "  <tbody>\n",
       "    <tr>\n",
       "      <th>2014-02-12</th>\n",
       "      <td>215.0</td>\n",
       "      <td>210.0</td>\n",
       "      <td>210.0</td>\n",
       "      <td>214.0</td>\n",
       "      <td>7204000.0</td>\n",
       "      <td>157.478012</td>\n",
       "      <td>210.10</td>\n",
       "      <td>210.405376</td>\n",
       "      <td>4.086292e+05</td>\n",
       "      <td>6.083446</td>\n",
       "      <td>61.439766</td>\n",
       "      <td>2.997581e+07</td>\n",
       "    </tr>\n",
       "    <tr>\n",
       "      <th>2014-02-13</th>\n",
       "      <td>216.0</td>\n",
       "      <td>213.0</td>\n",
       "      <td>214.0</td>\n",
       "      <td>215.0</td>\n",
       "      <td>4674700.0</td>\n",
       "      <td>158.213928</td>\n",
       "      <td>210.58</td>\n",
       "      <td>210.830108</td>\n",
       "      <td>1.294266e+06</td>\n",
       "      <td>5.863200</td>\n",
       "      <td>62.273511</td>\n",
       "      <td>3.153405e+07</td>\n",
       "    </tr>\n",
       "    <tr>\n",
       "      <th>2014-02-17</th>\n",
       "      <td>222.0</td>\n",
       "      <td>214.0</td>\n",
       "      <td>216.0</td>\n",
       "      <td>222.0</td>\n",
       "      <td>8395400.0</td>\n",
       "      <td>163.365067</td>\n",
       "      <td>211.48</td>\n",
       "      <td>211.646237</td>\n",
       "      <td>4.210176e+06</td>\n",
       "      <td>6.015829</td>\n",
       "      <td>67.560940</td>\n",
       "      <td>3.992945e+07</td>\n",
       "    </tr>\n",
       "    <tr>\n",
       "      <th>2014-02-18</th>\n",
       "      <td>221.0</td>\n",
       "      <td>217.0</td>\n",
       "      <td>220.0</td>\n",
       "      <td>219.0</td>\n",
       "      <td>6289500.0</td>\n",
       "      <td>161.157425</td>\n",
       "      <td>211.88</td>\n",
       "      <td>212.212903</td>\n",
       "      <td>5.020304e+06</td>\n",
       "      <td>5.943270</td>\n",
       "      <td>63.456249</td>\n",
       "      <td>3.992945e+07</td>\n",
       "    </tr>\n",
       "    <tr>\n",
       "      <th>2014-02-19</th>\n",
       "      <td>224.0</td>\n",
       "      <td>214.0</td>\n",
       "      <td>219.0</td>\n",
       "      <td>217.0</td>\n",
       "      <td>8990800.0</td>\n",
       "      <td>159.685638</td>\n",
       "      <td>212.08</td>\n",
       "      <td>212.611828</td>\n",
       "      <td>3.751046e+06</td>\n",
       "      <td>6.233036</td>\n",
       "      <td>60.804024</td>\n",
       "      <td>3.633313e+07</td>\n",
       "    </tr>\n",
       "    <tr>\n",
       "      <th>...</th>\n",
       "      <td>...</td>\n",
       "      <td>...</td>\n",
       "      <td>...</td>\n",
       "      <td>...</td>\n",
       "      <td>...</td>\n",
       "      <td>...</td>\n",
       "      <td>...</td>\n",
       "      <td>...</td>\n",
       "      <td>...</td>\n",
       "      <td>...</td>\n",
       "      <td>...</td>\n",
       "      <td>...</td>\n",
       "    </tr>\n",
       "    <tr>\n",
       "      <th>2019-12-24</th>\n",
       "      <td>221.0</td>\n",
       "      <td>214.0</td>\n",
       "      <td>220.0</td>\n",
       "      <td>215.0</td>\n",
       "      <td>6880100.0</td>\n",
       "      <td>211.406570</td>\n",
       "      <td>216.72</td>\n",
       "      <td>215.875269</td>\n",
       "      <td>2.090767e+06</td>\n",
       "      <td>5.723004</td>\n",
       "      <td>46.672607</td>\n",
       "      <td>-4.704758e+08</td>\n",
       "    </tr>\n",
       "    <tr>\n",
       "      <th>2019-12-25</th>\n",
       "      <td>216.0</td>\n",
       "      <td>212.0</td>\n",
       "      <td>213.0</td>\n",
       "      <td>215.0</td>\n",
       "      <td>2423600.0</td>\n",
       "      <td>211.406570</td>\n",
       "      <td>216.12</td>\n",
       "      <td>215.606452</td>\n",
       "      <td>1.593053e+06</td>\n",
       "      <td>5.599932</td>\n",
       "      <td>46.672607</td>\n",
       "      <td>-4.692640e+08</td>\n",
       "    </tr>\n",
       "    <tr>\n",
       "      <th>2019-12-26</th>\n",
       "      <td>216.0</td>\n",
       "      <td>214.0</td>\n",
       "      <td>216.0</td>\n",
       "      <td>215.0</td>\n",
       "      <td>1685300.0</td>\n",
       "      <td>211.406570</td>\n",
       "      <td>215.64</td>\n",
       "      <td>215.365591</td>\n",
       "      <td>1.244620e+06</td>\n",
       "      <td>5.342794</td>\n",
       "      <td>46.672607</td>\n",
       "      <td>-4.692640e+08</td>\n",
       "    </tr>\n",
       "    <tr>\n",
       "      <th>2019-12-27</th>\n",
       "      <td>216.0</td>\n",
       "      <td>213.0</td>\n",
       "      <td>216.0</td>\n",
       "      <td>214.0</td>\n",
       "      <td>3996200.0</td>\n",
       "      <td>210.423279</td>\n",
       "      <td>215.12</td>\n",
       "      <td>215.098925</td>\n",
       "      <td>5.650927e+05</td>\n",
       "      <td>5.175452</td>\n",
       "      <td>45.401524</td>\n",
       "      <td>-4.705960e+08</td>\n",
       "    </tr>\n",
       "    <tr>\n",
       "      <th>2019-12-30</th>\n",
       "      <td>216.0</td>\n",
       "      <td>213.0</td>\n",
       "      <td>215.0</td>\n",
       "      <td>213.0</td>\n",
       "      <td>2624300.0</td>\n",
       "      <td>209.440002</td>\n",
       "      <td>214.84</td>\n",
       "      <td>214.808602</td>\n",
       "      <td>-5.992725e+05</td>\n",
       "      <td>5.020063</td>\n",
       "      <td>44.107886</td>\n",
       "      <td>-4.732203e+08</td>\n",
       "    </tr>\n",
       "  </tbody>\n",
       "</table>\n",
       "<p>1435 rows × 12 columns</p>\n",
       "</div>"
      ],
      "text/plain": [
       "             High    Low   Open  Close     Volume   Adj Close     SMA  \\\n",
       "Date                                                                    \n",
       "2014-02-12  215.0  210.0  210.0  214.0  7204000.0  157.478012  210.10   \n",
       "2014-02-13  216.0  213.0  214.0  215.0  4674700.0  158.213928  210.58   \n",
       "2014-02-17  222.0  214.0  216.0  222.0  8395400.0  163.365067  211.48   \n",
       "2014-02-18  221.0  217.0  220.0  219.0  6289500.0  161.157425  211.88   \n",
       "2014-02-19  224.0  214.0  219.0  217.0  8990800.0  159.685638  212.08   \n",
       "...           ...    ...    ...    ...        ...         ...     ...   \n",
       "2019-12-24  221.0  214.0  220.0  215.0  6880100.0  211.406570  216.72   \n",
       "2019-12-25  216.0  212.0  213.0  215.0  2423600.0  211.406570  216.12   \n",
       "2019-12-26  216.0  214.0  216.0  215.0  1685300.0  211.406570  215.64   \n",
       "2019-12-27  216.0  213.0  216.0  214.0  3996200.0  210.423279  215.12   \n",
       "2019-12-30  216.0  213.0  215.0  213.0  2624300.0  209.440002  214.84   \n",
       "\n",
       "                   WMA         ADOSC       ATR        RSI            AD  \n",
       "Date                                                                     \n",
       "2014-02-12  210.405376  4.086292e+05  6.083446  61.439766  2.997581e+07  \n",
       "2014-02-13  210.830108  1.294266e+06  5.863200  62.273511  3.153405e+07  \n",
       "2014-02-17  211.646237  4.210176e+06  6.015829  67.560940  3.992945e+07  \n",
       "2014-02-18  212.212903  5.020304e+06  5.943270  63.456249  3.992945e+07  \n",
       "2014-02-19  212.611828  3.751046e+06  6.233036  60.804024  3.633313e+07  \n",
       "...                ...           ...       ...        ...           ...  \n",
       "2019-12-24  215.875269  2.090767e+06  5.723004  46.672607 -4.704758e+08  \n",
       "2019-12-25  215.606452  1.593053e+06  5.599932  46.672607 -4.692640e+08  \n",
       "2019-12-26  215.365591  1.244620e+06  5.342794  46.672607 -4.692640e+08  \n",
       "2019-12-27  215.098925  5.650927e+05  5.175452  45.401524 -4.705960e+08  \n",
       "2019-12-30  214.808602 -5.992725e+05  5.020063  44.107886 -4.732203e+08  \n",
       "\n",
       "[1435 rows x 12 columns]"
      ]
     },
     "execution_count": 28,
     "metadata": {},
     "output_type": "execute_result"
    }
   ],
   "source": [
    "from talib.abstract import *\n",
    "\n",
    "daily = df['2014-01-01':'2019-12-31']\n",
    "\n",
    "inputs = {\n",
    "    'open': daily[\"Open\"],\n",
    "    'high': daily[\"High\"],\n",
    "    'low': daily[\"Low\"],\n",
    "    'close': daily[\"Close\"],\n",
    "    'volume': daily[\"Volume\"]\n",
    "}\n",
    "\n",
    "daily[\"SMA\"] = SMA(inputs, timeperiod=25).tolist()\n",
    "daily[\"WMA\"] = WMA(inputs).tolist()\n",
    "daily[\"ADOSC\"] = ADOSC(inputs).tolist()\n",
    "daily[\"ATR\"] = ATR(inputs).tolist()\n",
    "daily[\"RSI\"] = RSI(inputs).tolist()\n",
    "daily[\"AD\"] = AD(inputs).tolist()\n",
    "\n",
    "daily = daily.dropna()\n",
    "\n",
    "daily"
   ]
  },
  {
   "cell_type": "code",
   "execution_count": 41,
   "metadata": {},
   "outputs": [
    {
     "data": {
      "text/plain": [
       "array([[198.],\n",
       "       [187.],\n",
       "       [195.],\n",
       "       ...,\n",
       "       [216.],\n",
       "       [216.],\n",
       "       [215.]])"
      ]
     },
     "execution_count": 41,
     "metadata": {},
     "output_type": "execute_result"
    }
   ],
   "source": [
    "# Drop unused columns\n",
    "df = df.drop(columns=[\"Adj Close\", \"Volume\"])\n",
    "\n",
    "df.iloc[:,2:3].values # Get Open price. The 2:3 slice the \"Open\" column"
   ]
  },
  {
   "cell_type": "code",
   "execution_count": 42,
   "metadata": {},
   "outputs": [
    {
     "data": {
      "text/plain": [
       "<matplotlib.axes._subplots.AxesSubplot at 0x7f9f52d6a350>"
      ]
     },
     "execution_count": 42,
     "metadata": {},
     "output_type": "execute_result"
    },
    {
     "data": {
      "image/png": "[encoded data removed]",
      "text/plain": [
       "<Figure size 432x288 with 1 Axes>"
      ]
     },
     "metadata": {
      "needs_background": "light"
     },
     "output_type": "display_data"
    },
    {
     "data": {
      "image/png": "[encoded data removed]",
      "text/plain": [
       "<Figure size 432x288 with 1 Axes>"
      ]
     },
     "metadata": {
      "needs_background": "light"
     },
     "output_type": "display_data"
    }
   ],
   "source": [
    "\n",
    "training = df[:-50]\n",
    "testing = df[-50:]\n",
    "training.plot(title=\"Training\")\n",
    "testing.plot(title=\"Testing\")"
   ]
  },
  {
   "cell_type": "code",
   "execution_count": 6,
   "metadata": {
    "_uuid": "99cca4c05240bd82c4492c6c3c200925c5c096e5"
   },
   "outputs": [],
   "source": [
    "trainset = training.iloc[:,2:3].values\n",
    "trainset\n",
    "sc = MinMaxScaler(feature_range = (0,1))\n",
    "training_scaled = sc.fit_transform(trainset)\n",
    "training_scaled\n",
    "\n",
    "x_train = training_scaled[0:len(training) - 1]\n",
    "y_train = training_scaled[1:len(training)] # Start from day 1"
   ]
  },
  {
   "cell_type": "code",
   "execution_count": 11,
   "metadata": {
    "_uuid": "360eb79902c77fbba3f16ab47a5ff7593a177478"
   },
   "outputs": [
    {
     "data": {
      "text/plain": [
       "((1168, 1), (1168, 1))"
      ]
     },
     "execution_count": 11,
     "metadata": {},
     "output_type": "execute_result"
    }
   ],
   "source": [
    "x_train.shape, y_train.shape"
   ]
  },
  {
   "cell_type": "code",
   "execution_count": 44,
   "metadata": {
    "_uuid": "316c5775b5c0a984b432f138792d2c0e9a484491"
   },
   "outputs": [],
   "source": [
    "x_train = np.reshape(x_train, (x_train.shape[0],x_train.shape[1],1))"
   ]
  },
  {
   "cell_type": "code",
   "execution_count": 45,
   "metadata": {
    "_uuid": "ed24d733423254641f134c0e84f44a8ce175589f"
   },
   "outputs": [],
   "source": [
    "regressor = Sequential()\n",
    "\n",
    "# regressor.add(LSTM(units = 50,return_sequences = True,input_shape = (x_train.shape[1],1)))\n",
    "regressor.add(LSTM(units = 4, input_shape = (x_train.shape[1], 1)))"
   ]
  },
  {
   "cell_type": "code",
   "execution_count": 14,
   "metadata": {
    "_uuid": "e7b3dd133e58cb2acc860a8cfcd1483ba70e6b1b"
   },
   "outputs": [],
   "source": [
    "# regressor.add(Dropout(0.2))"
   ]
  },
  {
   "cell_type": "code",
   "execution_count": 15,
   "metadata": {
    "_uuid": "6b746176cb04357ac1e4c3e4c91ecd70717fed47"
   },
   "outputs": [],
   "source": [
    "# regressor.add(LSTM(units = 50,return_sequences = True))\n",
    "# regressor.add(Dropout(0.2))"
   ]
  },
  {
   "cell_type": "code",
   "execution_count": 16,
   "metadata": {
    "_uuid": "73fe0b95d62b599e8aae4e2a53a10bc7165f464c"
   },
   "outputs": [],
   "source": [
    "# regressor.add(LSTM(units = 50,return_sequences = True))\n",
    "# regressor.add(Dropout(0.2))"
   ]
  },
  {
   "cell_type": "code",
   "execution_count": 17,
   "metadata": {
    "_uuid": "8c81a80d2ea3cdf653675def0bbba5f9572e8770"
   },
   "outputs": [],
   "source": [
    "# regressor.add(LSTM(units = 50))\n",
    "# regressor.add(Dropout(0.2))"
   ]
  },
  {
   "cell_type": "code",
   "execution_count": 18,
   "metadata": {
    "_uuid": "2edc2684995e0033ae8a4997b61b92a66c5bceee"
   },
   "outputs": [],
   "source": [
    "regressor.add(Dense(units = 1))"
   ]
  },
  {
   "cell_type": "code",
   "execution_count": 49,
   "metadata": {},
   "outputs": [
    {
     "data": {
      "text/plain": [
       "96"
      ]
     },
     "execution_count": 49,
     "metadata": {},
     "output_type": "execute_result"
    }
   ],
   "source": [
    "regressor.model.count_params()"
   ]
  },
  {
   "cell_type": "code",
   "execution_count": 50,
   "metadata": {},
   "outputs": [
    {
     "data": {
      "text/plain": [
       "{'name': 'sequential_2',\n",
       " 'layers': [{'class_name': 'LSTM',\n",
       "   'config': {'name': 'lstm_2',\n",
       "    'trainable': True,\n",
       "    'batch_input_shape': (None, 1, 1),\n",
       "    'dtype': 'float32',\n",
       "    'return_sequences': False,\n",
       "    'return_state': False,\n",
       "    'go_backwards': False,\n",
       "    'stateful': False,\n",
       "    'unroll': False,\n",
       "    'units': 4,\n",
       "    'activation': 'tanh',\n",
       "    'recurrent_activation': 'sigmoid',\n",
       "    'use_bias': True,\n",
       "    'kernel_initializer': {'class_name': 'VarianceScaling',\n",
       "     'config': {'scale': 1.0,\n",
       "      'mode': 'fan_avg',\n",
       "      'distribution': 'uniform',\n",
       "      'seed': None}},\n",
       "    'recurrent_initializer': {'class_name': 'Orthogonal',\n",
       "     'config': {'gain': 1.0, 'seed': None}},\n",
       "    'bias_initializer': {'class_name': 'Zeros', 'config': {}},\n",
       "    'unit_forget_bias': True,\n",
       "    'kernel_regularizer': None,\n",
       "    'recurrent_regularizer': None,\n",
       "    'bias_regularizer': None,\n",
       "    'activity_regularizer': None,\n",
       "    'kernel_constraint': None,\n",
       "    'recurrent_constraint': None,\n",
       "    'bias_constraint': None,\n",
       "    'dropout': 0.0,\n",
       "    'recurrent_dropout': 0.0,\n",
       "    'implementation': 2}}]}"
      ]
     },
     "execution_count": 50,
     "metadata": {},
     "output_type": "execute_result"
    }
   ],
   "source": [
    "regressor.model.get_config()"
   ]
  },
  {
   "cell_type": "code",
   "execution_count": 19,
   "metadata": {
    "_uuid": "6681ff55d9a29b1ad0f37cdc82318fb2c8fbc0bd"
   },
   "outputs": [],
   "source": [
    "regressor.compile(optimizer = 'adam',loss = 'mean_squared_error')"
   ]
  },
  {
   "cell_type": "code",
   "execution_count": 20,
   "metadata": {
    "_uuid": "b0287226b32109016b659a8ba484b5eb51e0d61a"
   },
   "outputs": [
    {
     "name": "stdout",
     "output_type": "stream",
     "text": [
      "Epoch 1/100\n",
      "1168/1168 [==============================] - 1s 812us/step - loss: 0.2021\n",
      "Epoch 2/100\n",
      "1168/1168 [==============================] - 0s 84us/step - loss: 0.1327\n",
      "Epoch 3/100\n",
      "1168/1168 [==============================] - 0s 80us/step - loss: 0.0821\n",
      "Epoch 4/100\n",
      "1168/1168 [==============================] - 0s 94us/step - loss: 0.0492\n",
      "Epoch 5/100\n",
      "1168/1168 [==============================] - 0s 91us/step - loss: 0.0304\n",
      "Epoch 6/100\n",
      "1168/1168 [==============================] - 0s 81us/step - loss: 0.0210\n",
      "Epoch 7/100\n",
      "1168/1168 [==============================] - 0s 88us/step - loss: 0.0169\n",
      "Epoch 8/100\n",
      "1168/1168 [==============================] - 0s 87us/step - loss: 0.0151\n",
      "Epoch 9/100\n",
      "1168/1168 [==============================] - 0s 91us/step - loss: 0.0140\n",
      "Epoch 10/100\n",
      "1168/1168 [==============================] - 0s 83us/step - loss: 0.0131\n",
      "Epoch 11/100\n",
      "1168/1168 [==============================] - 0s 87us/step - loss: 0.0122\n",
      "Epoch 12/100\n",
      "1168/1168 [==============================] - 0s 85us/step - loss: 0.0114\n",
      "Epoch 13/100\n",
      "1168/1168 [==============================] - 0s 80us/step - loss: 0.0105\n",
      "Epoch 14/100\n",
      "1168/1168 [==============================] - 0s 88us/step - loss: 0.0097\n",
      "Epoch 15/100\n",
      "1168/1168 [==============================] - 0s 86us/step - loss: 0.0089\n",
      "Epoch 16/100\n",
      "1168/1168 [==============================] - 0s 78us/step - loss: 0.0081\n",
      "Epoch 17/100\n",
      "1168/1168 [==============================] - 0s 90us/step - loss: 0.0073\n",
      "Epoch 18/100\n",
      "1168/1168 [==============================] - 0s 81us/step - loss: 0.0065\n",
      "Epoch 19/100\n",
      "1168/1168 [==============================] - 0s 86us/step - loss: 0.0058\n",
      "Epoch 20/100\n",
      "1168/1168 [==============================] - 0s 114us/step - loss: 0.0051\n",
      "Epoch 21/100\n",
      "1168/1168 [==============================] - 0s 137us/step - loss: 0.0045\n",
      "Epoch 22/100\n",
      "1168/1168 [==============================] - 0s 85us/step - loss: 0.0040\n",
      "Epoch 23/100\n",
      "1168/1168 [==============================] - 0s 86us/step - loss: 0.0034\n",
      "Epoch 24/100\n",
      "1168/1168 [==============================] - 0s 105us/step - loss: 0.0030\n",
      "Epoch 25/100\n",
      "1168/1168 [==============================] - 0s 117us/step - loss: 0.0026\n",
      "Epoch 26/100\n",
      "1168/1168 [==============================] - 0s 158us/step - loss: 0.0022\n",
      "Epoch 27/100\n",
      "1168/1168 [==============================] - 0s 117us/step - loss: 0.0019\n",
      "Epoch 28/100\n",
      "1168/1168 [==============================] - 0s 109us/step - loss: 0.0016\n",
      "Epoch 29/100\n",
      "1168/1168 [==============================] - 0s 107us/step - loss: 0.0014\n",
      "Epoch 30/100\n",
      "1168/1168 [==============================] - 0s 120us/step - loss: 0.0012\n",
      "Epoch 31/100\n",
      "1168/1168 [==============================] - 0s 121us/step - loss: 0.0011\n",
      "Epoch 32/100\n",
      "1168/1168 [==============================] - 0s 103us/step - loss: 9.2997e-04\n",
      "Epoch 33/100\n",
      "1168/1168 [==============================] - 0s 124us/step - loss: 8.3399e-04\n",
      "Epoch 34/100\n",
      "1168/1168 [==============================] - 0s 122us/step - loss: 7.5869e-04\n",
      "Epoch 35/100\n",
      "1168/1168 [==============================] - 0s 130us/step - loss: 6.9858e-04\n",
      "Epoch 36/100\n",
      "1168/1168 [==============================] - 0s 125us/step - loss: 6.5490e-04\n",
      "Epoch 37/100\n",
      "1168/1168 [==============================] - 0s 122us/step - loss: 6.2183e-04\n",
      "Epoch 38/100\n",
      "1168/1168 [==============================] - 0s 103us/step - loss: 5.9730e-04\n",
      "Epoch 39/100\n",
      "1168/1168 [==============================] - 0s 135us/step - loss: 5.8048e-04\n",
      "Epoch 40/100\n",
      "1168/1168 [==============================] - 0s 125us/step - loss: 5.6724e-04\n",
      "Epoch 41/100\n",
      "1168/1168 [==============================] - 0s 102us/step - loss: 5.5848e-04\n",
      "Epoch 42/100\n",
      "1168/1168 [==============================] - 0s 114us/step - loss: 5.5211e-04\n",
      "Epoch 43/100\n",
      "1168/1168 [==============================] - 0s 103us/step - loss: 5.4792e-04\n",
      "Epoch 44/100\n",
      "1168/1168 [==============================] - 0s 105us/step - loss: 5.4432e-04\n",
      "Epoch 45/100\n",
      "1168/1168 [==============================] - 0s 112us/step - loss: 5.4336e-04\n",
      "Epoch 46/100\n",
      "1168/1168 [==============================] - 0s 98us/step - loss: 5.4167e-04\n",
      "Epoch 47/100\n",
      "1168/1168 [==============================] - 0s 111us/step - loss: 5.3999e-04\n",
      "Epoch 48/100\n",
      "1168/1168 [==============================] - 0s 111us/step - loss: 5.3975e-04\n",
      "Epoch 49/100\n",
      "1168/1168 [==============================] - 0s 138us/step - loss: 5.3867e-04\n",
      "Epoch 50/100\n",
      "1168/1168 [==============================] - 0s 154us/step - loss: 5.3825e-04\n",
      "Epoch 51/100\n",
      "1168/1168 [==============================] - 0s 107us/step - loss: 5.3812e-04\n",
      "Epoch 52/100\n",
      "1168/1168 [==============================] - 0s 111us/step - loss: 5.3741e-04\n",
      "Epoch 53/100\n",
      "1168/1168 [==============================] - 0s 85us/step - loss: 5.3737e-04\n",
      "Epoch 54/100\n",
      "1168/1168 [==============================] - 0s 114us/step - loss: 5.3736e-04\n",
      "Epoch 55/100\n",
      "1168/1168 [==============================] - 0s 89us/step - loss: 5.3666e-04\n",
      "Epoch 56/100\n",
      "1168/1168 [==============================] - 0s 109us/step - loss: 5.3790e-04\n",
      "Epoch 57/100\n",
      "1168/1168 [==============================] - 0s 136us/step - loss: 5.3807e-04\n",
      "Epoch 58/100\n",
      "1168/1168 [==============================] - 0s 121us/step - loss: 5.3662e-04\n",
      "Epoch 59/100\n",
      "1168/1168 [==============================] - 0s 203us/step - loss: 5.3734e-04\n",
      "Epoch 60/100\n",
      "1168/1168 [==============================] - 0s 120us/step - loss: 5.3676e-04\n",
      "Epoch 61/100\n",
      "1168/1168 [==============================] - 0s 116us/step - loss: 5.3755e-04\n",
      "Epoch 62/100\n",
      "1168/1168 [==============================] - 0s 102us/step - loss: 5.3567e-04 0s - loss: 5.2719e-\n",
      "Epoch 63/100\n",
      "1168/1168 [==============================] - 0s 136us/step - loss: 5.3592e-04\n",
      "Epoch 64/100\n",
      "1168/1168 [==============================] - 0s 108us/step - loss: 5.3699e-04\n",
      "Epoch 65/100\n",
      "1168/1168 [==============================] - 0s 118us/step - loss: 5.3516e-04\n",
      "Epoch 66/100\n",
      "1168/1168 [==============================] - 0s 115us/step - loss: 5.3644e-04\n",
      "Epoch 67/100\n",
      "1168/1168 [==============================] - 0s 102us/step - loss: 5.3631e-04\n",
      "Epoch 68/100\n",
      "1168/1168 [==============================] - 0s 123us/step - loss: 5.3437e-04\n",
      "Epoch 69/100\n",
      "1168/1168 [==============================] - 0s 115us/step - loss: 5.3427e-04\n",
      "Epoch 70/100\n",
      "1168/1168 [==============================] - 0s 116us/step - loss: 5.3516e-04\n",
      "Epoch 71/100\n",
      "1168/1168 [==============================] - 0s 104us/step - loss: 5.3539e-04\n",
      "Epoch 72/100\n",
      "1168/1168 [==============================] - 0s 113us/step - loss: 5.3497e-04\n",
      "Epoch 73/100\n",
      "1168/1168 [==============================] - 0s 84us/step - loss: 5.3403e-04\n",
      "Epoch 74/100\n",
      "1168/1168 [==============================] - 0s 122us/step - loss: 5.3407e-04\n",
      "Epoch 75/100\n",
      "1168/1168 [==============================] - 0s 123us/step - loss: 5.3322e-04\n",
      "Epoch 76/100\n",
      "1168/1168 [==============================] - 0s 165us/step - loss: 5.3413e-04\n",
      "Epoch 77/100\n",
      "1168/1168 [==============================] - 0s 107us/step - loss: 5.3314e-04\n",
      "Epoch 78/100\n",
      "1168/1168 [==============================] - 0s 120us/step - loss: 5.3566e-04\n",
      "Epoch 79/100\n",
      "1168/1168 [==============================] - 0s 112us/step - loss: 5.3277e-04\n",
      "Epoch 80/100\n",
      "1168/1168 [==============================] - 0s 108us/step - loss: 5.3288e-04\n",
      "Epoch 81/100\n",
      "1168/1168 [==============================] - 0s 135us/step - loss: 5.3317e-04\n",
      "Epoch 82/100\n",
      "1168/1168 [==============================] - 0s 170us/step - loss: 5.3176e-04\n",
      "Epoch 83/100\n",
      "1168/1168 [==============================] - 0s 138us/step - loss: 5.3185e-04\n",
      "Epoch 84/100\n",
      "1168/1168 [==============================] - 0s 125us/step - loss: 5.3203e-04\n",
      "Epoch 85/100\n",
      "1168/1168 [==============================] - 0s 112us/step - loss: 5.3239e-04\n",
      "Epoch 86/100\n",
      "1168/1168 [==============================] - 0s 107us/step - loss: 5.3513e-04\n",
      "Epoch 87/100\n",
      "1168/1168 [==============================] - 0s 111us/step - loss: 5.3095e-04\n",
      "Epoch 88/100\n",
      "1168/1168 [==============================] - 0s 123us/step - loss: 5.3121e-04\n",
      "Epoch 89/100\n",
      "1168/1168 [==============================] - 0s 128us/step - loss: 5.3112e-04\n",
      "Epoch 90/100\n",
      "1168/1168 [==============================] - 0s 103us/step - loss: 5.3082e-04\n",
      "Epoch 91/100\n",
      "1168/1168 [==============================] - 0s 89us/step - loss: 5.3108e-04\n",
      "Epoch 92/100\n"
     ]
    },
    {
     "name": "stdout",
     "output_type": "stream",
     "text": [
      "1168/1168 [==============================] - 0s 85us/step - loss: 5.2980e-04\n",
      "Epoch 93/100\n",
      "1168/1168 [==============================] - 0s 112us/step - loss: 5.3374e-04\n",
      "Epoch 94/100\n",
      "1168/1168 [==============================] - 0s 105us/step - loss: 5.3221e-04\n",
      "Epoch 95/100\n",
      "1168/1168 [==============================] - 0s 107us/step - loss: 5.3006e-04\n",
      "Epoch 96/100\n",
      "1168/1168 [==============================] - 0s 107us/step - loss: 5.3248e-04\n",
      "Epoch 97/100\n",
      "1168/1168 [==============================] - 0s 104us/step - loss: 5.2823e-04\n",
      "Epoch 98/100\n",
      "1168/1168 [==============================] - 0s 107us/step - loss: 5.3008e-04\n",
      "Epoch 99/100\n",
      "1168/1168 [==============================] - 0s 100us/step - loss: 5.3081e-04\n",
      "Epoch 100/100\n",
      "1168/1168 [==============================] - 0s 107us/step - loss: 5.3118e-04\n"
     ]
    }
   ],
   "source": [
    "history = regressor.fit(x_train,y_train,epochs = 100, batch_size = 32)"
   ]
  },
  {
   "cell_type": "code",
   "execution_count": 21,
   "metadata": {
    "_uuid": "16e063f81273faee696d9db103673ad2b88fda50"
   },
   "outputs": [
    {
     "data": {
      "text/plain": [
       "[<matplotlib.lines.Line2D at 0x7f9f742ead50>]"
      ]
     },
     "execution_count": 21,
     "metadata": {},
     "output_type": "execute_result"
    },
    {
     "data": {
      "image/png": "[encoded data removed]",
      "text/plain": [
       "<Figure size 432x288 with 1 Axes>"
      ]
     },
     "metadata": {
      "needs_background": "light"
     },
     "output_type": "display_data"
    }
   ],
   "source": [
    "import matplotlib.pyplot as plt\n",
    "plt.plot(history.history['loss'])\n",
    "# plt.plot(history.history['val_loss'])\n"
   ]
  },
  {
   "cell_type": "code",
   "execution_count": 54,
   "metadata": {},
   "outputs": [
    {
     "data": {
      "text/plain": [
       "<tf.Tensor 'lstm_2_input:0' shape=(None, 1, 1) dtype=float32>"
      ]
     },
     "execution_count": 54,
     "metadata": {},
     "output_type": "execute_result"
    }
   ],
   "source": [
    "regressor.input"
   ]
  },
  {
   "cell_type": "code",
   "execution_count": 22,
   "metadata": {
    "_uuid": "6acd6a66dc0f9c013ea008c0d99734697757cae6"
   },
   "outputs": [],
   "source": [
    "real_stock_price = training.iloc[:,2:3].values"
   ]
  },
  {
   "cell_type": "code",
   "execution_count": 23,
   "metadata": {
    "_uuid": "b65a0a5b78f98a5ac13dee98e9738fd61426bfd0"
   },
   "outputs": [
    {
     "data": {
      "text/html": [
       "<div>\n",
       "<style scoped>\n",
       "    .dataframe tbody tr th:only-of-type {\n",
       "        vertical-align: middle;\n",
       "    }\n",
       "\n",
       "    .dataframe tbody tr th {\n",
       "        vertical-align: top;\n",
       "    }\n",
       "\n",
       "    .dataframe thead th {\n",
       "        text-align: right;\n",
       "    }\n",
       "</style>\n",
       "<table border=\"1\" class=\"dataframe\">\n",
       "  <thead>\n",
       "    <tr style=\"text-align: right;\">\n",
       "      <th></th>\n",
       "      <th>High</th>\n",
       "      <th>Low</th>\n",
       "      <th>Open</th>\n",
       "      <th>Close</th>\n",
       "      <th>Volume</th>\n",
       "      <th>Adj Close</th>\n",
       "    </tr>\n",
       "    <tr>\n",
       "      <th>Date</th>\n",
       "      <th></th>\n",
       "      <th></th>\n",
       "      <th></th>\n",
       "      <th></th>\n",
       "      <th></th>\n",
       "      <th></th>\n",
       "    </tr>\n",
       "  </thead>\n",
       "  <tbody>\n",
       "    <tr>\n",
       "      <th>2015-01-05</th>\n",
       "      <td>254.0</td>\n",
       "      <td>247.0</td>\n",
       "      <td>252.0</td>\n",
       "      <td>249.0</td>\n",
       "      <td>5232400.0</td>\n",
       "      <td>193.482346</td>\n",
       "    </tr>\n",
       "    <tr>\n",
       "      <th>2015-01-06</th>\n",
       "      <td>250.0</td>\n",
       "      <td>245.0</td>\n",
       "      <td>246.0</td>\n",
       "      <td>247.0</td>\n",
       "      <td>4386200.0</td>\n",
       "      <td>191.928238</td>\n",
       "    </tr>\n",
       "    <tr>\n",
       "      <th>2015-01-07</th>\n",
       "      <td>253.0</td>\n",
       "      <td>240.0</td>\n",
       "      <td>246.0</td>\n",
       "      <td>253.0</td>\n",
       "      <td>11060300.0</td>\n",
       "      <td>196.590500</td>\n",
       "    </tr>\n",
       "    <tr>\n",
       "      <th>2015-01-08</th>\n",
       "      <td>252.0</td>\n",
       "      <td>248.0</td>\n",
       "      <td>251.0</td>\n",
       "      <td>250.0</td>\n",
       "      <td>6530700.0</td>\n",
       "      <td>194.259384</td>\n",
       "    </tr>\n",
       "    <tr>\n",
       "      <th>2015-01-09</th>\n",
       "      <td>251.0</td>\n",
       "      <td>248.0</td>\n",
       "      <td>251.0</td>\n",
       "      <td>248.0</td>\n",
       "      <td>4615500.0</td>\n",
       "      <td>192.705292</td>\n",
       "    </tr>\n",
       "    <tr>\n",
       "      <th>...</th>\n",
       "      <td>...</td>\n",
       "      <td>...</td>\n",
       "      <td>...</td>\n",
       "      <td>...</td>\n",
       "      <td>...</td>\n",
       "      <td>...</td>\n",
       "    </tr>\n",
       "    <tr>\n",
       "      <th>2019-12-24</th>\n",
       "      <td>221.0</td>\n",
       "      <td>214.0</td>\n",
       "      <td>220.0</td>\n",
       "      <td>215.0</td>\n",
       "      <td>6880100.0</td>\n",
       "      <td>211.406570</td>\n",
       "    </tr>\n",
       "    <tr>\n",
       "      <th>2019-12-25</th>\n",
       "      <td>216.0</td>\n",
       "      <td>212.0</td>\n",
       "      <td>213.0</td>\n",
       "      <td>215.0</td>\n",
       "      <td>2423600.0</td>\n",
       "      <td>211.406570</td>\n",
       "    </tr>\n",
       "    <tr>\n",
       "      <th>2019-12-26</th>\n",
       "      <td>216.0</td>\n",
       "      <td>214.0</td>\n",
       "      <td>216.0</td>\n",
       "      <td>215.0</td>\n",
       "      <td>1685300.0</td>\n",
       "      <td>211.406570</td>\n",
       "    </tr>\n",
       "    <tr>\n",
       "      <th>2019-12-27</th>\n",
       "      <td>216.0</td>\n",
       "      <td>213.0</td>\n",
       "      <td>216.0</td>\n",
       "      <td>214.0</td>\n",
       "      <td>3996200.0</td>\n",
       "      <td>210.423279</td>\n",
       "    </tr>\n",
       "    <tr>\n",
       "      <th>2019-12-30</th>\n",
       "      <td>216.0</td>\n",
       "      <td>213.0</td>\n",
       "      <td>215.0</td>\n",
       "      <td>213.0</td>\n",
       "      <td>2624300.0</td>\n",
       "      <td>209.440002</td>\n",
       "    </tr>\n",
       "  </tbody>\n",
       "</table>\n",
       "<p>1219 rows × 6 columns</p>\n",
       "</div>"
      ],
      "text/plain": [
       "             High    Low   Open  Close      Volume   Adj Close\n",
       "Date                                                          \n",
       "2015-01-05  254.0  247.0  252.0  249.0   5232400.0  193.482346\n",
       "2015-01-06  250.0  245.0  246.0  247.0   4386200.0  191.928238\n",
       "2015-01-07  253.0  240.0  246.0  253.0  11060300.0  196.590500\n",
       "2015-01-08  252.0  248.0  251.0  250.0   6530700.0  194.259384\n",
       "2015-01-09  251.0  248.0  251.0  248.0   4615500.0  192.705292\n",
       "...           ...    ...    ...    ...         ...         ...\n",
       "2019-12-24  221.0  214.0  220.0  215.0   6880100.0  211.406570\n",
       "2019-12-25  216.0  212.0  213.0  215.0   2423600.0  211.406570\n",
       "2019-12-26  216.0  214.0  216.0  215.0   1685300.0  211.406570\n",
       "2019-12-27  216.0  213.0  216.0  214.0   3996200.0  210.423279\n",
       "2019-12-30  216.0  213.0  215.0  213.0   2624300.0  209.440002\n",
       "\n",
       "[1219 rows x 6 columns]"
      ]
     },
     "execution_count": 23,
     "metadata": {},
     "output_type": "execute_result"
    }
   ],
   "source": [
    "dataset_total = pd.concat((training, testing),axis = 0)\n",
    "dataset_total"
   ]
  },
  {
   "cell_type": "code",
   "execution_count": 51,
   "metadata": {},
   "outputs": [
    {
     "ename": "NameError",
     "evalue": "name 'x_test' is not defined",
     "output_type": "error",
     "traceback": [
      "\u001b[0;31m---------------------------------------------------------------------------\u001b[0m",
      "\u001b[0;31mNameError\u001b[0m                                 Traceback (most recent call last)",
      "\u001b[0;32m<ipython-input-51-17a04c274751>\u001b[0m in \u001b[0;36m<module>\u001b[0;34m\u001b[0m\n\u001b[0;32m----> 1\u001b[0;31m \u001b[0mx_test\u001b[0m\u001b[0;34m\u001b[0m\u001b[0;34m\u001b[0m\u001b[0m\n\u001b[0m",
      "\u001b[0;31mNameError\u001b[0m: name 'x_test' is not defined"
     ]
    }
   ],
   "source": []
  },
  {
   "cell_type": "code",
   "execution_count": 29,
   "metadata": {
    "_uuid": "31aa33ed70b08e71d0e8bfe4c1abae7901ab947d"
   },
   "outputs": [
    {
     "ename": "NameError",
     "evalue": "name 'hp' is not defined",
     "output_type": "error",
     "traceback": [
      "\u001b[0;31m---------------------------------------------------------------------------\u001b[0m",
      "\u001b[0;31mNameError\u001b[0m                                 Traceback (most recent call last)",
      "\u001b[0;32m<ipython-input-29-17ae93b42d2e>\u001b[0m in \u001b[0;36m<module>\u001b[0;34m\u001b[0m\n\u001b[0;32m----> 1\u001b[0;31m \u001b[0minputs\u001b[0m \u001b[0;34m=\u001b[0m \u001b[0mdataset_total\u001b[0m\u001b[0;34m[\u001b[0m\u001b[0mlen\u001b[0m\u001b[0;34m(\u001b[0m\u001b[0mdataset_total\u001b[0m\u001b[0;34m)\u001b[0m \u001b[0;34m-\u001b[0m \u001b[0mlen\u001b[0m\u001b[0;34m(\u001b[0m\u001b[0mtesting\u001b[0m\u001b[0;34m)\u001b[0m \u001b[0;34m-\u001b[0m \u001b[0mhp\u001b[0m\u001b[0;34m:\u001b[0m\u001b[0;34m]\u001b[0m\u001b[0;34m.\u001b[0m\u001b[0mvalues\u001b[0m\u001b[0;34m\u001b[0m\u001b[0;34m\u001b[0m\u001b[0m\n\u001b[0m\u001b[1;32m      2\u001b[0m \u001b[0minputs\u001b[0m\u001b[0;34m\u001b[0m\u001b[0;34m\u001b[0m\u001b[0m\n",
      "\u001b[0;31mNameError\u001b[0m: name 'hp' is not defined"
     ]
    }
   ],
   "source": [
    "inputs = dataset_total[len(dataset_total) - len(testing) - hp:].values\n",
    "inputs"
   ]
  },
  {
   "cell_type": "code",
   "execution_count": null,
   "metadata": {
    "_uuid": "7d74568c439acc8dda77dc4365d4b413095508e1"
   },
   "outputs": [],
   "source": [
    "inputs = inputs.reshape(-1,1)"
   ]
  },
  {
   "cell_type": "code",
   "execution_count": null,
   "metadata": {
    "_uuid": "17b170e861d1353ece8aec66f700886106da4aef"
   },
   "outputs": [],
   "source": [
    "inputs"
   ]
  },
  {
   "cell_type": "code",
   "execution_count": null,
   "metadata": {
    "_uuid": "b4003370fb6454d0493ef80b1b50ea34061de7bc"
   },
   "outputs": [],
   "source": [
    "inputs = sc.transform(inputs)\n",
    "inputs.shape"
   ]
  },
  {
   "cell_type": "code",
   "execution_count": null,
   "metadata": {
    "_uuid": "ef076f0fdbe6ec72d85e7326c3e8aa73fcbad667"
   },
   "outputs": [],
   "source": [
    "x_test = []\n",
    "for i in range(60,185):\n",
    "    x_test.append(inputs[i-60:i,0])"
   ]
  },
  {
   "cell_type": "code",
   "execution_count": null,
   "metadata": {
    "_uuid": "1fa15b6bb87ff2da8a730a6e1de20d5e5baf1571"
   },
   "outputs": [],
   "source": [
    "x_test = np.array(x_test)\n",
    "x_test.shape"
   ]
  },
  {
   "cell_type": "code",
   "execution_count": null,
   "metadata": {
    "_uuid": "b244d0115671f29d46d2cb290f92e6a0fe38bc1d"
   },
   "outputs": [],
   "source": [
    "x_test = np.reshape(x_test, (x_test.shape[0],x_test.shape[1],1))\n",
    "x_test.shape"
   ]
  },
  {
   "cell_type": "code",
   "execution_count": null,
   "metadata": {
    "_uuid": "24730042bdad3a140e033a78ae9b170304f8cefb"
   },
   "outputs": [],
   "source": [
    "predicted_price = regressor.predict(x_test)"
   ]
  },
  {
   "cell_type": "code",
   "execution_count": null,
   "metadata": {
    "_uuid": "4b06462fa06e7399373d8a552cd159176fbeef33"
   },
   "outputs": [],
   "source": [
    "predicted_price = sc.inverse_transform(predicted_price)\n",
    "predicted_price"
   ]
  },
  {
   "cell_type": "code",
   "execution_count": null,
   "metadata": {
    "_uuid": "e8b30d578fafb1564da4448efb1f994537f6f588"
   },
   "outputs": [],
   "source": [
    "plt.plot(real_stock_price,color = 'red', label = 'Real Price')\n",
    "plt.plot(predicted_price, color = 'blue', label = 'Predicted Price')\n",
    "plt.title('Google Stock Price Prediction')\n",
    "plt.xlabel('Time')\n",
    "plt.ylabel('Google Stock Price')\n",
    "plt.legend()\n",
    "plt.show()"
   ]
  }
 ],
 "metadata": {
  "kernelspec": {
   "display_name": "Python 3",
   "language": "python",
   "name": "python3"
  },
  "language_info": {
   "codemirror_mode": {
    "name": "ipython",
    "version": 3
   },
   "file_extension": ".py",
   "mimetype": "text/x-python",
   "name": "python",
   "nbconvert_exporter": "python",
   "pygments_lexer": "ipython3",
   "version": "3.7.4"
  }
 },
 "nbformat": 4,
 "nbformat_minor": 1
}
