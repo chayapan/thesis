{
 "cells": [
  {
   "cell_type": "code",
   "execution_count": 1,
   "metadata": {},
   "outputs": [
    {
     "name": "stdout",
     "output_type": "stream",
     "text": [
      "Experiment Home:  /home/jovyan ; Data Home: /home/jovyan/dataset\n"
     ]
    }
   ],
   "source": [
    "import sys, os, os.path\n",
    "if not 'EXPERIMENT_HOME' in os.environ: # Configure local paths if not already defined\n",
    "    ML_HOME = os.path.abspath(os.path.join(\"..\", \"..\",\"ml_home\")) # ML workspace\n",
    "    EXPERIMENT_HOME = os.path.abspath(os.path.join(ML_HOME, \"..\")) # Experiment workspace\n",
    "    DATA_HOME = os.path.abspath(os.path.join(EXPERIMENT_HOME,\"dataset\")) # Dataset location\n",
    "    os.environ[\"EXPERIMENT_HOME\"] = EXPERIMENT_HOME\n",
    "    os.environ[\"DATA_HOME\"] = DATA_HOME\n",
    "    sys.path.insert(0, EXPERIMENT_HOME)\n",
    "    sys.path.insert(0, ML_HOME) # Add to path so can load our library\n",
    "    os.chdir(EXPERIMENT_HOME) # Change working directory to experiment workspace\n",
    "print(\"Experiment Home: \", os.path.abspath(os.curdir), \"; Data Home:\", DATA_HOME)"
   ]
  },
  {
   "cell_type": "code",
   "execution_count": 2,
   "metadata": {},
   "outputs": [
    {
     "name": "stdout",
     "output_type": "stream",
     "text": [
      "Loading: AOT\n",
      "Loading: AP\n",
      "Loading: BTS\n",
      "Loading: CPF\n",
      "Loading: KBANK\n",
      "Loading: KSL\n",
      "Loading: LH\n",
      "Loading: PTT\n",
      "Loading: RATCH\n",
      "Loading: SCB\n",
      "Loading: SET\n",
      "Loading: SET100\n",
      "Loading: SET50\n"
     ]
    }
   ],
   "source": [
    "from data.pilot import load_pilot_series, list_pilot_series\n",
    "\n",
    "# list_pilot_series()\n",
    "dataset = load_pilot_series()"
   ]
  },
  {
   "cell_type": "code",
   "execution_count": 3,
   "metadata": {},
   "outputs": [],
   "source": [
    "import numpy as np\n",
    "import pandas as pd\n",
    "import datetime as dt\n",
    "import matplotlib.pyplot as plt\n",
    "import os, os.path\n",
    "from sklearn import datasets, ensemble\n",
    "from sklearn.inspection import permutation_importance\n",
    "from sklearn.metrics import mean_squared_error\n",
    "from sklearn.model_selection import train_test_split"
   ]
  },
  {
   "cell_type": "code",
   "execution_count": 39,
   "metadata": {},
   "outputs": [
    {
     "name": "stderr",
     "output_type": "stream",
     "text": [
      "/opt/conda/lib/python3.7/site-packages/ipykernel_launcher.py:30: SettingWithCopyWarning: \n",
      "A value is trying to be set on a copy of a slice from a DataFrame\n",
      "\n",
      "See the caveats in the documentation: http://pandas.pydata.org/pandas-docs/stable/user_guide/indexing.html#returning-a-view-versus-a-copy\n"
     ]
    },
    {
     "data": {
      "text/html": [
       "<div>\n",
       "<style scoped>\n",
       "    .dataframe tbody tr th:only-of-type {\n",
       "        vertical-align: middle;\n",
       "    }\n",
       "\n",
       "    .dataframe tbody tr th {\n",
       "        vertical-align: top;\n",
       "    }\n",
       "\n",
       "    .dataframe thead th {\n",
       "        text-align: right;\n",
       "    }\n",
       "</style>\n",
       "<table border=\"1\" class=\"dataframe\">\n",
       "  <thead>\n",
       "    <tr style=\"text-align: right;\">\n",
       "      <th></th>\n",
       "      <th>Close</th>\n",
       "      <th>price-0-day-ago</th>\n",
       "      <th>price-1-day-ago</th>\n",
       "      <th>price-2-day-ago</th>\n",
       "      <th>price-3-day-ago</th>\n",
       "      <th>price-4-day-ago</th>\n",
       "      <th>price-5-day-ago</th>\n",
       "      <th>price-6-day-ago</th>\n",
       "      <th>price-7-day-ago</th>\n",
       "      <th>price-8-day-ago</th>\n",
       "      <th>...</th>\n",
       "      <th>price-48-day-ago</th>\n",
       "      <th>price-49-day-ago</th>\n",
       "      <th>1-day-ahead</th>\n",
       "      <th>3-day-ahead</th>\n",
       "      <th>5-day-ahead</th>\n",
       "      <th>7-day-ahead</th>\n",
       "      <th>10-day-ahead</th>\n",
       "      <th>15-day-ahead</th>\n",
       "      <th>20-day-ahead</th>\n",
       "      <th>30-day-ahead</th>\n",
       "    </tr>\n",
       "    <tr>\n",
       "      <th>Date</th>\n",
       "      <th></th>\n",
       "      <th></th>\n",
       "      <th></th>\n",
       "      <th></th>\n",
       "      <th></th>\n",
       "      <th></th>\n",
       "      <th></th>\n",
       "      <th></th>\n",
       "      <th></th>\n",
       "      <th></th>\n",
       "      <th></th>\n",
       "      <th></th>\n",
       "      <th></th>\n",
       "      <th></th>\n",
       "      <th></th>\n",
       "      <th></th>\n",
       "      <th></th>\n",
       "      <th></th>\n",
       "      <th></th>\n",
       "      <th></th>\n",
       "      <th></th>\n",
       "    </tr>\n",
       "  </thead>\n",
       "  <tbody>\n",
       "    <tr>\n",
       "      <th>2019-11-08</th>\n",
       "      <td>1103.55</td>\n",
       "      <td>1103.55</td>\n",
       "      <td>1106.15</td>\n",
       "      <td>1093.50</td>\n",
       "      <td>1096.79</td>\n",
       "      <td>1092.58</td>\n",
       "      <td>1068.71</td>\n",
       "      <td>1073.26</td>\n",
       "      <td>1075.91</td>\n",
       "      <td>1066.48</td>\n",
       "      <td>...</td>\n",
       "      <td>1096.47</td>\n",
       "      <td>1083.32</td>\n",
       "      <td>1092.69</td>\n",
       "      <td>1088.37</td>\n",
       "      <td>1081.78</td>\n",
       "      <td>1084.27</td>\n",
       "      <td>1077.51</td>\n",
       "      <td>1070.23</td>\n",
       "      <td>1047.02</td>\n",
       "      <td>1065.23</td>\n",
       "    </tr>\n",
       "    <tr>\n",
       "      <th>2019-11-11</th>\n",
       "      <td>1092.69</td>\n",
       "      <td>1092.69</td>\n",
       "      <td>1103.55</td>\n",
       "      <td>1106.15</td>\n",
       "      <td>1093.50</td>\n",
       "      <td>1096.79</td>\n",
       "      <td>1092.58</td>\n",
       "      <td>1068.71</td>\n",
       "      <td>1073.26</td>\n",
       "      <td>1075.91</td>\n",
       "      <td>...</td>\n",
       "      <td>1095.04</td>\n",
       "      <td>1096.47</td>\n",
       "      <td>1095.68</td>\n",
       "      <td>1085.44</td>\n",
       "      <td>1085.81</td>\n",
       "      <td>1075.77</td>\n",
       "      <td>1089.67</td>\n",
       "      <td>1054.88</td>\n",
       "      <td>1048.85</td>\n",
       "      <td>1067.99</td>\n",
       "    </tr>\n",
       "    <tr>\n",
       "      <th>2019-11-12</th>\n",
       "      <td>1095.68</td>\n",
       "      <td>1095.68</td>\n",
       "      <td>1092.69</td>\n",
       "      <td>1103.55</td>\n",
       "      <td>1106.15</td>\n",
       "      <td>1093.50</td>\n",
       "      <td>1096.79</td>\n",
       "      <td>1092.58</td>\n",
       "      <td>1068.71</td>\n",
       "      <td>1073.26</td>\n",
       "      <td>...</td>\n",
       "      <td>1085.80</td>\n",
       "      <td>1095.04</td>\n",
       "      <td>1088.37</td>\n",
       "      <td>1081.78</td>\n",
       "      <td>1084.27</td>\n",
       "      <td>1073.10</td>\n",
       "      <td>1083.70</td>\n",
       "      <td>1054.28</td>\n",
       "      <td>1057.87</td>\n",
       "      <td>1070.74</td>\n",
       "    </tr>\n",
       "    <tr>\n",
       "      <th>2019-11-13</th>\n",
       "      <td>1088.37</td>\n",
       "      <td>1088.37</td>\n",
       "      <td>1095.68</td>\n",
       "      <td>1092.69</td>\n",
       "      <td>1103.55</td>\n",
       "      <td>1106.15</td>\n",
       "      <td>1093.50</td>\n",
       "      <td>1096.79</td>\n",
       "      <td>1092.58</td>\n",
       "      <td>1068.71</td>\n",
       "      <td>...</td>\n",
       "      <td>1099.93</td>\n",
       "      <td>1085.80</td>\n",
       "      <td>1085.44</td>\n",
       "      <td>1085.81</td>\n",
       "      <td>1075.77</td>\n",
       "      <td>1077.51</td>\n",
       "      <td>1084.13</td>\n",
       "      <td>1053.40</td>\n",
       "      <td>1066.63</td>\n",
       "      <td>1068.72</td>\n",
       "    </tr>\n",
       "    <tr>\n",
       "      <th>2019-11-14</th>\n",
       "      <td>1085.44</td>\n",
       "      <td>1085.44</td>\n",
       "      <td>1088.37</td>\n",
       "      <td>1095.68</td>\n",
       "      <td>1092.69</td>\n",
       "      <td>1103.55</td>\n",
       "      <td>1106.15</td>\n",
       "      <td>1093.50</td>\n",
       "      <td>1096.79</td>\n",
       "      <td>1092.58</td>\n",
       "      <td>...</td>\n",
       "      <td>1108.91</td>\n",
       "      <td>1099.93</td>\n",
       "      <td>1081.78</td>\n",
       "      <td>1084.27</td>\n",
       "      <td>1073.10</td>\n",
       "      <td>1089.67</td>\n",
       "      <td>1077.30</td>\n",
       "      <td>1048.76</td>\n",
       "      <td>1048.08</td>\n",
       "      <td>1068.50</td>\n",
       "    </tr>\n",
       "  </tbody>\n",
       "</table>\n",
       "<p>5 rows × 59 columns</p>\n",
       "</div>"
      ],
      "text/plain": [
       "              Close  price-0-day-ago  price-1-day-ago  price-2-day-ago  \\\n",
       "Date                                                                     \n",
       "2019-11-08  1103.55          1103.55          1106.15          1093.50   \n",
       "2019-11-11  1092.69          1092.69          1103.55          1106.15   \n",
       "2019-11-12  1095.68          1095.68          1092.69          1103.55   \n",
       "2019-11-13  1088.37          1088.37          1095.68          1092.69   \n",
       "2019-11-14  1085.44          1085.44          1088.37          1095.68   \n",
       "\n",
       "            price-3-day-ago  price-4-day-ago  price-5-day-ago  \\\n",
       "Date                                                            \n",
       "2019-11-08          1096.79          1092.58          1068.71   \n",
       "2019-11-11          1093.50          1096.79          1092.58   \n",
       "2019-11-12          1106.15          1093.50          1096.79   \n",
       "2019-11-13          1103.55          1106.15          1093.50   \n",
       "2019-11-14          1092.69          1103.55          1106.15   \n",
       "\n",
       "            price-6-day-ago  price-7-day-ago  price-8-day-ago  ...  \\\n",
       "Date                                                           ...   \n",
       "2019-11-08          1073.26          1075.91          1066.48  ...   \n",
       "2019-11-11          1068.71          1073.26          1075.91  ...   \n",
       "2019-11-12          1092.58          1068.71          1073.26  ...   \n",
       "2019-11-13          1096.79          1092.58          1068.71  ...   \n",
       "2019-11-14          1093.50          1096.79          1092.58  ...   \n",
       "\n",
       "            price-48-day-ago  price-49-day-ago  1-day-ahead  3-day-ahead  \\\n",
       "Date                                                                       \n",
       "2019-11-08           1096.47           1083.32      1092.69      1088.37   \n",
       "2019-11-11           1095.04           1096.47      1095.68      1085.44   \n",
       "2019-11-12           1085.80           1095.04      1088.37      1081.78   \n",
       "2019-11-13           1099.93           1085.80      1085.44      1085.81   \n",
       "2019-11-14           1108.91           1099.93      1081.78      1084.27   \n",
       "\n",
       "            5-day-ahead  7-day-ahead  10-day-ahead  15-day-ahead  \\\n",
       "Date                                                               \n",
       "2019-11-08      1081.78      1084.27       1077.51       1070.23   \n",
       "2019-11-11      1085.81      1075.77       1089.67       1054.88   \n",
       "2019-11-12      1084.27      1073.10       1083.70       1054.28   \n",
       "2019-11-13      1075.77      1077.51       1084.13       1053.40   \n",
       "2019-11-14      1073.10      1089.67       1077.30       1048.76   \n",
       "\n",
       "            20-day-ahead  30-day-ahead  \n",
       "Date                                    \n",
       "2019-11-08       1047.02       1065.23  \n",
       "2019-11-11       1048.85       1067.99  \n",
       "2019-11-12       1057.87       1070.74  \n",
       "2019-11-13       1066.63       1068.72  \n",
       "2019-11-14       1048.08       1068.50  \n",
       "\n",
       "[5 rows x 59 columns]"
      ]
     },
     "execution_count": 39,
     "metadata": {},
     "output_type": "execute_result"
    }
   ],
   "source": [
    "# Load data series and clean-up missing values\n",
    "def prep_series_for_XGBoost(df, window=50):\n",
    "    data = df\n",
    "    # Target: Tomorrow's closing price\n",
    "    data.loc[:,(\"Tomorrow\")] = data[\"Price\"].shift(-1)\n",
    "    # data.dropna(inplace=True)\n",
    "\n",
    "    # Past: Historical data\n",
    "    features = []\n",
    "    for i in range(window):\n",
    "        f_col = \"price-%s-day-ago\" % i\n",
    "        data.loc[:,(f_col)] = data[\"Close\"].shift(i)\n",
    "        features.append(f_col)\n",
    "\n",
    "    # Target: Future time\n",
    "    targets = []\n",
    "    for t in [1,3,5,7,10,15,20,30]:\n",
    "        t_col = \"%s-day-ahead\" % t\n",
    "        data.loc[:,(t_col)] = data[\"Close\"].shift(-t)\n",
    "        targets.append(t_col)\n",
    "\n",
    "    # Initial Setup XGBoost.\n",
    "    # Run with 5 TI: SMA WMA ADOSC ATR RSI\n",
    "    # Only use Closing price\n",
    "    # df = data[['Price','1-day-ahead']]\n",
    "    df = data[['Close'] + features + targets]\n",
    "    return df, features, targets\n",
    "\n",
    "df_series, features, targets = prep_series_for_XGBoost(dataset['SET50'], window=50)\n",
    "df_series.dropna(inplace=True) # Remove NA row\n",
    "df_series.tail()"
   ]
  },
  {
   "cell_type": "code",
   "execution_count": 40,
   "metadata": {},
   "outputs": [
    {
     "data": {
      "text/plain": [
       "Text(0.5, 1.0, 'Data partition')"
      ]
     },
     "execution_count": 40,
     "metadata": {},
     "output_type": "execute_result"
    },
    {
     "data": {
      "image/png": "[encoded data removed]",
      "text/plain": [
       "<Figure size 432x288 with 1 Axes>"
      ]
     },
     "metadata": {
      "needs_background": "light"
     },
     "output_type": "display_data"
    }
   ],
   "source": [
    "df = df_series\n",
    "n = len(df)\n",
    "train_df = df[0:int(n*0.7)]\n",
    "val_df = df[int(n*0.7):int(n*0.9)]\n",
    "test_df = df[int(n*0.9):]\n",
    "\n",
    "\n",
    "fig, ax = plt.subplots()\n",
    "train_df['Close'].plot(ax=ax)\n",
    "val_df['Close'].plot(ax=ax)\n",
    "test_df['Close'].plot(ax=ax)\n",
    "ax.legend(['Train', 'Validate', 'Test'])\n",
    "plt.title(\"Data partition\")"
   ]
  },
  {
   "cell_type": "code",
   "execution_count": 41,
   "metadata": {},
   "outputs": [
    {
     "data": {
      "text/html": [
       "<div>\n",
       "<style scoped>\n",
       "    .dataframe tbody tr th:only-of-type {\n",
       "        vertical-align: middle;\n",
       "    }\n",
       "\n",
       "    .dataframe tbody tr th {\n",
       "        vertical-align: top;\n",
       "    }\n",
       "\n",
       "    .dataframe thead th {\n",
       "        text-align: right;\n",
       "    }\n",
       "</style>\n",
       "<table border=\"1\" class=\"dataframe\">\n",
       "  <thead>\n",
       "    <tr style=\"text-align: right;\">\n",
       "      <th></th>\n",
       "      <th>Close</th>\n",
       "      <th>price-0-day-ago</th>\n",
       "      <th>price-1-day-ago</th>\n",
       "      <th>price-2-day-ago</th>\n",
       "      <th>price-3-day-ago</th>\n",
       "      <th>price-4-day-ago</th>\n",
       "      <th>price-5-day-ago</th>\n",
       "      <th>price-6-day-ago</th>\n",
       "      <th>price-7-day-ago</th>\n",
       "      <th>price-8-day-ago</th>\n",
       "      <th>...</th>\n",
       "      <th>price-48-day-ago</th>\n",
       "      <th>price-49-day-ago</th>\n",
       "      <th>1-day-ahead</th>\n",
       "      <th>3-day-ahead</th>\n",
       "      <th>5-day-ahead</th>\n",
       "      <th>7-day-ahead</th>\n",
       "      <th>10-day-ahead</th>\n",
       "      <th>15-day-ahead</th>\n",
       "      <th>20-day-ahead</th>\n",
       "      <th>30-day-ahead</th>\n",
       "    </tr>\n",
       "    <tr>\n",
       "      <th>Date</th>\n",
       "      <th></th>\n",
       "      <th></th>\n",
       "      <th></th>\n",
       "      <th></th>\n",
       "      <th></th>\n",
       "      <th></th>\n",
       "      <th></th>\n",
       "      <th></th>\n",
       "      <th></th>\n",
       "      <th></th>\n",
       "      <th></th>\n",
       "      <th></th>\n",
       "      <th></th>\n",
       "      <th></th>\n",
       "      <th></th>\n",
       "      <th></th>\n",
       "      <th></th>\n",
       "      <th></th>\n",
       "      <th></th>\n",
       "      <th></th>\n",
       "      <th></th>\n",
       "    </tr>\n",
       "  </thead>\n",
       "  <tbody>\n",
       "    <tr>\n",
       "      <th>2015-03-16</th>\n",
       "      <td>996.39</td>\n",
       "      <td>996.39</td>\n",
       "      <td>1012.25</td>\n",
       "      <td>1013.98</td>\n",
       "      <td>1015.94</td>\n",
       "      <td>1005.25</td>\n",
       "      <td>1027.02</td>\n",
       "      <td>1032.49</td>\n",
       "      <td>1022.09</td>\n",
       "      <td>1027.89</td>\n",
       "      <td>...</td>\n",
       "      <td>980.50</td>\n",
       "      <td>987.40</td>\n",
       "      <td>997.43</td>\n",
       "      <td>1012.18</td>\n",
       "      <td>1006.03</td>\n",
       "      <td>1002.56</td>\n",
       "      <td>993.27</td>\n",
       "      <td>1027.62</td>\n",
       "      <td>1039.53</td>\n",
       "      <td>1003.19</td>\n",
       "    </tr>\n",
       "    <tr>\n",
       "      <th>2015-03-17</th>\n",
       "      <td>997.43</td>\n",
       "      <td>997.43</td>\n",
       "      <td>996.39</td>\n",
       "      <td>1012.25</td>\n",
       "      <td>1013.98</td>\n",
       "      <td>1015.94</td>\n",
       "      <td>1005.25</td>\n",
       "      <td>1027.02</td>\n",
       "      <td>1032.49</td>\n",
       "      <td>1022.09</td>\n",
       "      <td>...</td>\n",
       "      <td>998.05</td>\n",
       "      <td>980.50</td>\n",
       "      <td>1010.99</td>\n",
       "      <td>1010.67</td>\n",
       "      <td>1005.12</td>\n",
       "      <td>992.82</td>\n",
       "      <td>997.66</td>\n",
       "      <td>1023.97</td>\n",
       "      <td>1033.75</td>\n",
       "      <td>990.69</td>\n",
       "    </tr>\n",
       "    <tr>\n",
       "      <th>2015-03-18</th>\n",
       "      <td>1010.99</td>\n",
       "      <td>1010.99</td>\n",
       "      <td>997.43</td>\n",
       "      <td>996.39</td>\n",
       "      <td>1012.25</td>\n",
       "      <td>1013.98</td>\n",
       "      <td>1015.94</td>\n",
       "      <td>1005.25</td>\n",
       "      <td>1027.02</td>\n",
       "      <td>1032.49</td>\n",
       "      <td>...</td>\n",
       "      <td>1013.24</td>\n",
       "      <td>998.05</td>\n",
       "      <td>1012.18</td>\n",
       "      <td>1006.03</td>\n",
       "      <td>1002.56</td>\n",
       "      <td>993.33</td>\n",
       "      <td>1010.04</td>\n",
       "      <td>1023.65</td>\n",
       "      <td>1040.23</td>\n",
       "      <td>1001.04</td>\n",
       "    </tr>\n",
       "    <tr>\n",
       "      <th>2015-03-19</th>\n",
       "      <td>1012.18</td>\n",
       "      <td>1012.18</td>\n",
       "      <td>1010.99</td>\n",
       "      <td>997.43</td>\n",
       "      <td>996.39</td>\n",
       "      <td>1012.25</td>\n",
       "      <td>1013.98</td>\n",
       "      <td>1015.94</td>\n",
       "      <td>1005.25</td>\n",
       "      <td>1027.02</td>\n",
       "      <td>...</td>\n",
       "      <td>1017.87</td>\n",
       "      <td>1013.24</td>\n",
       "      <td>1010.67</td>\n",
       "      <td>1005.12</td>\n",
       "      <td>992.82</td>\n",
       "      <td>993.27</td>\n",
       "      <td>1015.30</td>\n",
       "      <td>1025.38</td>\n",
       "      <td>1024.61</td>\n",
       "      <td>996.27</td>\n",
       "    </tr>\n",
       "    <tr>\n",
       "      <th>2015-03-20</th>\n",
       "      <td>1010.67</td>\n",
       "      <td>1010.67</td>\n",
       "      <td>1012.18</td>\n",
       "      <td>1010.99</td>\n",
       "      <td>997.43</td>\n",
       "      <td>996.39</td>\n",
       "      <td>1012.25</td>\n",
       "      <td>1013.98</td>\n",
       "      <td>1015.94</td>\n",
       "      <td>1005.25</td>\n",
       "      <td>...</td>\n",
       "      <td>1019.38</td>\n",
       "      <td>1017.87</td>\n",
       "      <td>1006.03</td>\n",
       "      <td>1002.56</td>\n",
       "      <td>993.33</td>\n",
       "      <td>997.66</td>\n",
       "      <td>1017.08</td>\n",
       "      <td>1043.73</td>\n",
       "      <td>1019.38</td>\n",
       "      <td>986.51</td>\n",
       "    </tr>\n",
       "    <tr>\n",
       "      <th>...</th>\n",
       "      <td>...</td>\n",
       "      <td>...</td>\n",
       "      <td>...</td>\n",
       "      <td>...</td>\n",
       "      <td>...</td>\n",
       "      <td>...</td>\n",
       "      <td>...</td>\n",
       "      <td>...</td>\n",
       "      <td>...</td>\n",
       "      <td>...</td>\n",
       "      <td>...</td>\n",
       "      <td>...</td>\n",
       "      <td>...</td>\n",
       "      <td>...</td>\n",
       "      <td>...</td>\n",
       "      <td>...</td>\n",
       "      <td>...</td>\n",
       "      <td>...</td>\n",
       "      <td>...</td>\n",
       "      <td>...</td>\n",
       "      <td>...</td>\n",
       "    </tr>\n",
       "    <tr>\n",
       "      <th>2018-06-15</th>\n",
       "      <td>1117.85</td>\n",
       "      <td>1117.85</td>\n",
       "      <td>1121.70</td>\n",
       "      <td>1128.55</td>\n",
       "      <td>1135.11</td>\n",
       "      <td>1131.83</td>\n",
       "      <td>1130.91</td>\n",
       "      <td>1141.12</td>\n",
       "      <td>1145.95</td>\n",
       "      <td>1141.39</td>\n",
       "      <td>...</td>\n",
       "      <td>1165.17</td>\n",
       "      <td>1175.24</td>\n",
       "      <td>1100.25</td>\n",
       "      <td>1090.62</td>\n",
       "      <td>1071.18</td>\n",
       "      <td>1065.20</td>\n",
       "      <td>1051.63</td>\n",
       "      <td>1063.71</td>\n",
       "      <td>1080.05</td>\n",
       "      <td>1127.56</td>\n",
       "    </tr>\n",
       "    <tr>\n",
       "      <th>2018-06-18</th>\n",
       "      <td>1100.25</td>\n",
       "      <td>1100.25</td>\n",
       "      <td>1117.85</td>\n",
       "      <td>1121.70</td>\n",
       "      <td>1128.55</td>\n",
       "      <td>1135.11</td>\n",
       "      <td>1131.83</td>\n",
       "      <td>1130.91</td>\n",
       "      <td>1141.12</td>\n",
       "      <td>1145.95</td>\n",
       "      <td>...</td>\n",
       "      <td>1136.72</td>\n",
       "      <td>1165.17</td>\n",
       "      <td>1071.96</td>\n",
       "      <td>1068.68</td>\n",
       "      <td>1061.68</td>\n",
       "      <td>1060.58</td>\n",
       "      <td>1058.12</td>\n",
       "      <td>1069.83</td>\n",
       "      <td>1069.04</td>\n",
       "      <td>1143.46</td>\n",
       "    </tr>\n",
       "    <tr>\n",
       "      <th>2018-06-19</th>\n",
       "      <td>1071.96</td>\n",
       "      <td>1071.96</td>\n",
       "      <td>1100.25</td>\n",
       "      <td>1117.85</td>\n",
       "      <td>1121.70</td>\n",
       "      <td>1128.55</td>\n",
       "      <td>1135.11</td>\n",
       "      <td>1131.83</td>\n",
       "      <td>1130.91</td>\n",
       "      <td>1141.12</td>\n",
       "      <td>...</td>\n",
       "      <td>1147.21</td>\n",
       "      <td>1136.72</td>\n",
       "      <td>1090.62</td>\n",
       "      <td>1071.18</td>\n",
       "      <td>1065.20</td>\n",
       "      <td>1050.60</td>\n",
       "      <td>1069.77</td>\n",
       "      <td>1085.36</td>\n",
       "      <td>1068.09</td>\n",
       "      <td>1132.47</td>\n",
       "    </tr>\n",
       "    <tr>\n",
       "      <th>2018-06-20</th>\n",
       "      <td>1090.62</td>\n",
       "      <td>1090.62</td>\n",
       "      <td>1071.96</td>\n",
       "      <td>1100.25</td>\n",
       "      <td>1117.85</td>\n",
       "      <td>1121.70</td>\n",
       "      <td>1128.55</td>\n",
       "      <td>1135.11</td>\n",
       "      <td>1131.83</td>\n",
       "      <td>1130.91</td>\n",
       "      <td>...</td>\n",
       "      <td>1159.00</td>\n",
       "      <td>1147.21</td>\n",
       "      <td>1068.68</td>\n",
       "      <td>1061.68</td>\n",
       "      <td>1060.58</td>\n",
       "      <td>1051.63</td>\n",
       "      <td>1073.20</td>\n",
       "      <td>1078.82</td>\n",
       "      <td>1077.22</td>\n",
       "      <td>1133.78</td>\n",
       "    </tr>\n",
       "    <tr>\n",
       "      <th>2018-06-21</th>\n",
       "      <td>1068.68</td>\n",
       "      <td>1068.68</td>\n",
       "      <td>1090.62</td>\n",
       "      <td>1071.96</td>\n",
       "      <td>1100.25</td>\n",
       "      <td>1117.85</td>\n",
       "      <td>1121.70</td>\n",
       "      <td>1128.55</td>\n",
       "      <td>1135.11</td>\n",
       "      <td>1131.83</td>\n",
       "      <td>...</td>\n",
       "      <td>1164.71</td>\n",
       "      <td>1159.00</td>\n",
       "      <td>1071.18</td>\n",
       "      <td>1065.20</td>\n",
       "      <td>1050.60</td>\n",
       "      <td>1058.12</td>\n",
       "      <td>1054.84</td>\n",
       "      <td>1079.87</td>\n",
       "      <td>1084.85</td>\n",
       "      <td>1122.94</td>\n",
       "    </tr>\n",
       "  </tbody>\n",
       "</table>\n",
       "<p>798 rows × 59 columns</p>\n",
       "</div>"
      ],
      "text/plain": [
       "              Close  price-0-day-ago  price-1-day-ago  price-2-day-ago  \\\n",
       "Date                                                                     \n",
       "2015-03-16   996.39           996.39          1012.25          1013.98   \n",
       "2015-03-17   997.43           997.43           996.39          1012.25   \n",
       "2015-03-18  1010.99          1010.99           997.43           996.39   \n",
       "2015-03-19  1012.18          1012.18          1010.99           997.43   \n",
       "2015-03-20  1010.67          1010.67          1012.18          1010.99   \n",
       "...             ...              ...              ...              ...   \n",
       "2018-06-15  1117.85          1117.85          1121.70          1128.55   \n",
       "2018-06-18  1100.25          1100.25          1117.85          1121.70   \n",
       "2018-06-19  1071.96          1071.96          1100.25          1117.85   \n",
       "2018-06-20  1090.62          1090.62          1071.96          1100.25   \n",
       "2018-06-21  1068.68          1068.68          1090.62          1071.96   \n",
       "\n",
       "            price-3-day-ago  price-4-day-ago  price-5-day-ago  \\\n",
       "Date                                                            \n",
       "2015-03-16          1015.94          1005.25          1027.02   \n",
       "2015-03-17          1013.98          1015.94          1005.25   \n",
       "2015-03-18          1012.25          1013.98          1015.94   \n",
       "2015-03-19           996.39          1012.25          1013.98   \n",
       "2015-03-20           997.43           996.39          1012.25   \n",
       "...                     ...              ...              ...   \n",
       "2018-06-15          1135.11          1131.83          1130.91   \n",
       "2018-06-18          1128.55          1135.11          1131.83   \n",
       "2018-06-19          1121.70          1128.55          1135.11   \n",
       "2018-06-20          1117.85          1121.70          1128.55   \n",
       "2018-06-21          1100.25          1117.85          1121.70   \n",
       "\n",
       "            price-6-day-ago  price-7-day-ago  price-8-day-ago  ...  \\\n",
       "Date                                                           ...   \n",
       "2015-03-16          1032.49          1022.09          1027.89  ...   \n",
       "2015-03-17          1027.02          1032.49          1022.09  ...   \n",
       "2015-03-18          1005.25          1027.02          1032.49  ...   \n",
       "2015-03-19          1015.94          1005.25          1027.02  ...   \n",
       "2015-03-20          1013.98          1015.94          1005.25  ...   \n",
       "...                     ...              ...              ...  ...   \n",
       "2018-06-15          1141.12          1145.95          1141.39  ...   \n",
       "2018-06-18          1130.91          1141.12          1145.95  ...   \n",
       "2018-06-19          1131.83          1130.91          1141.12  ...   \n",
       "2018-06-20          1135.11          1131.83          1130.91  ...   \n",
       "2018-06-21          1128.55          1135.11          1131.83  ...   \n",
       "\n",
       "            price-48-day-ago  price-49-day-ago  1-day-ahead  3-day-ahead  \\\n",
       "Date                                                                       \n",
       "2015-03-16            980.50            987.40       997.43      1012.18   \n",
       "2015-03-17            998.05            980.50      1010.99      1010.67   \n",
       "2015-03-18           1013.24            998.05      1012.18      1006.03   \n",
       "2015-03-19           1017.87           1013.24      1010.67      1005.12   \n",
       "2015-03-20           1019.38           1017.87      1006.03      1002.56   \n",
       "...                      ...               ...          ...          ...   \n",
       "2018-06-15           1165.17           1175.24      1100.25      1090.62   \n",
       "2018-06-18           1136.72           1165.17      1071.96      1068.68   \n",
       "2018-06-19           1147.21           1136.72      1090.62      1071.18   \n",
       "2018-06-20           1159.00           1147.21      1068.68      1061.68   \n",
       "2018-06-21           1164.71           1159.00      1071.18      1065.20   \n",
       "\n",
       "            5-day-ahead  7-day-ahead  10-day-ahead  15-day-ahead  \\\n",
       "Date                                                               \n",
       "2015-03-16      1006.03      1002.56        993.27       1027.62   \n",
       "2015-03-17      1005.12       992.82        997.66       1023.97   \n",
       "2015-03-18      1002.56       993.33       1010.04       1023.65   \n",
       "2015-03-19       992.82       993.27       1015.30       1025.38   \n",
       "2015-03-20       993.33       997.66       1017.08       1043.73   \n",
       "...                 ...          ...           ...           ...   \n",
       "2018-06-15      1071.18      1065.20       1051.63       1063.71   \n",
       "2018-06-18      1061.68      1060.58       1058.12       1069.83   \n",
       "2018-06-19      1065.20      1050.60       1069.77       1085.36   \n",
       "2018-06-20      1060.58      1051.63       1073.20       1078.82   \n",
       "2018-06-21      1050.60      1058.12       1054.84       1079.87   \n",
       "\n",
       "            20-day-ahead  30-day-ahead  \n",
       "Date                                    \n",
       "2015-03-16       1039.53       1003.19  \n",
       "2015-03-17       1033.75        990.69  \n",
       "2015-03-18       1040.23       1001.04  \n",
       "2015-03-19       1024.61        996.27  \n",
       "2015-03-20       1019.38        986.51  \n",
       "...                  ...           ...  \n",
       "2018-06-15       1080.05       1127.56  \n",
       "2018-06-18       1069.04       1143.46  \n",
       "2018-06-19       1068.09       1132.47  \n",
       "2018-06-20       1077.22       1133.78  \n",
       "2018-06-21       1084.85       1122.94  \n",
       "\n",
       "[798 rows x 59 columns]"
      ]
     },
     "execution_count": 41,
     "metadata": {},
     "output_type": "execute_result"
    }
   ],
   "source": [
    "# train_df[features]\n",
    "\n",
    "train_df"
   ]
  },
  {
   "cell_type": "code",
   "execution_count": 42,
   "metadata": {},
   "outputs": [],
   "source": [
    "from sklearn.preprocessing import MinMaxScaler\n",
    "sc = MinMaxScaler(feature_range = (0,1))\n",
    "\n",
    "with pd.option_context('mode.chained_assignment', None):\n",
    "    # Suppress warning: https://www.dataquest.io/blog/settingwithcopywarning/\n",
    "    train_df[features] = sc.fit_transform(train_df[features])\n",
    "    val_df[features] = sc.transform(val_df[features])\n"
   ]
  },
  {
   "cell_type": "code",
   "execution_count": 46,
   "metadata": {},
   "outputs": [
    {
     "data": {
      "text/plain": [
       "((798, 50), (798, 1))"
      ]
     },
     "execution_count": 46,
     "metadata": {},
     "output_type": "execute_result"
    }
   ],
   "source": [
    "X = train_df[features].values  # .values so becomes numpy array to feed to model. Ex. diabetes = datasets.load_diabetes()\n",
    "y = train_df[['1-day-ahead']].values    # Check that dimension and type same as example dataset: diabetes.data, diabetes.target\n",
    "\n",
    "X.shape, y.shape"
   ]
  },
  {
   "cell_type": "code",
   "execution_count": 47,
   "metadata": {},
   "outputs": [],
   "source": [
    "X_train = train_df[features].values\n",
    "y_train = train_df[['1-day-ahead']].values\n",
    "\n",
    "X_test = val_df[features].values\n",
    "y_test = val_df[['1-day-ahead']].values"
   ]
  },
  {
   "cell_type": "markdown",
   "metadata": {},
   "source": []
  },
  {
   "cell_type": "code",
   "execution_count": 48,
   "metadata": {},
   "outputs": [
    {
     "name": "stderr",
     "output_type": "stream",
     "text": [
      "/opt/conda/lib/python3.7/site-packages/sklearn/ensemble/_gb.py:1454: DataConversionWarning: A column-vector y was passed when a 1d array was expected. Please change the shape of y to (n_samples, ), for example using ravel().\n",
      "  y = column_or_1d(y, warn=True)\n"
     ]
    },
    {
     "name": "stdout",
     "output_type": "stream",
     "text": [
      "The mean squared error (MSE) on train set: 23.4393\n",
      "The mean squared error (MSE) on test set: 133.7156\n"
     ]
    }
   ],
   "source": [
    "params = {'n_estimators': 500,\n",
    "          'max_depth': 4,\n",
    "          'min_samples_split': 5,\n",
    "          'learning_rate': 0.01,\n",
    "          'loss': 'ls'}\n",
    "reg = ensemble.GradientBoostingRegressor(**params)\n",
    "reg.fit(X_train, y_train)\n",
    "\n",
    "mse = mean_squared_error(y_train, reg.predict(X_train))\n",
    "print(\"The mean squared error (MSE) on train set: {:.4f}\".format(mse))\n",
    "\n",
    "mse = mean_squared_error(y_test, reg.predict(X_test))\n",
    "print(\"The mean squared error (MSE) on test set: {:.4f}\".format(mse))\n",
    "\n",
    "params"
   ]
  },
  {
   "cell_type": "code",
   "execution_count": 52,
   "metadata": {},
   "outputs": [
    {
     "name": "stderr",
     "output_type": "stream",
     "text": [
      "/opt/conda/lib/python3.7/site-packages/sklearn/ensemble/_gb.py:1454: DataConversionWarning: A column-vector y was passed when a 1d array was expected. Please change the shape of y to (n_samples, ), for example using ravel().\n",
      "  y = column_or_1d(y, warn=True)\n"
     ]
    },
    {
     "name": "stdout",
     "output_type": "stream",
     "text": [
      "The mean squared error (MSE) on train set: 0.0001\n",
      "The mean squared error (MSE) on test set: 206.0441\n"
     ]
    },
    {
     "data": {
      "text/plain": [
       "{'n_estimators': 1000,\n",
       " 'max_depth': 10,\n",
       " 'min_samples_split': 5,\n",
       " 'learning_rate': 0.01,\n",
       " 'loss': 'ls'}"
      ]
     },
     "execution_count": 52,
     "metadata": {},
     "output_type": "execute_result"
    }
   ],
   "source": [
    "params = {'n_estimators': 1000,\n",
    "          'max_depth': 10,\n",
    "          'min_samples_split': 5,\n",
    "          'learning_rate': 0.01,\n",
    "          'loss': 'ls'}\n",
    "reg = ensemble.GradientBoostingRegressor(**params)\n",
    "reg.fit(X_train, y_train)\n",
    "\n",
    "mse = mean_squared_error(y_train, reg.predict(X_train))\n",
    "print(\"The mean squared error (MSE) on train set: {:.4f}\".format(mse))\n",
    "\n",
    "mse = mean_squared_error(y_test, reg.predict(X_test))\n",
    "print(\"The mean squared error (MSE) on test set: {:.4f}\".format(mse))\n",
    "\n",
    "params # Overfit"
   ]
  },
  {
   "cell_type": "code",
   "execution_count": 53,
   "metadata": {},
   "outputs": [
    {
     "name": "stderr",
     "output_type": "stream",
     "text": [
      "/opt/conda/lib/python3.7/site-packages/sklearn/ensemble/_gb.py:1454: DataConversionWarning: A column-vector y was passed when a 1d array was expected. Please change the shape of y to (n_samples, ), for example using ravel().\n",
      "  y = column_or_1d(y, warn=True)\n"
     ]
    },
    {
     "name": "stdout",
     "output_type": "stream",
     "text": [
      "The mean squared error (MSE) on train set: 4.4640\n",
      "The mean squared error (MSE) on test set: 140.1989\n"
     ]
    }
   ],
   "source": [
    "params = {'n_estimators': 1000,\n",
    "          'max_depth': 5,\n",
    "          'min_samples_split': 5,\n",
    "          'learning_rate': 0.01,\n",
    "          'loss': 'ls'}\n",
    "reg = ensemble.GradientBoostingRegressor(**params)\n",
    "reg.fit(X_train, y_train)\n",
    "\n",
    "mse = mean_squared_error(y_train, reg.predict(X_train))\n",
    "print(\"The mean squared error (MSE) on train set: {:.4f}\".format(mse))\n",
    "\n",
    "mse = mean_squared_error(y_test, reg.predict(X_test))\n",
    "print(\"The mean squared error (MSE) on test set: {:.4f}\".format(mse))"
   ]
  },
  {
   "cell_type": "markdown",
   "metadata": {},
   "source": [
    "# Try 3, 5, 7, 10, 15, 20, 30"
   ]
  },
  {
   "cell_type": "code",
   "execution_count": 54,
   "metadata": {},
   "outputs": [
    {
     "name": "stdout",
     "output_type": "stream",
     "text": [
      "Forecast: %s-day ahead\n",
      "Parameter Set: 1\n"
     ]
    },
    {
     "name": "stderr",
     "output_type": "stream",
     "text": [
      "/opt/conda/lib/python3.7/site-packages/sklearn/ensemble/_gb.py:1454: DataConversionWarning: A column-vector y was passed when a 1d array was expected. Please change the shape of y to (n_samples, ), for example using ravel().\n",
      "  y = column_or_1d(y, warn=True)\n"
     ]
    },
    {
     "name": "stdout",
     "output_type": "stream",
     "text": [
      "The mean squared error (MSE) on train set: 23.4393\n",
      "The mean squared error (MSE) on test set: 133.0530\n",
      "Parameter Set: 2\n"
     ]
    },
    {
     "name": "stderr",
     "output_type": "stream",
     "text": [
      "/opt/conda/lib/python3.7/site-packages/sklearn/ensemble/_gb.py:1454: DataConversionWarning: A column-vector y was passed when a 1d array was expected. Please change the shape of y to (n_samples, ), for example using ravel().\n",
      "  y = column_or_1d(y, warn=True)\n"
     ]
    },
    {
     "name": "stdout",
     "output_type": "stream",
     "text": [
      "The mean squared error (MSE) on train set: 0.0001\n",
      "The mean squared error (MSE) on test set: 208.2103\n",
      "Parameter Set: 3\n"
     ]
    },
    {
     "name": "stderr",
     "output_type": "stream",
     "text": [
      "/opt/conda/lib/python3.7/site-packages/sklearn/ensemble/_gb.py:1454: DataConversionWarning: A column-vector y was passed when a 1d array was expected. Please change the shape of y to (n_samples, ), for example using ravel().\n",
      "  y = column_or_1d(y, warn=True)\n"
     ]
    },
    {
     "name": "stdout",
     "output_type": "stream",
     "text": [
      "The mean squared error (MSE) on train set: 4.4640\n",
      "The mean squared error (MSE) on test set: 139.6062\n",
      "Forecast: %s-day ahead\n",
      "Parameter Set: 1\n"
     ]
    },
    {
     "name": "stderr",
     "output_type": "stream",
     "text": [
      "/opt/conda/lib/python3.7/site-packages/sklearn/ensemble/_gb.py:1454: DataConversionWarning: A column-vector y was passed when a 1d array was expected. Please change the shape of y to (n_samples, ), for example using ravel().\n",
      "  y = column_or_1d(y, warn=True)\n"
     ]
    },
    {
     "name": "stdout",
     "output_type": "stream",
     "text": [
      "The mean squared error (MSE) on train set: 23.4393\n",
      "The mean squared error (MSE) on test set: 132.9665\n",
      "Parameter Set: 2\n"
     ]
    },
    {
     "name": "stderr",
     "output_type": "stream",
     "text": [
      "/opt/conda/lib/python3.7/site-packages/sklearn/ensemble/_gb.py:1454: DataConversionWarning: A column-vector y was passed when a 1d array was expected. Please change the shape of y to (n_samples, ), for example using ravel().\n",
      "  y = column_or_1d(y, warn=True)\n"
     ]
    },
    {
     "name": "stdout",
     "output_type": "stream",
     "text": [
      "The mean squared error (MSE) on train set: 0.0001\n",
      "The mean squared error (MSE) on test set: 209.0063\n",
      "Parameter Set: 3\n"
     ]
    },
    {
     "name": "stderr",
     "output_type": "stream",
     "text": [
      "/opt/conda/lib/python3.7/site-packages/sklearn/ensemble/_gb.py:1454: DataConversionWarning: A column-vector y was passed when a 1d array was expected. Please change the shape of y to (n_samples, ), for example using ravel().\n",
      "  y = column_or_1d(y, warn=True)\n"
     ]
    },
    {
     "name": "stdout",
     "output_type": "stream",
     "text": [
      "The mean squared error (MSE) on train set: 4.4640\n",
      "The mean squared error (MSE) on test set: 140.1858\n",
      "Forecast: %s-day ahead\n",
      "Parameter Set: 1\n"
     ]
    },
    {
     "name": "stderr",
     "output_type": "stream",
     "text": [
      "/opt/conda/lib/python3.7/site-packages/sklearn/ensemble/_gb.py:1454: DataConversionWarning: A column-vector y was passed when a 1d array was expected. Please change the shape of y to (n_samples, ), for example using ravel().\n",
      "  y = column_or_1d(y, warn=True)\n"
     ]
    },
    {
     "name": "stdout",
     "output_type": "stream",
     "text": [
      "The mean squared error (MSE) on train set: 23.4393\n",
      "The mean squared error (MSE) on test set: 133.6817\n",
      "Parameter Set: 2\n"
     ]
    },
    {
     "name": "stderr",
     "output_type": "stream",
     "text": [
      "/opt/conda/lib/python3.7/site-packages/sklearn/ensemble/_gb.py:1454: DataConversionWarning: A column-vector y was passed when a 1d array was expected. Please change the shape of y to (n_samples, ), for example using ravel().\n",
      "  y = column_or_1d(y, warn=True)\n"
     ]
    },
    {
     "name": "stdout",
     "output_type": "stream",
     "text": [
      "The mean squared error (MSE) on train set: 0.0001\n",
      "The mean squared error (MSE) on test set: 208.2067\n",
      "Parameter Set: 3\n"
     ]
    },
    {
     "name": "stderr",
     "output_type": "stream",
     "text": [
      "/opt/conda/lib/python3.7/site-packages/sklearn/ensemble/_gb.py:1454: DataConversionWarning: A column-vector y was passed when a 1d array was expected. Please change the shape of y to (n_samples, ), for example using ravel().\n",
      "  y = column_or_1d(y, warn=True)\n"
     ]
    },
    {
     "name": "stdout",
     "output_type": "stream",
     "text": [
      "The mean squared error (MSE) on train set: 4.4640\n",
      "The mean squared error (MSE) on test set: 141.6114\n",
      "Forecast: %s-day ahead\n",
      "Parameter Set: 1\n"
     ]
    },
    {
     "name": "stderr",
     "output_type": "stream",
     "text": [
      "/opt/conda/lib/python3.7/site-packages/sklearn/ensemble/_gb.py:1454: DataConversionWarning: A column-vector y was passed when a 1d array was expected. Please change the shape of y to (n_samples, ), for example using ravel().\n",
      "  y = column_or_1d(y, warn=True)\n"
     ]
    },
    {
     "name": "stdout",
     "output_type": "stream",
     "text": [
      "The mean squared error (MSE) on train set: 23.4393\n",
      "The mean squared error (MSE) on test set: 132.8031\n",
      "Parameter Set: 2\n"
     ]
    },
    {
     "name": "stderr",
     "output_type": "stream",
     "text": [
      "/opt/conda/lib/python3.7/site-packages/sklearn/ensemble/_gb.py:1454: DataConversionWarning: A column-vector y was passed when a 1d array was expected. Please change the shape of y to (n_samples, ), for example using ravel().\n",
      "  y = column_or_1d(y, warn=True)\n"
     ]
    },
    {
     "name": "stdout",
     "output_type": "stream",
     "text": [
      "The mean squared error (MSE) on train set: 0.0001\n",
      "The mean squared error (MSE) on test set: 204.5048\n",
      "Parameter Set: 3\n"
     ]
    },
    {
     "name": "stderr",
     "output_type": "stream",
     "text": [
      "/opt/conda/lib/python3.7/site-packages/sklearn/ensemble/_gb.py:1454: DataConversionWarning: A column-vector y was passed when a 1d array was expected. Please change the shape of y to (n_samples, ), for example using ravel().\n",
      "  y = column_or_1d(y, warn=True)\n"
     ]
    },
    {
     "name": "stdout",
     "output_type": "stream",
     "text": [
      "The mean squared error (MSE) on train set: 4.4640\n",
      "The mean squared error (MSE) on test set: 141.4862\n",
      "Forecast: %s-day ahead\n",
      "Parameter Set: 1\n"
     ]
    },
    {
     "name": "stderr",
     "output_type": "stream",
     "text": [
      "/opt/conda/lib/python3.7/site-packages/sklearn/ensemble/_gb.py:1454: DataConversionWarning: A column-vector y was passed when a 1d array was expected. Please change the shape of y to (n_samples, ), for example using ravel().\n",
      "  y = column_or_1d(y, warn=True)\n"
     ]
    },
    {
     "name": "stdout",
     "output_type": "stream",
     "text": [
      "The mean squared error (MSE) on train set: 23.4393\n",
      "The mean squared error (MSE) on test set: 134.5973\n",
      "Parameter Set: 2\n"
     ]
    },
    {
     "name": "stderr",
     "output_type": "stream",
     "text": [
      "/opt/conda/lib/python3.7/site-packages/sklearn/ensemble/_gb.py:1454: DataConversionWarning: A column-vector y was passed when a 1d array was expected. Please change the shape of y to (n_samples, ), for example using ravel().\n",
      "  y = column_or_1d(y, warn=True)\n"
     ]
    },
    {
     "name": "stdout",
     "output_type": "stream",
     "text": [
      "The mean squared error (MSE) on train set: 0.0001\n",
      "The mean squared error (MSE) on test set: 208.2473\n",
      "Parameter Set: 3\n"
     ]
    },
    {
     "name": "stderr",
     "output_type": "stream",
     "text": [
      "/opt/conda/lib/python3.7/site-packages/sklearn/ensemble/_gb.py:1454: DataConversionWarning: A column-vector y was passed when a 1d array was expected. Please change the shape of y to (n_samples, ), for example using ravel().\n",
      "  y = column_or_1d(y, warn=True)\n"
     ]
    },
    {
     "name": "stdout",
     "output_type": "stream",
     "text": [
      "The mean squared error (MSE) on train set: 4.4640\n",
      "The mean squared error (MSE) on test set: 140.1577\n",
      "Forecast: %s-day ahead\n",
      "Parameter Set: 1\n"
     ]
    },
    {
     "name": "stderr",
     "output_type": "stream",
     "text": [
      "/opt/conda/lib/python3.7/site-packages/sklearn/ensemble/_gb.py:1454: DataConversionWarning: A column-vector y was passed when a 1d array was expected. Please change the shape of y to (n_samples, ), for example using ravel().\n",
      "  y = column_or_1d(y, warn=True)\n"
     ]
    },
    {
     "name": "stdout",
     "output_type": "stream",
     "text": [
      "The mean squared error (MSE) on train set: 23.4393\n",
      "The mean squared error (MSE) on test set: 133.7526\n",
      "Parameter Set: 2\n"
     ]
    },
    {
     "name": "stderr",
     "output_type": "stream",
     "text": [
      "/opt/conda/lib/python3.7/site-packages/sklearn/ensemble/_gb.py:1454: DataConversionWarning: A column-vector y was passed when a 1d array was expected. Please change the shape of y to (n_samples, ), for example using ravel().\n",
      "  y = column_or_1d(y, warn=True)\n"
     ]
    },
    {
     "name": "stdout",
     "output_type": "stream",
     "text": [
      "The mean squared error (MSE) on train set: 0.0001\n",
      "The mean squared error (MSE) on test set: 209.0933\n",
      "Parameter Set: 3\n"
     ]
    },
    {
     "name": "stderr",
     "output_type": "stream",
     "text": [
      "/opt/conda/lib/python3.7/site-packages/sklearn/ensemble/_gb.py:1454: DataConversionWarning: A column-vector y was passed when a 1d array was expected. Please change the shape of y to (n_samples, ), for example using ravel().\n",
      "  y = column_or_1d(y, warn=True)\n"
     ]
    },
    {
     "name": "stdout",
     "output_type": "stream",
     "text": [
      "The mean squared error (MSE) on train set: 4.4640\n",
      "The mean squared error (MSE) on test set: 141.4050\n",
      "Forecast: %s-day ahead\n",
      "Parameter Set: 1\n"
     ]
    },
    {
     "name": "stderr",
     "output_type": "stream",
     "text": [
      "/opt/conda/lib/python3.7/site-packages/sklearn/ensemble/_gb.py:1454: DataConversionWarning: A column-vector y was passed when a 1d array was expected. Please change the shape of y to (n_samples, ), for example using ravel().\n",
      "  y = column_or_1d(y, warn=True)\n"
     ]
    },
    {
     "name": "stdout",
     "output_type": "stream",
     "text": [
      "The mean squared error (MSE) on train set: 23.4393\n",
      "The mean squared error (MSE) on test set: 134.3678\n",
      "Parameter Set: 2\n"
     ]
    },
    {
     "name": "stderr",
     "output_type": "stream",
     "text": [
      "/opt/conda/lib/python3.7/site-packages/sklearn/ensemble/_gb.py:1454: DataConversionWarning: A column-vector y was passed when a 1d array was expected. Please change the shape of y to (n_samples, ), for example using ravel().\n",
      "  y = column_or_1d(y, warn=True)\n"
     ]
    },
    {
     "name": "stdout",
     "output_type": "stream",
     "text": [
      "The mean squared error (MSE) on train set: 0.0001\n",
      "The mean squared error (MSE) on test set: 208.8344\n",
      "Parameter Set: 3\n"
     ]
    },
    {
     "name": "stderr",
     "output_type": "stream",
     "text": [
      "/opt/conda/lib/python3.7/site-packages/sklearn/ensemble/_gb.py:1454: DataConversionWarning: A column-vector y was passed when a 1d array was expected. Please change the shape of y to (n_samples, ), for example using ravel().\n",
      "  y = column_or_1d(y, warn=True)\n"
     ]
    },
    {
     "name": "stdout",
     "output_type": "stream",
     "text": [
      "The mean squared error (MSE) on train set: 4.4640\n",
      "The mean squared error (MSE) on test set: 140.4479\n"
     ]
    }
   ],
   "source": [
    "params_set = {}\n",
    "\n",
    "params_set[1] = {'n_estimators': 500,\n",
    "              'max_depth': 4,\n",
    "              'min_samples_split': 5,\n",
    "              'learning_rate': 0.01,\n",
    "              'loss': 'ls'}\n",
    "params_set[2] = {'n_estimators': 1000,\n",
    "              'max_depth': 10,\n",
    "              'min_samples_split': 5,\n",
    "              'learning_rate': 0.01,\n",
    "              'loss': 'ls'}\n",
    "params_set[3] = {'n_estimators': 1000,\n",
    "              'max_depth': 5,\n",
    "              'min_samples_split': 5,\n",
    "              'learning_rate': 0.01,\n",
    "              'loss': 'ls'}\n",
    "\n",
    "models = []\n",
    "\n",
    "for fh in 3, 5, 7, 10, 15, 20, 30:\n",
    "    print(\"Forecast: %s-day ahead\" % fh)\n",
    "    for k, params in params_set.items():\n",
    "        print(\"Parameter Set: %s\" % k)\n",
    "        reg = ensemble.GradientBoostingRegressor(**params)\n",
    "        \n",
    "        X_train = train_df[features].values\n",
    "        y_train = train_df[['%s-day-ahead' % fh]].values\n",
    "\n",
    "        X_test = val_df[features].values\n",
    "        y_test = val_df[['%s-day-ahead' % fh]].values\n",
    "        \n",
    "        reg.fit(X_train, y_train)\n",
    "\n",
    "        mse = mean_squared_error(y_train, reg.predict(X_train))\n",
    "        print(\"The mean squared error (MSE) on train set: {:.4f}\".format(mse))\n",
    "\n",
    "        mse = mean_squared_error(y_test, reg.predict(X_test))\n",
    "        print(\"The mean squared error (MSE) on test set: {:.4f}\".format(mse))"
   ]
  },
  {
   "cell_type": "code",
   "execution_count": null,
   "metadata": {},
   "outputs": [],
   "source": []
  }
 ],
 "metadata": {
  "kernelspec": {
   "display_name": "Python 3",
   "language": "python",
   "name": "python3"
  },
  "language_info": {
   "codemirror_mode": {
    "name": "ipython",
    "version": 3
   },
   "file_extension": ".py",
   "mimetype": "text/x-python",
   "name": "python",
   "nbconvert_exporter": "python",
   "pygments_lexer": "ipython3",
   "version": "3.7.4"
  }
 },
 "nbformat": 4,
 "nbformat_minor": 4
}
