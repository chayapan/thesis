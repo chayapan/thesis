{
 "cells": [
  {
   "cell_type": "code",
   "execution_count": 5,
   "metadata": {},
   "outputs": [],
   "source": [
    "from update_historical_data import update_SET100"
   ]
  },
  {
   "cell_type": "code",
   "execution_count": null,
   "metadata": {},
   "outputs": [
    {
     "name": "stdout",
     "output_type": "stream",
     "text": [
      "AAV\n",
      "ADVANC\n",
      "AEONTS\n",
      "AMATA\n",
      "ANAN\n",
      "AOT\n",
      "AP\n",
      "ASP\n",
      "AWC\n",
      "BA\n",
      "BANPU\n",
      "BAY\n",
      "BBL\n",
      "BCH\n",
      "BCP\n",
      "BCPG\n",
      "BDMS\n",
      "BEAUTY\n",
      "BEC\n",
      "BEM\n",
      "BGRIM\n",
      "BH\n",
      "BIG\n",
      "BJC\n",
      "BJCHI\n",
      "BLA\n",
      "BLAND\n",
      "BPP\n",
      "BTS\n",
      "CBG\n",
      "CENTEL\n",
      "CHG\n",
      "CK\n",
      "CKP\n",
      "COM7\n",
      "CPALL\n",
      "CPF\n",
      "CPN\n",
      "DELTA\n",
      "DEMCO\n",
      "DTAC\n",
      "EA\n",
      "EGCO\n",
      "EPG\n",
      "ERW\n",
      "ESSO\n",
      "GOLD\n",
      "Error: GOLD No data fetched for symbol GOLD.BK using YahooDailyReader\n",
      "GFPT\n",
      "GGC\n",
      "GL\n",
      "GLOBAL\n",
      "GPSC\n",
      "GULF\n",
      "GUNKUL\n",
      "HANA\n",
      "HMPRO\n",
      "ICHI\n",
      "INTUCH\n",
      "IRPC\n",
      "ITD\n",
      "IVL\n",
      "JAS\n",
      "JMART\n",
      "JMT\n",
      "JWD\n",
      "KAMART\n",
      "KBANK\n",
      "KCE\n",
      "KKP\n",
      "KTB\n",
      "KTC\n",
      "KTIS\n",
      "LH\n",
      "LHFG\n",
      "LOXLEY\n"
     ]
    }
   ],
   "source": [
    "update_SET100()"
   ]
  },
  {
   "cell_type": "code",
   "execution_count": null,
   "metadata": {},
   "outputs": [],
   "source": []
  }
 ],
 "metadata": {
  "kernelspec": {
   "display_name": "Python 3",
   "language": "python",
   "name": "python3"
  },
  "language_info": {
   "codemirror_mode": {
    "name": "ipython",
    "version": 3
   },
   "file_extension": ".py",
   "mimetype": "text/x-python",
   "name": "python",
   "nbconvert_exporter": "python",
   "pygments_lexer": "ipython3",
   "version": "3.7.4"
  }
 },
 "nbformat": 4,
 "nbformat_minor": 4
}
