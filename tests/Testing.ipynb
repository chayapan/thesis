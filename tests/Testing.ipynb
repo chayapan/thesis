{
 "cells": [
  {
   "cell_type": "markdown",
   "metadata": {},
   "source": [
    "Set up tests in tests/\n",
    "\n",
    "pytest.main([\"-q\"])\n",
    "\n",
    "https://pytest.org/en/stable/usage.html\n",
    "\n",
    "\n",
    "Recommend project layout.\n",
    "https://blog.ionelmc.ro/2014/05/25/python-packaging/#the-structure\n",
    "\n",
    "\n",
    "Write tests.\n",
    "https://docs.pytest.org/en/latest/getting-started.html"
   ]
  },
  {
   "cell_type": "code",
   "execution_count": 8,
   "metadata": {},
   "outputs": [],
   "source": [
    "import os\n",
    "import pytest\n",
    "os.chdir('/opt/workspace/tests')"
   ]
  },
  {
   "cell_type": "code",
   "execution_count": 9,
   "metadata": {},
   "outputs": [],
   "source": [
    "\n",
    "\n",
    "@pytest.fixture\n",
    "def error_fixture():\n",
    "    assert 0\n",
    "\n",
    "\n",
    "def test_ok():\n",
    "    print(\"ok\")\n",
    "\n",
    "\n",
    "def test_fail():\n",
    "    assert 0\n",
    "\n",
    "\n",
    "def test_error(error_fixture):\n",
    "    pass\n",
    "\n",
    "\n",
    "def test_skip():\n",
    "    pytest.skip(\"skipping this test\")\n",
    "\n",
    "\n",
    "def test_xfail():\n",
    "    pytest.xfail(\"xfailing this test\")\n",
    "\n",
    "\n",
    "@pytest.mark.xfail(reason=\"always xfail\")\n",
    "def test_xpass():\n",
    "    pass"
   ]
  },
  {
   "cell_type": "code",
   "execution_count": 7,
   "metadata": {},
   "outputs": [
    {
     "name": "stdout",
     "output_type": "stream",
     "text": [
      "F                                                                        [100%]\n",
      "=================================== FAILURES ===================================\n",
      "_________________________________ test_answer __________________________________\n",
      "\n",
      "    def test_answer():\n",
      ">       assert func(3) == 5\n",
      "E       assert 4 == 5\n",
      "E        +  where 4 = func(3)\n",
      "\n",
      "test_stub.py:7: AssertionError\n",
      "=========================== short test summary info ============================\n",
      "FAILED test_stub.py::test_answer - assert 4 == 5\n",
      "1 failed in 0.06s\n"
     ]
    },
    {
     "data": {
      "text/plain": [
       "<ExitCode.TESTS_FAILED: 1>"
      ]
     },
     "execution_count": 7,
     "metadata": {},
     "output_type": "execute_result"
    }
   ],
   "source": [
    "pytest.main([\"-q\"])"
   ]
  },
  {
   "cell_type": "code",
   "execution_count": null,
   "metadata": {},
   "outputs": [],
   "source": []
  }
 ],
 "metadata": {
  "kernelspec": {
   "display_name": "Python 3",
   "language": "python",
   "name": "python3"
  },
  "language_info": {
   "codemirror_mode": {
    "name": "ipython",
    "version": 3
   },
   "file_extension": ".py",
   "mimetype": "text/x-python",
   "name": "python",
   "nbconvert_exporter": "python",
   "pygments_lexer": "ipython3",
   "version": "3.7.4"
  }
 },
 "nbformat": 4,
 "nbformat_minor": 4
}
