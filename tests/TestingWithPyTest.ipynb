{
 "cells": [
  {
   "cell_type": "markdown",
   "metadata": {},
   "source": [
    "\n",
    "Need to set up tests in tests/\n",
    "\n",
    "pytest.main([\"-q\"])\n",
    "\n",
    "https://pytest.org/en/stable/usage.html\n",
    "\n",
    "\n",
    "Recommend project layout.\n",
    "https://blog.ionelmc.ro/2014/05/25/python-packaging/#the-structure\n",
    "\n",
    "\n",
    "Write tests.\n",
    "https://docs.pytest.org/en/latest/getting-started.html\n",
    "\n",
    "See notes at.\n",
    "https://redmine.corp.disqrete.com/projects/technology-stack/wiki/PyTest"
   ]
  },
  {
   "cell_type": "code",
   "execution_count": 1,
   "metadata": {},
   "outputs": [],
   "source": [
    "import pytest"
   ]
  },
  {
   "cell_type": "code",
   "execution_count": 2,
   "metadata": {},
   "outputs": [],
   "source": [
    "# content of test_sample.py\n",
    "def func(x):\n",
    "    return x + 1\n",
    "\n",
    "\n",
    "def test_answer():\n",
    "    assert func(3) == 5\n",
    "\n",
    "\n",
    "\n",
    "@pytest.fixture\n",
    "def error_fixture():\n",
    "    assert 0\n",
    "\n",
    "\n",
    "def test_ok():\n",
    "    print(\"ok\")\n",
    "\n",
    "\n",
    "def test_fail():\n",
    "    assert 0\n",
    "\n",
    "\n",
    "def test_error(error_fixture):\n",
    "    pass\n",
    "\n",
    "\n",
    "def test_skip():\n",
    "    pytest.skip(\"skipping this test\")\n",
    "\n",
    "\n",
    "def test_xfail():\n",
    "    pytest.xfail(\"xfailing this test\")\n",
    "\n",
    "\n",
    "@pytest.mark.xfail(reason=\"always xfail\")\n",
    "def test_xpass():\n",
    "    pass"
   ]
  },
  {
   "cell_type": "code",
   "execution_count": 3,
   "metadata": {},
   "outputs": [
    {
     "name": "stdout",
     "output_type": "stream",
     "text": [
      ".F.FEsxX                                                                 [100%]\n",
      "==================================== ERRORS ====================================\n",
      "_________________________ ERROR at setup of test_error _________________________\n",
      "\n",
      "    @pytest.fixture\n",
      "    def error_fixture():\n",
      ">       assert 0\n",
      "E       assert 0\n",
      "\n",
      "test_stub.py:15: AssertionError\n",
      "=================================== FAILURES ===================================\n",
      "_________________________________ test_answer __________________________________\n",
      "\n",
      "    def test_answer():\n",
      ">       assert func(3) == 5\n",
      "E       assert 4 == 5\n",
      "E        +  where 4 = func(3)\n",
      "\n",
      "test_stub.py:9: AssertionError\n",
      "__________________________________ test_fail ___________________________________\n",
      "\n",
      "    def test_fail():\n",
      ">       assert 0\n",
      "E       assert 0\n",
      "\n",
      "test_stub.py:23: AssertionError\n",
      "=========================== short test summary info ============================\n",
      "FAILED test_stub.py::test_answer - assert 4 == 5\n",
      "FAILED test_stub.py::test_fail - assert 0\n",
      "ERROR test_stub.py::test_error - assert 0\n",
      "2 failed, 2 passed, 1 skipped, 1 xfailed, 1 xpassed, 1 error in 1.50s\n"
     ]
    },
    {
     "data": {
      "text/plain": [
       "<ExitCode.TESTS_FAILED: 1>"
      ]
     },
     "execution_count": 3,
     "metadata": {},
     "output_type": "execute_result"
    }
   ],
   "source": [
    "pytest.main([\"-q\"])"
   ]
  },
  {
   "cell_type": "code",
   "execution_count": null,
   "metadata": {},
   "outputs": [],
   "source": []
  }
 ],
 "metadata": {
  "kernelspec": {
   "display_name": "Python 3",
   "language": "python",
   "name": "python3"
  },
  "language_info": {
   "codemirror_mode": {
    "name": "ipython",
    "version": 3
   },
   "file_extension": ".py",
   "mimetype": "text/x-python",
   "name": "python",
   "nbconvert_exporter": "python",
   "pygments_lexer": "ipython3",
   "version": "3.7.4"
  }
 },
 "nbformat": 4,
 "nbformat_minor": 4
}
